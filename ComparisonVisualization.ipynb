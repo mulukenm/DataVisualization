{
 "cells": [
  {
   "cell_type": "code",
   "execution_count": null,
   "metadata": {},
   "outputs": [],
   "source": [
    "# Importing  libraries (packages)\n",
    "import os\n",
    "import sys\n",
    "import six # Python 2 and 3 compatibility library; provides utility functions for smoothing over differences between versions \n",
    "import datetime\n",
    "import pandas as pd\n",
    "import numpy as np\n",
    "import seaborn as sns\n",
    "import matplotlib.pyplot as plt\n",
    "sns.set(style=\"ticks\", color_codes=True)\n",
    "import warnings\n",
    "warnings.filterwarnings(\"ignore\")\n",
    "plt.style.use('ggplot')\n",
    "print( \"Necessary packages/libraries are imported at \" + str( datetime.datetime.now() ) )"
   ]
  },
  {
   "cell_type": "code",
   "execution_count": null,
   "metadata": {},
   "outputs": [],
   "source": [
    "# setting up the HTML with the necessary javascript to display charts \n",
    "from IPython.display import display, HTML\n",
    "\n",
    "base_html = \"\"\"\n",
    "<!DOCTYPE html>\n",
    "<html>\n",
    "  <head>\n",
    "  <script type=\"text/javascript\" src=\"http://kozea.github.com/pygal.js/javascripts/svg.jquery.js\"></script>\n",
    "  <script type=\"text/javascript\" src=\"https://kozea.github.io/pygal.js/2.0.x/pygal-tooltips.min.js\"\"></script>\n",
    "  </head>\n",
    "  <body>\n",
    "    <figure>\n",
    "      {rendered_chart}\n",
    "    </figure>\n",
    "  </body>\n",
    "</html>\n",
    "\"\"\""
   ]
  },
  {
   "cell_type": "code",
   "execution_count": null,
   "metadata": {},
   "outputs": [],
   "source": [
    "# Doctorate Recipients by Demography--- Doctrate reciepients by Citizenship,  Race/Ethnicity, Sex, S&E Fields, Broad Fields, Detailed Fields, and Year\n",
    "# Data Download from NCSES Interactive Data Tool\n",
    "df = pd.read_csv('../../WorkingFiles/NSF_NCSES/Data/SED_export_table_2020-11-12T19_44_35.595Z.csv', skiprows=[0], header=[1])\n",
    "df = df.set_index(['Citizenship','S&E Fields', 'Broad Fields', 'Detailed Fields', 'Race and Ethnicity','Sex'])\n",
    "df.head()"
   ]
  },
  {
   "cell_type": "code",
   "execution_count": null,
   "metadata": {
    "scrolled": true
   },
   "outputs": [],
   "source": [
    "#  Doctorate Recipients -------- Data Download from NCSES Interactive Data Tool\n",
    "df1 = pd.read_csv('../../WorkingFiles/NSF_NCSES/Data/SED_Export_2020-06-17T23_22_18.852Z.csv', skiprows=[0], header=[1])\n",
    "df1 = df1.set_index(['S&E Fields', 'Broad Fields', 'Detailed Fields'])\n",
    "df1.head()\n",
    "# df1.dtypes\n",
    "# df1.shape"
   ]
  },
  {
   "cell_type": "code",
   "execution_count": null,
   "metadata": {},
   "outputs": [],
   "source": [
    "df1s = df1.stack()\n",
    "df1s =df1s.to_frame()\n",
    "df1s.head(10)\n",
    "df1s = df1s.reset_index()\n",
    "df1s.columns = ['S&E Fields', 'Broad Fields', 'Detailed Fields', 'Year', 'Number']\n",
    "# df1s.columns\n",
    "df1s.head()\n",
    "# df1s.shape"
   ]
  },
  {
   "cell_type": "code",
   "execution_count": null,
   "metadata": {},
   "outputs": [],
   "source": [
    "df1s = df1s[df1s['Detailed Fields'] != 'Total']\n",
    "df1s = df1s.reset_index()\n",
    "df1s = df1s[['S&E Fields', 'Broad Fields', 'Detailed Fields', 'Year', 'Number']]\n",
    "# df1s[\"Number\"] = df1s[\"Number\"].astype(str).astype(float)\n",
    "# df1s.head(3)\n",
    "# df1s.tail(3)\n",
    "# df1s.shape"
   ]
  },
  {
   "cell_type": "code",
   "execution_count": null,
   "metadata": {},
   "outputs": [],
   "source": [
    "# Replace no data values '-' to Nan so that it can be dropped\n",
    "df1s['Number'].replace('-', np.nan, inplace=True)\n",
    "df1s = df1s.dropna()\n",
    "#df1s.describe\n",
    "#df1s.dtypes\n",
    "\n",
    "# Converting from object to integer\n",
    "df1s[\"Number\"] = df1s[\"Number\"].astype(str).astype(int)\n",
    "df1s.dtypes\n",
    "df1s.head(30)\n",
    "#df1s.shape"
   ]
  },
  {
   "cell_type": "code",
   "execution_count": null,
   "metadata": {},
   "outputs": [],
   "source": [
    "p1 =  df1s.groupby(['S&E Fields', 'Year'])['Number'].sum()\n",
    "p1 = p1.reset_index()\n",
    "p1.head(20)\n",
    "p1=p1.pivot(index='Year', columns='S&E Fields', values='Number')\n",
    "p1.head(40)\n",
    "p1.shape\n",
    "# # Adding the stacked=True option to plot() \n",
    "# # creates a stacked bar plot\n",
    "# p1.plot(kind='barh',colormap='tab20',figsize=(8, 10), width=1.0, stacked=True).legend(\n",
    "#     loc='lower right', ncol=1, title=\"S&E Fields \")\n",
    "# plt.title(\"Number of Doctrate Reciepients by Year (S&E and Non S&E)\")\n",
    "# plt.xlabel(\"Number\")\n",
    "# plt.ylabel(\"Year\")"
   ]
  },
  {
   "cell_type": "code",
   "execution_count": null,
   "metadata": {},
   "outputs": [],
   "source": [
    "p2 =  df1s.groupby(['Broad Fields', 'Year'])['Number'].sum()\n",
    "p2 = p2.reset_index()\n",
    "p2=p2.pivot(index='Year', columns='Broad Fields', values='Number')\n",
    "\n",
    "\n",
    "# Adding the stacked=True option to plot() \n",
    "# creates a stacked bar plot\n",
    "p2.plot(kind='barh',colormap='tab20',figsize=(10, 12), width=1.0, stacked=True).legend(\n",
    "    loc='lower right', ncol=1, title=\"Broad Fields \")\n",
    "plt.title(\"Number of Doctrate Reciepients by Broad Fields and Year\")\n",
    "plt.xlabel(\"Number\")\n",
    "plt.ylabel(\"Year\")"
   ]
  },
  {
   "cell_type": "code",
   "execution_count": null,
   "metadata": {},
   "outputs": [],
   "source": [
    "p3 =  df1s.groupby(['Detailed Fields', 'Year'])['Number'].sum()\n",
    "p3 = p3.reset_index()\n",
    "p3=p3.pivot(index='Year', columns='Detailed Fields', values='Number')\n",
    "\n",
    "\n",
    "# Adding the stacked=True option to plot() \n",
    "# creates a stacked bar plot\n",
    "p3.plot(kind='barh',colormap='tab20b',figsize=(15, 18), width=1.0, stacked=True).legend(\n",
    "    loc='lower right', ncol=1, title=\"Detailed Fields \")\n",
    "plt.title(\"Number of Doctrate Reciepients by Detailed Fields and Year\")\n",
    "plt.xlabel(\"Number\")\n",
    "plt.ylabel(\"Year\")\n",
    "#plt.legend(title=\"Line\", loc='upper left', handles=handles[::-1])"
   ]
  },
  {
   "cell_type": "code",
   "execution_count": null,
   "metadata": {},
   "outputs": [],
   "source": [
    "df1s['S&E Fields'].unique()\n",
    "df.count()\n",
    "\n",
    "# df1s['Broad Fields'].unique()\n",
    "# df = df1s.groupby('Broad Fields')['Number'].nunique()\n",
    "# df.count()\n",
    "\n",
    "# df1s['Detailed Fields'].unique()\n",
    "# df = df1s.groupby('Detailed Fields')['Number'].nunique()\n",
    "# df.count()\n",
    "\n",
    "df1s['Year'].unique()\n",
    "df = df1s.groupby('Year')['Number'].nunique()\n",
    "df.count()"
   ]
  },
  {
   "cell_type": "code",
   "execution_count": null,
   "metadata": {},
   "outputs": [],
   "source": [
    "# Setting an index of three columns to conduct aggregation\n",
    "#SE_NSE = df1s.set_index(['Detailed Fields'])\n",
    "# SE_NSE = SE_NSE.groupby(['S&E Fields','Broad Fields', 'Year'])['Number'].sum()\n",
    "# #SE_NSE=SE_NSE.sum(level='Detailed Fields')\n",
    "# SE_NSE = SE_NSE.to_frame()\n",
    "# SE_NSE = SE_NSE.reset_index()\n",
    "# SE_NSE.head(20)\n",
    "# #SE_NSE.columns\n",
    "# #SE_NSE.shape"
   ]
  },
  {
   "cell_type": "code",
   "execution_count": null,
   "metadata": {},
   "outputs": [],
   "source": [
    "#df1s.columns\n",
    "#SE_NSE1.columns\n",
    "SE_NSE1=df1s[['Detailed Fields', 'Year', 'Number']]"
   ]
  },
  {
   "cell_type": "code",
   "execution_count": null,
   "metadata": {},
   "outputs": [],
   "source": [
    "SE_NSE2=SE_NSE1.pivot(index='Detailed Fields', columns='Year', values='Number')"
   ]
  },
  {
   "cell_type": "code",
   "execution_count": null,
   "metadata": {},
   "outputs": [],
   "source": [
    "dic = SE_NSE2.to_dict('split')\n",
    "#SE_NSE2.to_dict()\n",
    "dic.values()\n",
    "dic.keys()"
   ]
  },
  {
   "cell_type": "code",
   "execution_count": null,
   "metadata": {},
   "outputs": [],
   "source": [
    "print(dic)\n",
    "dic2 = ['index', 'data']\n",
    "[dic[x] for x in dic2]"
   ]
  },
  {
   "cell_type": "code",
   "execution_count": null,
   "metadata": {},
   "outputs": [],
   "source": [
    "dic2[0]"
   ]
  },
  {
   "cell_type": "code",
   "execution_count": null,
   "metadata": {},
   "outputs": [],
   "source": [
    "dic['data']\n",
    "#len(dic['data'])\n",
    "#plt.plot(dic['data'])"
   ]
  },
  {
   "cell_type": "code",
   "execution_count": null,
   "metadata": {},
   "outputs": [],
   "source": [
    "dic['index']\n",
    "len(dic['index'])"
   ]
  },
  {
   "cell_type": "code",
   "execution_count": null,
   "metadata": {},
   "outputs": [],
   "source": [
    "dic['columns']\n",
    "len(dic['columns'])"
   ]
  },
  {
   "cell_type": "code",
   "execution_count": null,
   "metadata": {},
   "outputs": [],
   "source": [
    "dic2 = dic['index'] + dic['data']\n",
    "dic"
   ]
  },
  {
   "cell_type": "code",
   "execution_count": null,
   "metadata": {},
   "outputs": [],
   "source": [
    "for key in dic.keys():\n",
    "  print(key)"
   ]
  },
  {
   "cell_type": "code",
   "execution_count": null,
   "metadata": {},
   "outputs": [],
   "source": [
    "type(dic['index'])"
   ]
  },
  {
   "cell_type": "code",
   "execution_count": null,
   "metadata": {},
   "outputs": [],
   "source": [
    "df = pd.DataFrame({'col1': [1, 2],\n",
    "...                    'col2': [0.5, 0.75]},\n",
    "...                   index=['a', 'b'])\n",
    "df.columns"
   ]
  },
  {
   "cell_type": "code",
   "execution_count": null,
   "metadata": {},
   "outputs": [],
   "source": [
    "df.head()"
   ]
  },
  {
   "cell_type": "code",
   "execution_count": null,
   "metadata": {
    "scrolled": true
   },
   "outputs": [],
   "source": [
    "dic= df.to_dict()\n",
    "dic.keys()"
   ]
  },
  {
   "cell_type": "code",
   "execution_count": null,
   "metadata": {},
   "outputs": [],
   "source": [
    "df.to_dict('split')\n"
   ]
  },
  {
   "cell_type": "code",
   "execution_count": null,
   "metadata": {},
   "outputs": [],
   "source": [
    "\n",
    "df = SE_NSE1.set_index('Year')\n",
    "#print(df.T.to_dict(orient='list'))\n",
    "print(df)"
   ]
  },
  {
   "cell_type": "code",
   "execution_count": null,
   "metadata": {},
   "outputs": [],
   "source": []
  },
  {
   "cell_type": "code",
   "execution_count": null,
   "metadata": {
    "scrolled": true
   },
   "outputs": [],
   "source": [
    "# Doctorate Recipients by Demographic Characteristics ---- Data by Citizenship,  Race/Ethnicity, Sex, S&E Fields, Broad Fields, Detailed Fields, and Year\n",
    "# Data Download from NCSES Interactive Data Tool\n",
    "df2 = pd.read_csv('../../WorkingFiles/NSF_NCSES/Data/SED_Export_2020-06-17T23_29_53.896Z.csv', skiprows=[0], header=[1])\n",
    "df2 = df2.set_index(['Citizenship','Race and Ethnicity', 'Sex','S&E Fields', 'Broad Fields', 'Detailed Fields'])\n",
    "df2.head()"
   ]
  },
  {
   "cell_type": "code",
   "execution_count": null,
   "metadata": {},
   "outputs": [],
   "source": [
    "df2s = df2.stack()\n",
    "df2s =df2s.to_frame()\n",
    "\n",
    "df2s = df2s.reset_index()\n",
    "df2s.columns = ['Citizenship','Race and Ethnicity', 'Sex','S&E Fields', 'Broad Fields', 'Detailed Fields', 'Year', 'Number']\n",
    "df2s.head(10)"
   ]
  },
  {
   "cell_type": "code",
   "execution_count": null,
   "metadata": {},
   "outputs": [],
   "source": [
    "df2s = df2s[df2s['Detailed Fields'] != 'Total']\n",
    "df2s = df2s.reset_index()\n",
    "df2s = df2s[['Citizenship','Race and Ethnicity', 'Sex','S&E Fields', 'Broad Fields', 'Detailed Fields', 'Year', 'Number']]\n",
    "df2s.head()"
   ]
  },
  {
   "cell_type": "code",
   "execution_count": null,
   "metadata": {},
   "outputs": [],
   "source": []
  },
  {
   "cell_type": "code",
   "execution_count": null,
   "metadata": {},
   "outputs": [],
   "source": [
    "import pygal\n",
    "from pygal.style import LightSolarizedStyle\n",
    "\n",
    "chart = pygal.Bar(margin_bottom=10,#            \n",
    "                  height=450,\n",
    "                  # style = neonstyle, # Set the drawing style, Pygal has 23 style,\n",
    "                 # Other optional style #: 'BlueStyle', 'CleanStyle', 'DarkColorizedStyle', 'DarkGreenBlueStyle', 'DarkGreenStyle', 'DarkSolarizedStyle', 'DarkStyle', 'DarkenStyle', 'DefaultStyle', 'DesaturateStyle', 'LightColorizedStyle', 'LightGreenStyle', 'LightSolarizedStyle', 'LightStyle', 'LightenStyle', 'NeonStyle', 'ParametricStyleBase', 'RedBlueStyle', 'RotateStyle', 'SaturateStyle', 'SolidColorStyle', 'Style', 'TurquoiseStyle'\n",
    "                  \n",
    "                  ## Title Settings\n",
    "                  title=u'Some points', #      \n",
    "                  x_title='X Axis',#x axis title\n",
    "                  y_title='Y Axis',#Y ax\n",
    "                  \n",
    "                  ## Label Settings\n",
    "                  show_x_labels=True,# Show x-axis tag\n",
    "                  x_label_rotation=20,#x axis tag tilt angle\n",
    "                  x_labels = list('ABCD'),# Custom X-axis tag\n",
    "                  value_formatter = lambda x: \"%.2f\" % x,#Y shaft scale format output\n",
    "                  \n",
    "                  ##     lnd settings\n",
    "                  show_legend=True,#      \n",
    "                  legend_at_bottom=True,#      \n",
    "                  legend_at_bottom_columns=2,#     Tag display line number\n",
    "                  legend_box_size=12,#   front box size\n",
    "                  \n",
    "                  ##     axis AXIS settings\n",
    "                  include_x_axis=True,#      \n",
    "                  range=(0, 30),# Set the Y-axis scale value range\n",
    "                  \n",
    "                  secondary_range=(10, 25),# Second coordinate axis scale\n",
    "                  xrange=(0,10),#x axis scale range\n",
    "                  \n",
    "                  ## Pillar TEXT settings\n",
    "                  print_values=True,# Open the text on the column\n",
    "                  print_values_position='top',# Text location\n",
    "                  style=LightSolarizedStyle(\n",
    "                  value_font_family='googlefont:Raleway',# Text font settings\n",
    "                  value_font_size=15,#size\n",
    "                  value_colors=('red','blue'),# Color setting\n",
    "                  ),\n",
    "                  \n",
    "                 )\n",
    "# Chart.x_Labels = U'αβγδ '# Custom X-axis scale tag\n",
    "chart.add('line 1', [5, 15, 10, 8],\n",
    "          secondary=True,# Open the second coordinate axis\n",
    "         )\n",
    "chart.add('line 2', [15, 20, 8, 11])\n",
    "HTML(base_html.format(rendered_chart=chart.render(is_unicode=True)))"
   ]
  },
  {
   "cell_type": "code",
   "execution_count": null,
   "metadata": {},
   "outputs": [],
   "source": [
    "\n",
    "#Consider twiny to overlay the shorter COLUMN1 plot over larger COLUMN2 pivot plot. And use alpha to adjust opaqueness. As for the pivot_table, use reindex to adjust month values.\n",
    "\n",
    "from io import StringIO\n",
    "import pandas as pd\n",
    "import matplotlib.pyplot as plt\n",
    "\n",
    "txt = '''Category    COLUMN1         COLUMN2     Month    \n",
    "A          0.5               3          Jan   \n",
    "0          0.3               5          Jan \n",
    "C          0.7               4          Jan\n",
    "D          0.4               3          Jan\n",
    "E          0.8               5          Jan\n",
    "A          0.3               4          Feb\n",
    "B          0.75             4.5         Feb'''\n",
    "\n",
    "df = pd.read_table(StringIO(txt), sep=\"\\s+\")\n",
    "\n",
    "order = ['Jan', 'Feb', 'Mar', 'Apr']\n",
    "\n",
    "fig, ax = plt.subplots()\n",
    "ax2 = ax.twiny()\n",
    "\n",
    "col1 = pd.pivot_table(df,index='Month',columns='Category',values='COLUMN1').reindex(order)\n",
    "col1.plot(kind='barh', ax=ax)\n",
    "\n",
    "col2 = pd.pivot_table(df,index='Month',columns='Category',values='COLUMN2').reindex(order)\n",
    "col2.plot(kind='barh', ax=ax2, alpha=0.5, legend=False)\n",
    "ax2.xaxis.set_visible(False)\n",
    "\n",
    "plt.show()"
   ]
  },
  {
   "cell_type": "code",
   "execution_count": null,
   "metadata": {},
   "outputs": [],
   "source": []
  },
  {
   "cell_type": "code",
   "execution_count": null,
   "metadata": {},
   "outputs": [],
   "source": []
  },
  {
   "cell_type": "code",
   "execution_count": null,
   "metadata": {},
   "outputs": [],
   "source": []
  },
  {
   "cell_type": "code",
   "execution_count": null,
   "metadata": {},
   "outputs": [],
   "source": []
  },
  {
   "cell_type": "code",
   "execution_count": null,
   "metadata": {},
   "outputs": [],
   "source": []
  }
 ],
 "metadata": {
  "hide_input": false,
  "kernelspec": {
   "display_name": "Python 3",
   "language": "python",
   "name": "python3"
  },
  "language_info": {
   "codemirror_mode": {
    "name": "ipython",
    "version": 3
   },
   "file_extension": ".py",
   "mimetype": "text/x-python",
   "name": "python",
   "nbconvert_exporter": "python",
   "pygments_lexer": "ipython3",
   "version": "3.8.8"
  },
  "latex_envs": {
   "LaTeX_envs_menu_present": true,
   "autoclose": false,
   "autocomplete": true,
   "bibliofile": "biblio.bib",
   "cite_by": "apalike",
   "current_citInitial": 1,
   "eqLabelWithNumbers": true,
   "eqNumInitial": 1,
   "hotkeys": {
    "equation": "Ctrl-E",
    "itemize": "Ctrl-I"
   },
   "labels_anchors": false,
   "latex_user_defs": false,
   "report_style_numbering": false,
   "user_envs_cfg": false
  }
 },
 "nbformat": 4,
 "nbformat_minor": 4
}
