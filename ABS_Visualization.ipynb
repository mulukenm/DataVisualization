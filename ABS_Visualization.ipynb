{
 "cells": [
  {
   "cell_type": "markdown",
   "id": "meaning-observation",
   "metadata": {
    "slideshow": {
     "slide_type": "subslide"
    }
   },
   "source": [
    "# Annual Business Survey: 2017"
   ]
  },
  {
   "cell_type": "code",
   "execution_count": 28,
   "id": "divine-conviction",
   "metadata": {
    "scrolled": true,
    "slideshow": {
     "slide_type": "subslide"
    }
   },
   "outputs": [
    {
     "ename": "ModuleNotFoundError",
     "evalue": "No module named 'squarify'",
     "output_type": "error",
     "traceback": [
      "\u001b[1;31m---------------------------------------------------------------------------\u001b[0m",
      "\u001b[1;31mModuleNotFoundError\u001b[0m                       Traceback (most recent call last)",
      "\u001b[1;32m~\\AppData\\Local\\Temp/ipykernel_40172/3681045056.py\u001b[0m in \u001b[0;36m<module>\u001b[1;34m\u001b[0m\n\u001b[0;32m      7\u001b[0m \u001b[1;32mimport\u001b[0m \u001b[0mpandas\u001b[0m \u001b[1;32mas\u001b[0m \u001b[0mpd\u001b[0m\u001b[1;33m\u001b[0m\u001b[1;33m\u001b[0m\u001b[0m\n\u001b[0;32m      8\u001b[0m \u001b[1;32mimport\u001b[0m \u001b[0mnumpy\u001b[0m \u001b[1;32mas\u001b[0m \u001b[0mnp\u001b[0m\u001b[1;33m\u001b[0m\u001b[1;33m\u001b[0m\u001b[0m\n\u001b[1;32m----> 9\u001b[1;33m \u001b[1;32mimport\u001b[0m \u001b[0msquarify\u001b[0m\u001b[1;33m\u001b[0m\u001b[1;33m\u001b[0m\u001b[0m\n\u001b[0m\u001b[0;32m     10\u001b[0m \u001b[1;32mimport\u001b[0m \u001b[0mseaborn\u001b[0m \u001b[1;32mas\u001b[0m \u001b[0msns\u001b[0m\u001b[1;33m\u001b[0m\u001b[1;33m\u001b[0m\u001b[0m\n\u001b[0;32m     11\u001b[0m \u001b[1;32mimport\u001b[0m \u001b[0mmatplotlib\u001b[0m\u001b[1;33m.\u001b[0m\u001b[0mpyplot\u001b[0m \u001b[1;32mas\u001b[0m \u001b[0mplt\u001b[0m\u001b[1;33m\u001b[0m\u001b[1;33m\u001b[0m\u001b[0m\n",
      "\u001b[1;31mModuleNotFoundError\u001b[0m: No module named 'squarify'"
     ]
    }
   ],
   "source": [
    "# Libraries\n",
    "%matplotlib inline\n",
    "import sys\n",
    "import datetime\n",
    "import openpyxl\n",
    "import pygal\n",
    "import pandas as pd\n",
    "import numpy as np\n",
    "import squarify\n",
    "import seaborn as sns\n",
    "import matplotlib.pyplot as plt\n",
    "import plotly.express as px\n",
    "import plotly.graph_objects as go\n",
    "import plotly.figure_factory as ff\n",
    "from plotly.subplots import make_subplots\n",
    "import warnings\n",
    "warnings.filterwarnings('ignore')\n",
    "print( \"Necessary packages/libraries are imported at \" + str( datetime.datetime.now() ) )"
   ]
  },
  {
   "cell_type": "code",
   "execution_count": 27,
   "id": "cf5990af",
   "metadata": {},
   "outputs": [
    {
     "name": "stdout",
     "output_type": "stream",
     "text": [
      "Collecting pygal==3.0.0\n",
      "  Downloading pygal-3.0.0-py2.py3-none-any.whl (129 kB)\n",
      "Installing collected packages: pygal\n",
      "  Attempting uninstall: pygal\n",
      "    Found existing installation: pygal 2.4.0\n",
      "    Uninstalling pygal-2.4.0:\n",
      "      Successfully uninstalled pygal-2.4.0\n",
      "Successfully installed pygal-3.0.0\n"
     ]
    }
   ],
   "source": [
    "!pip install pygal==3.0.0"
   ]
  },
  {
   "cell_type": "code",
   "execution_count": 23,
   "id": "a1409a34",
   "metadata": {},
   "outputs": [
    {
     "ename": "ImportError",
     "evalue": "cannot import name 'Iterable' from 'collections' (C:\\Users\\mmuch\\anaconda3\\envs\\ds-viz-env\\lib\\collections\\__init__.py)",
     "output_type": "error",
     "traceback": [
      "\u001b[1;31m---------------------------------------------------------------------------\u001b[0m",
      "\u001b[1;31mImportError\u001b[0m                               Traceback (most recent call last)",
      "\u001b[1;32m~\\AppData\\Local\\Temp/ipykernel_40172/3726221531.py\u001b[0m in \u001b[0;36m<module>\u001b[1;34m\u001b[0m\n\u001b[1;32m----> 1\u001b[1;33m \u001b[1;32mimport\u001b[0m \u001b[0mpygal\u001b[0m\u001b[1;33m\u001b[0m\u001b[1;33m\u001b[0m\u001b[0m\n\u001b[0m",
      "\u001b[1;32m~\\anaconda3\\envs\\ds-viz-env\\lib\\site-packages\\pygal\\__init__.py\u001b[0m in \u001b[0;36m<module>\u001b[1;34m\u001b[0m\n\u001b[0;32m     31\u001b[0m \u001b[1;32mimport\u001b[0m \u001b[0mwarnings\u001b[0m\u001b[1;33m\u001b[0m\u001b[1;33m\u001b[0m\u001b[0m\n\u001b[0;32m     32\u001b[0m \u001b[1;33m\u001b[0m\u001b[0m\n\u001b[1;32m---> 33\u001b[1;33m \u001b[1;32mfrom\u001b[0m \u001b[0mpygal\u001b[0m\u001b[1;33m.\u001b[0m\u001b[0mgraph\u001b[0m\u001b[1;33m.\u001b[0m\u001b[0mbar\u001b[0m \u001b[1;32mimport\u001b[0m \u001b[0mBar\u001b[0m\u001b[1;33m\u001b[0m\u001b[1;33m\u001b[0m\u001b[0m\n\u001b[0m\u001b[0;32m     34\u001b[0m \u001b[1;32mfrom\u001b[0m \u001b[0mpygal\u001b[0m\u001b[1;33m.\u001b[0m\u001b[0mgraph\u001b[0m\u001b[1;33m.\u001b[0m\u001b[0mbox\u001b[0m \u001b[1;32mimport\u001b[0m \u001b[0mBox\u001b[0m\u001b[1;33m\u001b[0m\u001b[1;33m\u001b[0m\u001b[0m\n\u001b[0;32m     35\u001b[0m \u001b[1;32mfrom\u001b[0m \u001b[0mpygal\u001b[0m\u001b[1;33m.\u001b[0m\u001b[0mgraph\u001b[0m\u001b[1;33m.\u001b[0m\u001b[0mdot\u001b[0m \u001b[1;32mimport\u001b[0m \u001b[0mDot\u001b[0m\u001b[1;33m\u001b[0m\u001b[1;33m\u001b[0m\u001b[0m\n",
      "\u001b[1;32m~\\anaconda3\\envs\\ds-viz-env\\lib\\site-packages\\pygal\\graph\\bar.py\u001b[0m in \u001b[0;36m<module>\u001b[1;34m\u001b[0m\n\u001b[0;32m     25\u001b[0m \u001b[1;32mfrom\u001b[0m \u001b[0m__future__\u001b[0m \u001b[1;32mimport\u001b[0m \u001b[0mdivision\u001b[0m\u001b[1;33m\u001b[0m\u001b[1;33m\u001b[0m\u001b[0m\n\u001b[0;32m     26\u001b[0m \u001b[1;33m\u001b[0m\u001b[0m\n\u001b[1;32m---> 27\u001b[1;33m \u001b[1;32mfrom\u001b[0m \u001b[0mpygal\u001b[0m\u001b[1;33m.\u001b[0m\u001b[0mgraph\u001b[0m\u001b[1;33m.\u001b[0m\u001b[0mgraph\u001b[0m \u001b[1;32mimport\u001b[0m \u001b[0mGraph\u001b[0m\u001b[1;33m\u001b[0m\u001b[1;33m\u001b[0m\u001b[0m\n\u001b[0m\u001b[0;32m     28\u001b[0m \u001b[1;32mfrom\u001b[0m \u001b[0mpygal\u001b[0m\u001b[1;33m.\u001b[0m\u001b[0mutil\u001b[0m \u001b[1;32mimport\u001b[0m \u001b[0malter\u001b[0m\u001b[1;33m,\u001b[0m \u001b[0mdecorate\u001b[0m\u001b[1;33m,\u001b[0m \u001b[0mident\u001b[0m\u001b[1;33m,\u001b[0m \u001b[0mswap\u001b[0m\u001b[1;33m\u001b[0m\u001b[1;33m\u001b[0m\u001b[0m\n\u001b[0;32m     29\u001b[0m \u001b[1;33m\u001b[0m\u001b[0m\n",
      "\u001b[1;32m~\\anaconda3\\envs\\ds-viz-env\\lib\\site-packages\\pygal\\graph\\graph.py\u001b[0m in \u001b[0;36m<module>\u001b[1;34m\u001b[0m\n\u001b[0;32m     24\u001b[0m \u001b[1;33m\u001b[0m\u001b[0m\n\u001b[0;32m     25\u001b[0m \u001b[1;32mfrom\u001b[0m \u001b[0mpygal\u001b[0m \u001b[1;32mimport\u001b[0m \u001b[0mstats\u001b[0m\u001b[1;33m\u001b[0m\u001b[1;33m\u001b[0m\u001b[0m\n\u001b[1;32m---> 26\u001b[1;33m \u001b[1;32mfrom\u001b[0m \u001b[0mpygal\u001b[0m\u001b[1;33m.\u001b[0m\u001b[0m_compat\u001b[0m \u001b[1;32mimport\u001b[0m \u001b[0mis_list_like\u001b[0m\u001b[1;33m,\u001b[0m \u001b[0mis_str\u001b[0m\u001b[1;33m,\u001b[0m \u001b[0mto_str\u001b[0m\u001b[1;33m\u001b[0m\u001b[1;33m\u001b[0m\u001b[0m\n\u001b[0m\u001b[0;32m     27\u001b[0m \u001b[1;32mfrom\u001b[0m \u001b[0mpygal\u001b[0m\u001b[1;33m.\u001b[0m\u001b[0mgraph\u001b[0m\u001b[1;33m.\u001b[0m\u001b[0mpublic\u001b[0m \u001b[1;32mimport\u001b[0m \u001b[0mPublicApi\u001b[0m\u001b[1;33m\u001b[0m\u001b[1;33m\u001b[0m\u001b[0m\n\u001b[0;32m     28\u001b[0m \u001b[1;32mfrom\u001b[0m \u001b[0mpygal\u001b[0m\u001b[1;33m.\u001b[0m\u001b[0minterpolate\u001b[0m \u001b[1;32mimport\u001b[0m \u001b[0mINTERPOLATIONS\u001b[0m\u001b[1;33m\u001b[0m\u001b[1;33m\u001b[0m\u001b[0m\n",
      "\u001b[1;32m~\\anaconda3\\envs\\ds-viz-env\\lib\\site-packages\\pygal\\_compat.py\u001b[0m in \u001b[0;36m<module>\u001b[1;34m\u001b[0m\n\u001b[0;32m     21\u001b[0m \u001b[1;33m\u001b[0m\u001b[0m\n\u001b[0;32m     22\u001b[0m \u001b[1;32mimport\u001b[0m \u001b[0msys\u001b[0m\u001b[1;33m\u001b[0m\u001b[1;33m\u001b[0m\u001b[0m\n\u001b[1;32m---> 23\u001b[1;33m \u001b[1;32mfrom\u001b[0m \u001b[0mcollections\u001b[0m \u001b[1;32mimport\u001b[0m \u001b[0mIterable\u001b[0m\u001b[1;33m\u001b[0m\u001b[1;33m\u001b[0m\u001b[0m\n\u001b[0m\u001b[0;32m     24\u001b[0m \u001b[1;32mfrom\u001b[0m \u001b[0mdatetime\u001b[0m \u001b[1;32mimport\u001b[0m \u001b[0mdatetime\u001b[0m\u001b[1;33m,\u001b[0m \u001b[0mtimedelta\u001b[0m\u001b[1;33m,\u001b[0m \u001b[0mtzinfo\u001b[0m\u001b[1;33m\u001b[0m\u001b[1;33m\u001b[0m\u001b[0m\n\u001b[0;32m     25\u001b[0m \u001b[1;33m\u001b[0m\u001b[0m\n",
      "\u001b[1;31mImportError\u001b[0m: cannot import name 'Iterable' from 'collections' (C:\\Users\\mmuch\\anaconda3\\envs\\ds-viz-env\\lib\\collections\\__init__.py)"
     ]
    }
   ],
   "source": [
    "import pygal"
   ]
  },
  {
   "cell_type": "code",
   "execution_count": 24,
   "id": "massive-movie",
   "metadata": {
    "slideshow": {
     "slide_type": "subslide"
    }
   },
   "outputs": [],
   "source": [
    "# setting up the HTML with the necessary javascript to display charts \n",
    "from IPython.display import display, HTML\n",
    "base_html = \"\"\"\n",
    "<!DOCTYPE html>\n",
    "<html>\n",
    "  <head>\n",
    "  <script type=\"text/javascript\" src=\"http://kozea.github.com/pygal.js/javascripts/svg.jquery.js\"></script>\n",
    "  <script type=\"text/javascript\" src=\"https://kozea.github.io/pygal.js/2.0.x/pygal-tooltips.min.js\"\"></script>\n",
    "  </head>\n",
    "  <body>\n",
    "    <figure>\n",
    "      {rendered_chart}\n",
    "    </figure>\n",
    "  </body>\n",
    "</html>\n",
    "\"\"\""
   ]
  },
  {
   "cell_type": "markdown",
   "id": "bacterial-combining",
   "metadata": {},
   "source": [
    "## 1) Survey Aggregate Estimates\n",
    "Annual Business Survey aggregate R&D estimates for companies with 1–9 employees, by questionnaire reference and company size: 2017"
   ]
  },
  {
   "cell_type": "code",
   "execution_count": null,
   "id": "negative-present",
   "metadata": {},
   "outputs": [],
   "source": [
    "df = pd.read_excel(\"https://ncses.nsf.gov/pubs/nsf21303/assets/data-tables/tables/nsf21303-tab001.xlsx\", skiprows = [0, 1, 2], usecols= [0, 1, 3, 5])\n",
    "#df.head(10)\n",
    "df1 = df.iloc[1:8] # R&D Cost in thousands of US dollars\n",
    "df1.set_index('Company and financial information', inplace=True)\n",
    "df11 = df1.div(1000)\n",
    "df111 = df11.reset_index()\n",
    "df111['Company and financial information'] = df111['Company and financial information'].str[7:48]\n",
    "df111['Company and financial information'] = df111['Company and financial information'].str.title()\n",
    "labels = df111.apply(lambda x: str(x[0]) + \"\\n (\" + str(x[1]) + \")\", axis=1)\n",
    "sizes = df111['All companies'].values.tolist()\n",
    "colors = [plt.cm.Dark2(i/float(len(labels))) for i in range(len(labels))]\n",
    "\n",
    "# Draw Plot\n",
    "plt.figure(figsize=(15,8), dpi= 70)\n",
    "squarify.plot(sizes=sizes, label=labels,color = colors,  alpha=0.7)\n",
    "\n",
    "# Decorate\n",
    "plt.title('R&D Estimates for Companies -- Total Cost in Million Dollars : 2017')\n",
    "plt.axis('off')\n",
    "plt.show()"
   ]
  },
  {
   "cell_type": "code",
   "execution_count": null,
   "id": "requested-isaac",
   "metadata": {
    "scrolled": true
   },
   "outputs": [],
   "source": [
    "df111 = df11.reset_index()\n",
    "df111['Company and financial information'] = df111['Company and financial information'].str[7:58]\n",
    "df111['Company and financial information'] = df111['Company and financial information'].str.title()\n",
    "df111.head()\n",
    "Tdf = pd.melt(df111, id_vars=['Company and financial information'], value_vars=['All companies', '1–4 employees', '5–9 employees'])\n",
    "#Tdf.head()\n",
    "class_values_by_category = Tdf.groupby(['variable'], axis=0).apply(\n",
    "    lambda x : [{\"value\" : l, \"label\" : c } for l, c in zip(x['value'], x['Company and financial information'])])\n",
    "#class_values_by_category\n",
    "treemap = pygal.Treemap(height=400, show_legend=True)\n",
    "treemap.title=\"Total Cost in million dollars - 2017\"\n",
    "[treemap.add(x[0], x[1]) for x in class_values_by_category.iteritems()]\n",
    "display(HTML(base_html.format(rendered_chart=treemap.render(is_unicode=True))))"
   ]
  },
  {
   "cell_type": "code",
   "execution_count": null,
   "id": "moderate-ability",
   "metadata": {},
   "outputs": [],
   "source": [
    "df1 = df.iloc[1:8] # R&D Cost in thousands of US dollars\n",
    "df1.set_index('Company and financial information', inplace=True)\n",
    "df11 = df1.div(1000)\n",
    "df2 = df.iloc[8:17] # R&D Cost in thousands of US dollars\n",
    "df2.set_index('Company and financial information', inplace=True)\n",
    "df22 = df2.div(1000)\n",
    "df3 = df.iloc[18:21] # R&D Cost in thousands of US dollars\n",
    "df3.set_index('Company and financial information', inplace=True)\n",
    "df33 = df3.div(1000)\n",
    "# df2.head(10)\n",
    "# df2.index\n",
    "labels = ['salaries, wages, and fringe benefits', 'machinery and equipment (not capitalized)','materials and supplies',\n",
    "          'payments to business partners for collaborative R&D', 'purchased R&D services', 'depreciation on R&D property and equipment',\n",
    "         'other costs']\n",
    "employees_1to4 = df11['1–4 employees'].tolist()\n",
    "employees_5to9 = df11['5–9 employees'].tolist()\n",
    "\n",
    "x = np.arange(len(labels))  # the label locations\n",
    "width = 0.35  # the width of the bars\n",
    "\n",
    "fig, ax = plt.subplots()\n",
    "fig.set_figheight(5)\n",
    "fig.set_figwidth(10)\n",
    "rects1 = ax.barh(x - width/2, employees_1to4, width, label='1–4 employees')\n",
    "rects2 = ax.barh(x + width/2,employees_5to9, width, label='5–9 employees')\n",
    "\n",
    "# Add some text for labels, title and custom x-axis tick labels, etc.\n",
    "ax.set_xlabel('Dollars estimate in millions')\n",
    "ax.set_ylabel('R&D Cost ')\n",
    "ax.set_title('R&D estimates for companies by number of employees - 2017')\n",
    "ax.set_yticks(x)\n",
    "ax.set_yticklabels(labels)\n",
    "ax.legend()\n",
    "plt.yticks(rotation = 15) # Rotates X-Axis Ticks by 45-degrees\n",
    "\n",
    "\n",
    "\n",
    "fig.tight_layout()\n",
    "\n",
    "plt.show()"
   ]
  },
  {
   "cell_type": "code",
   "execution_count": null,
   "id": "baking-vector",
   "metadata": {},
   "outputs": [],
   "source": [
    "df222= df22.reset_index()\n",
    "df222['Company and financial information'] = df222['Company and financial information'].str[16:]\n",
    "df222['Company and financial information'] = df222['Company and financial information'].str.title()\n",
    "df222.head(15)\n",
    "L1 = df222['Company and financial information'].tolist()\n",
    "L2 = df222['1–4 employees'].tolist()\n",
    "L3 = df222['5–9 employees'].tolist()\n",
    "\n",
    "\n",
    "fig = go.Figure()\n",
    "fig.layout=go.Layout(\n",
    "        title=go.layout.Title(text=\"R&D paid for by (Million Dollars): 2017 Estimate\") )\n",
    "fig.add_trace(go.Bar(\n",
    "    y=L1,\n",
    "    x=L2,\n",
    "    name='1–4 employees',\n",
    "    orientation='h',\n",
    "    marker=dict(\n",
    "        color='rgba(246, 78, 139, 0.6)',\n",
    "        line=dict(color='rgba(246, 78, 139, 1.0)', width=3)\n",
    "    )\n",
    "))\n",
    "fig.add_trace(go.Bar(\n",
    "    y=L1,\n",
    "    x=L3,\n",
    "    name='5–9 employees',\n",
    "    orientation='h',\n",
    "    marker=dict(\n",
    "        color='rgba(58, 71, 80, 0.6)',\n",
    "        line=dict(color='rgba(58, 71, 80, 1.0)', width=3)\n",
    "    )\n",
    "))\n",
    "\n",
    "#fig.update_layout(barmode='stack')\n",
    "fig.show()"
   ]
  },
  {
   "cell_type": "code",
   "execution_count": null,
   "id": "coupled-ivory",
   "metadata": {},
   "outputs": [],
   "source": [
    "labels = ['Basic Research', 'Applied Research','Development']\n",
    "sizes = df33['All companies'].tolist()\n",
    "\n",
    "# Pie chart, where the slices will be ordered and plotted counter-clockwise:\n",
    "\n",
    "explode = (0, 0.1, 0)  # only \"explode\" the 2nd slice (i.e. 'Hogs')\n",
    "\n",
    "fig1, ax1 = plt.subplots()\n",
    "ax1.pie(sizes, explode=explode, labels=labels, autopct='%1.1f%%',\n",
    "        shadow=True, startangle=90)\n",
    "ax1.axis('equal')  # Equal aspect ratio ensures that pie is drawn as a circle.\n",
    "\n",
    "plt.show()\n"
   ]
  },
  {
   "cell_type": "code",
   "execution_count": null,
   "id": "outer-bishop",
   "metadata": {
    "scrolled": false
   },
   "outputs": [],
   "source": [
    "labels = ['Basic Research', 'Applied Research','Development']\n",
    "employees_1to4 = df33['1–4 employees'].tolist()\n",
    "employees_5to9 = df33['5–9 employees'].tolist()\n",
    "\n",
    "x = np.arange(len(labels))  # the label locations\n",
    "width = 0.35  # the width of the bars\n",
    "\n",
    "fig, ax = plt.subplots()\n",
    "fig.set_figheight(4.6)\n",
    "fig.set_figwidth(7.5)\n",
    "rects1 = ax.bar(x - width/2, employees_1to4, width, label='1–4 employees')\n",
    "rects2 = ax.bar(x + width/2,employees_5to9, width, label='5–9 employees')\n",
    "\n",
    "# Add some text for labels, title and custom x-axis tick labels, etc.\n",
    "ax.set_ylabel('Dollars in million')\n",
    "ax.set_xlabel('Paid For')\n",
    "ax.set_title('R&D estimates for companies by number of employees - 2017')\n",
    "ax.set_xticks(x)\n",
    "ax.set_xticklabels(labels)\n",
    "ax.legend()\n",
    "\n",
    "\n",
    "def autolabel(rects):\n",
    "    \"\"\"Attach a text label above each bar in *rects*, displaying its height.\"\"\"\n",
    "    for rect in rects:\n",
    "        height = rect.get_height()\n",
    "        ax.annotate('{}'.format(height),\n",
    "                    xy=(rect.get_x() + rect.get_width() / 2, height),\n",
    "                    xytext=(0, 2),  # 3 points vertical offset\n",
    "                    textcoords=\"offset points\",\n",
    "                    ha='center', va='bottom')\n",
    "\n",
    "autolabel(rects1)\n",
    "autolabel(rects2)\n",
    "\n",
    "fig.tight_layout()\n",
    "\n",
    "plt.show()"
   ]
  },
  {
   "cell_type": "markdown",
   "id": "plastic-omaha",
   "metadata": {},
   "source": [
    "## 2) Total R&D cost, by industry, employment size, sex, and race and ethnicity: 2017\n",
    "\n",
    "2.1) Total R&D cost for companies with 1–9 employees, by selected industry and company size: 2017"
   ]
  },
  {
   "cell_type": "code",
   "execution_count": null,
   "id": "dirty-layout",
   "metadata": {},
   "outputs": [],
   "source": [
    "df = pd.read_excel(\"https://ncses.nsf.gov/pubs/nsf21303/assets/data-tables/tables/nsf21303-tab002.xlsx\", skiprows = [0, 1, 2], usecols= [0, 2, 4, 6, 8, 10, 12] )\n",
    "df.head(39)\n",
    "\n",
    "df1 = df.iloc[[3,4,9,12, 13, 14, 15, 16, 17,21,22,26,28,29,32,33,34,]]\n",
    "df1.head(38)\n",
    "AE = df1[['Industry', 'All companies', 'Unnamed: 4']]\n",
    "AE.columns = [['Industry', 'Number', 'Amount']]\n",
    "AE[['MD']] = AE[['Amount']].div(1000)\n",
    "AE.reset_index(inplace = True)\n",
    "AE = AE[['Industry', 'Number', 'MD']]\n",
    "#AE.head(70)\n",
    "AL1 = AE.iloc[:, 0].tolist()\n",
    "AL2 = AE.iloc[:, 1].tolist()\n",
    "AL3 = AE.iloc[:, 2].tolist()\n",
    "fig = go.Figure()\n",
    "fig.layout=go.Layout(\n",
    "        title=go.layout.Title(text=\"Number of Companies with 1–9 Employees by Industry: 2017\") )\n",
    "fig.add_trace(go.Bar(\n",
    "    y=AL1,\n",
    "    x=AL2,\n",
    "    name='1–4 employees',\n",
    "    orientation='h',\n",
    "    marker=dict(\n",
    "        color='#0099ff',\n",
    "        line=dict(color='#404040', width=3)\n",
    "    )\n",
    "\n",
    "))\n",
    "fig.layout.yaxis.update({'anchor': 'x2'})\n",
    "fig.layout.xaxis.update({'anchor': 'y2'})\n",
    "fig.layout.xaxis.update({'title': 'Number of companies'})\n",
    "#fig.update_layout(barmode='stack')\n",
    "fig.show()"
   ]
  },
  {
   "cell_type": "code",
   "execution_count": null,
   "id": "complimentary-mayor",
   "metadata": {},
   "outputs": [],
   "source": [
    "\n",
    "fig = go.Figure()\n",
    "fig.layout=go.Layout(\n",
    "        title=go.layout.Title(text=\"Total R&D Cost for Companies with 1–9 Employees by Industry: 2017\") )\n",
    "fig.add_trace(go.Bar(\n",
    "    y=AL1,\n",
    "    x=AL3,\n",
    "    orientation='h',\n",
    "    marker=dict(\n",
    "        color='#7b0505',\n",
    "        line=dict(color='#404040', width=3)\n",
    "    )\n",
    "\n",
    "))\n",
    "fig.layout.yaxis.update({'anchor': 'x2'})\n",
    "fig.layout.xaxis.update({'anchor': 'y2'})\n",
    "fig.layout.xaxis.update({'title': 'Million Dollar'})\n",
    "#fig.update_layout(barmode='stack')\n",
    "fig.show()"
   ]
  },
  {
   "cell_type": "code",
   "execution_count": null,
   "id": "polar-puppy",
   "metadata": {},
   "outputs": [],
   "source": [
    "df2 = pd.read_excel(\"https://ncses.nsf.gov/pubs/nsf21303/assets/data-tables/tables/nsf21303-tab002.xlsx\", skiprows = [0, 1, 2], usecols= [0, 2, 4] )\n",
    "df2.head(39)\n",
    "\n",
    "df21 = df2.iloc[[3,4,9,12, 13, 14, 15, 16, 17,21,22,26,28,29,32,33,34,]]\n",
    "df21.head(38)\n",
    "df21.columns = ['Industry', 'Number', 'Amount']\n",
    "df21[['Million Dollars ($)']] = df21[['Amount']].div(1000)\n",
    "df21.reset_index(inplace = True)\n",
    "df21 = df21[['Industry', 'Number', 'Million Dollars ($)']]\n",
    "df21[['Number', 'Million Dollars ($)']] = df21[['Number', 'Million Dollars ($)']].astype(float)\n",
    "#df21.dtypes\n",
    "#df21.head()"
   ]
  },
  {
   "cell_type": "code",
   "execution_count": null,
   "id": "hollow-remains",
   "metadata": {},
   "outputs": [],
   "source": [
    "df21.reset_index(inplace = True)\n",
    "df21 = df21[['Industry', 'Number', 'Million Dollars ($)']]\n",
    "#df21.head()\n",
    "# df21.dtypes"
   ]
  },
  {
   "cell_type": "code",
   "execution_count": null,
   "id": "strange-chain",
   "metadata": {},
   "outputs": [],
   "source": [
    "fig = px.scatter( df21, x=\"Number\", y=\"Million Dollars ($)\", color=\"Industry\", size='Million Dollars ($)',\n",
    "                color_discrete_sequence=px.colors.qualitative.Alphabet, title= \"Industries by number and amount of money for R&D\")\n",
    "fig.show()"
   ]
  },
  {
   "cell_type": "markdown",
   "id": "exact-visit",
   "metadata": {},
   "source": [
    "2.2) Total R&D cost for companies with 1–9 employees, by firm classification of sex and company size: 2017"
   ]
  },
  {
   "cell_type": "code",
   "execution_count": null,
   "id": "improved-holly",
   "metadata": {},
   "outputs": [],
   "source": [
    "# Number\n",
    "dfN = pd.read_excel(\"https://ncses.nsf.gov/pubs/nsf21303/assets/data-tables/tables/nsf21303-tab003.xlsx\", skiprows = [0, 1, 2, 3, 4], usecols= [0, 1,  5,  9] )\n",
    "dfN.columns = ['Sex of owners', 'All companies', '1–4 employees', '5–9 employees']\n",
    "dfN.head()\n",
    "# Dollar Amount\n",
    "dfA = pd.read_excel(\"https://ncses.nsf.gov/pubs/nsf21303/assets/data-tables/tables/nsf21303-tab003.xlsx\", skiprows = [0, 1, 2, 3, 4], usecols= [0,  3, 7, 11] )\n",
    "dfA.columns = ['Sex of owners', 'All companies', '1–4 employees', '5–9 employees']\n",
    "dfA.head()\n",
    "\n",
    "dfA.set_index('Sex of owners', inplace=True)\n",
    "dfA = dfA.div(1000)\n",
    "dfA = dfA.reset_index()\n",
    "dfA.head()\n",
    "NL1 = dfN['Sex of owners'].tolist()\n",
    "NL2 = dfN['1–4 employees'].tolist()\n",
    "NL3 = dfN['5–9 employees'].tolist()\n",
    "AL1 = dfA['Sex of owners'].tolist()\n",
    "AL2 = dfA['1–4 employees'].tolist()\n",
    "AL3 = dfA['5–9 employees'].tolist()\n",
    "\n",
    "fig = go.Figure()\n",
    "fig.layout=go.Layout(\n",
    "        title=go.layout.Title(text=\"Total R&D Cost for Companies with 1–9 Employees by Ownership: 2017\") )\n",
    "fig.add_trace(go.Bar(\n",
    "    y=AL1,\n",
    "    x=AL2,\n",
    "    name='1–4 employees',\n",
    "    orientation='h',\n",
    "    marker=dict(\n",
    "        color='rgba(246, 78, 139, 0.6)',\n",
    "        line=dict(color='rgba(246, 78, 139, 1.0)', width=3)\n",
    "    )\n",
    "))\n",
    "fig.add_trace(go.Bar(\n",
    "    y=AL1,\n",
    "    x=AL3,\n",
    "    name='5–9 employees',\n",
    "    orientation='h',\n",
    "    marker=dict(\n",
    "        color='rgba(58, 71, 80, 0.6)',\n",
    "        line=dict(color='rgba(58, 71, 80, 1.0)', width=3)\n",
    "    )\n",
    "))\n",
    "fig.layout.yaxis.update({'anchor': 'x2'})\n",
    "fig.layout.xaxis.update({'anchor': 'y2'})\n",
    "fig.layout.xaxis.update({'title': 'Million Dollars'})\n",
    "#fig.update_layout(barmode='stack')\n",
    "fig.show()\n",
    "\n",
    "# Initialize a figure with ff.create_table(table_data)\n",
    "\n",
    "fig = go.Figure()\n",
    "# Make traces for graph\n",
    "trace1 = go.Bar(x=NL1, y=NL2, xaxis='x2', yaxis='y2',\n",
    "                marker=dict(color='#0099ff'),\n",
    "                name='1–4 employees')\n",
    "trace2 = go.Bar(x=NL1, y=NL3, xaxis='x2', yaxis='y2',\n",
    "                marker=dict(color='#404040'),\n",
    "                name='5–9 employees')\n",
    "\n",
    "# Add trace data to figure\n",
    "fig.add_traces([trace1, trace2])\n",
    "\n",
    "# initialize xaxis2 and yaxis2\n",
    "fig['layout']['xaxis2'] = {}\n",
    "fig['layout']['yaxis2'] = {}\n",
    "\n",
    "\n",
    "# The graph's yaxis2 MUST BE anchored to the graph's xaxis2 and vice versa\n",
    "# fig.layout.yaxis2.update({'anchor': 'x2'})\n",
    "# fig.layout.xaxis2.update({'anchor': 'y2'})\n",
    "fig.layout.yaxis2.update({'title': 'Number'})\n",
    "\n",
    "# Update the margins to add a title and see graph x-labels.\n",
    "#fig.layout.margin.update({'t':75, 'l':50})\n",
    "fig.layout.update({'title': \"Number of Companies by Ownership\" })\n",
    "\n",
    "# Update the height because adding a graph vertically will interact with\n",
    "# the plot height calculated for the table\n",
    "fig.layout.update({'height':500})\n",
    "\n",
    "# Plot!\n",
    "fig.show()"
   ]
  },
  {
   "cell_type": "code",
   "execution_count": null,
   "id": "promising-shower",
   "metadata": {},
   "outputs": [],
   "source": [
    "# Number and dollar\n",
    "df = pd.read_excel(\"https://ncses.nsf.gov/pubs/nsf21303/assets/data-tables/tables/nsf21303-tab003.xlsx\", skiprows = [0, 1, 2, 3, 4], usecols= [0, 1, 3] )\n",
    "df.columns = ['Sex of owners', 'Number', 'Million Dollars ($)']\n",
    "df.set_index('Sex of owners', inplace=True)\n",
    "df['Million Dollars ($)'] = df['Million Dollars ($)'].div(1000)\n",
    "df.reset_index(inplace = True)\n",
    "df.head()\n",
    "df.dtypes\n",
    "fig = px.scatter( df, x=\"Number\", y=\"Million Dollars ($)\", color=\"Sex of owners\", size='Million Dollars ($)',\n",
    "                 color_discrete_sequence=px.colors.qualitative.Bold, title= \"Number of companies and amount of money for R&D by sex of owners\")\n",
    "fig.update_traces(marker=dict(size=12),selector=dict(mode='markers'))\n",
    "\n",
    "fig.show()"
   ]
  },
  {
   "cell_type": "markdown",
   "id": "yellow-folder",
   "metadata": {},
   "source": [
    "Total R&D cost for companies with 1–9 employees, by firm classification of race and ethnicity and company size: 2017"
   ]
  },
  {
   "cell_type": "code",
   "execution_count": null,
   "id": "considerable-appeal",
   "metadata": {},
   "outputs": [],
   "source": [
    "df = pd.read_excel(\"https://ncses.nsf.gov/pubs/nsf21303/assets/data-tables/tables/nsf21303-tab004.xlsx\", skiprows = [0, 1, 2, 3,], usecols= [0, 1, 3,] )\n",
    "df.columns = ['Race/Ethnicity', 'Companies (number)', 'Million Dollars ($)']\n",
    "\n",
    "\n",
    "R = df.iloc[[2,3,4,5,6,15,]]\n",
    "R.columns = ['Race', 'Companies (number)', 'Million Dollars ($)']\n",
    "R[[ 'Companies (number)', 'Million Dollars ($)']] = R[[ 'Companies (number)', 'Million Dollars ($)']].astype(float)\n",
    "R.set_index('Race', inplace=True)\n",
    "R['Million Dollars ($)'] =R['Million Dollars ($)'].div(1000)\n",
    "R.reset_index(inplace = True)\n",
    "\n",
    "E = df.iloc[[8,9,10,15,]]\n",
    "E.columns = ['Ethnicity', 'Companies (number)', 'Million Dollars ($)']\n",
    "E[[ 'Companies (number)', 'Million Dollars ($)']] = E[[ 'Companies (number)', 'Million Dollars ($)']].astype(float)\n",
    "E.set_index('Ethnicity', inplace=True)\n",
    "E['Million Dollars ($)'] = E['Million Dollars ($)'].div(1000)\n",
    "E.reset_index(inplace = True)\n",
    "\n",
    "MS = df.iloc[[12, 13, 14,15,]]\n",
    "MS.columns = ['Minority Status', 'Companies (number)', 'Million Dollars ($)']\n",
    "MS[[ 'Companies (number)', 'Million Dollars ($)']] = MS[[ 'Companies (number)', 'Million Dollars ($)']].astype(float)\n",
    "MS.set_index('Minority Status', inplace=True)\n",
    "MS['Million Dollars ($)'] = MS['Million Dollars ($)'].div(1000)\n",
    "MS.reset_index(inplace = True)\n",
    "MS.head(10)\n",
    "# MS.dtypes"
   ]
  },
  {
   "cell_type": "code",
   "execution_count": null,
   "id": "departmental-interval",
   "metadata": {},
   "outputs": [],
   "source": [
    "fig = px.scatter( R, x=\"Companies (number)\", y=\"Million Dollars ($)\", color=\"Race\", size='Million Dollars ($)',\n",
    "                 color_discrete_sequence=px.colors.qualitative.Bold, title= \"Number of companies and amount of money in million dollars for R&D <br /> by race of owners\", size_max=10)\n",
    "fig.update_traces(marker=dict(size=12),selector=dict(mode='markers'))\n",
    "fig.show()\n",
    "\n",
    "fig = px.scatter( E, x=\"Companies (number)\", y=\"Million Dollars ($)\", color=\"Ethnicity\", size='Million Dollars ($)',\n",
    "                 color_discrete_sequence=px.colors.qualitative.G10, title= \"Number of companies and amount of money in million dollars for R&D <br /> by ethnicity of owners\", size_max=10)\n",
    "fig.update_traces(marker=dict(size=12),selector=dict(mode='markers'))\n",
    "# fig.update_traces(marker=dict(size=12,\n",
    "#                               line=dict(width=0.0025,\n",
    "#                                         color='LightSlateGrey')),\n",
    "#                   selector=dict(mode='markers'))\n",
    "fig.show()\n",
    "fig = px.scatter( MS, x=\"Companies (number)\", y=\"Million Dollars ($)\", color=\"Minority Status\", size='Million Dollars ($)',\n",
    "                 color_discrete_sequence=px.colors.qualitative.Dark2, title= \"Number of companies and amount of money in million dollars for R&D <br /> by minority status of owners\", size_max=10)\n",
    "fig.update_traces(marker=dict(size=12),selector=dict(mode='markers'))\n",
    "fig.show()"
   ]
  },
  {
   "cell_type": "markdown",
   "id": "advance-headquarters",
   "metadata": {},
   "source": [
    "Total R&D cost for companies with 1–9 employees, by selected industry and R&D program size: 2017 "
   ]
  },
  {
   "cell_type": "code",
   "execution_count": null,
   "id": "immediate-academy",
   "metadata": {},
   "outputs": [],
   "source": [
    "df = pd.read_excel(\"https://ncses.nsf.gov/pubs/nsf21303/assets/data-tables/tables/nsf21303-tab005-001.xlsx\", skiprows = [0, 1, 2, ], usecols= [0, 4, 6, 8, 10,] )\n",
    "df.head(39)\n",
    "\n",
    "MI = df.iloc[[3,4,9,10,11, 12, 13, 14, 15, 16, 17,18, 20,]]\n",
    "MI.columns = ['Industry', \"$50,000 – 100,000\", '$100,000 – 499,999','$500,000 – 999,999','$1 million or more',]\n",
    "#MI.head(38)"
   ]
  },
  {
   "cell_type": "code",
   "execution_count": 2,
   "id": "hungarian-layout",
   "metadata": {},
   "outputs": [],
   "source": [
    "# MI[MI[ \"$500,000 – 999,999\"].str.isnumeric().isnull()]\n",
    "# MI[MI[ \"$1 million or more\"].str.isnumeric().isnull()]\n",
    "#MI[[ \"$50,000 – 100,000\", '$100,000 – 499,999','$500,000 – 999,999','$1 million or more']] = MI[[ \"$50,000 – 100,000 \", '$100,000 – 499,999','$500,000 – 999,999','$1 million or more']].astype(float)"
   ]
  },
  {
   "cell_type": "code",
   "execution_count": 3,
   "id": "documentary-address",
   "metadata": {},
   "outputs": [
    {
     "ename": "NameError",
     "evalue": "name 'MI' is not defined",
     "output_type": "error",
     "traceback": [
      "\u001b[1;31m---------------------------------------------------------------------------\u001b[0m",
      "\u001b[1;31mNameError\u001b[0m                                 Traceback (most recent call last)",
      "\u001b[1;32m~\\AppData\\Local\\Temp/ipykernel_40172/3105907462.py\u001b[0m in \u001b[0;36m<module>\u001b[1;34m\u001b[0m\n\u001b[1;32m----> 1\u001b[1;33m \u001b[0mNL1\u001b[0m \u001b[1;33m=\u001b[0m \u001b[0mMI\u001b[0m\u001b[1;33m[\u001b[0m\u001b[1;34m'Industry'\u001b[0m\u001b[1;33m]\u001b[0m\u001b[1;33m.\u001b[0m\u001b[0mtolist\u001b[0m\u001b[1;33m(\u001b[0m\u001b[1;33m)\u001b[0m\u001b[1;33m\u001b[0m\u001b[1;33m\u001b[0m\u001b[0m\n\u001b[0m\u001b[0;32m      2\u001b[0m \u001b[0mNL2\u001b[0m \u001b[1;33m=\u001b[0m \u001b[0mMI\u001b[0m\u001b[1;33m[\u001b[0m\u001b[1;34m'$50,000 – 100,000'\u001b[0m\u001b[1;33m]\u001b[0m\u001b[1;33m.\u001b[0m\u001b[0mtolist\u001b[0m\u001b[1;33m(\u001b[0m\u001b[1;33m)\u001b[0m\u001b[1;33m\u001b[0m\u001b[1;33m\u001b[0m\u001b[0m\n\u001b[0;32m      3\u001b[0m \u001b[0mNL3\u001b[0m \u001b[1;33m=\u001b[0m \u001b[0mMI\u001b[0m\u001b[1;33m[\u001b[0m\u001b[1;34m'$100,000 – 499,999'\u001b[0m\u001b[1;33m]\u001b[0m\u001b[1;33m.\u001b[0m\u001b[0mtolist\u001b[0m\u001b[1;33m(\u001b[0m\u001b[1;33m)\u001b[0m\u001b[1;33m\u001b[0m\u001b[1;33m\u001b[0m\u001b[0m\n\u001b[0;32m      4\u001b[0m \u001b[0mNL4\u001b[0m \u001b[1;33m=\u001b[0m \u001b[0mMI\u001b[0m\u001b[1;33m[\u001b[0m\u001b[1;34m'$500,000 – 999,999'\u001b[0m\u001b[1;33m]\u001b[0m\u001b[1;33m.\u001b[0m\u001b[0mtolist\u001b[0m\u001b[1;33m(\u001b[0m\u001b[1;33m)\u001b[0m\u001b[1;33m\u001b[0m\u001b[1;33m\u001b[0m\u001b[0m\n\u001b[0;32m      5\u001b[0m \u001b[0mNL5\u001b[0m \u001b[1;33m=\u001b[0m \u001b[0mMI\u001b[0m\u001b[1;33m[\u001b[0m\u001b[1;34m'$1 million or more'\u001b[0m\u001b[1;33m]\u001b[0m\u001b[1;33m.\u001b[0m\u001b[0mtolist\u001b[0m\u001b[1;33m(\u001b[0m\u001b[1;33m)\u001b[0m\u001b[1;33m\u001b[0m\u001b[1;33m\u001b[0m\u001b[0m\n",
      "\u001b[1;31mNameError\u001b[0m: name 'MI' is not defined"
     ]
    }
   ],
   "source": [
    "NL1 = MI['Industry'].tolist()\n",
    "NL2 = MI['$50,000 – 100,000'].tolist()\n",
    "NL3 = MI['$100,000 – 499,999'].tolist()\n",
    "NL4 = MI['$500,000 – 999,999'].tolist()\n",
    "NL5 = MI['$1 million or more'].tolist()\n",
    "fig = go.Figure()\n",
    "fig.layout=go.Layout(\n",
    "        title=go.layout.Title(text=\"Total R&D Cost for Companies with 1–9 Employees by Ownership: 2017\") )\n",
    "fig.add_trace(go.Bar(\n",
    "    y=NL1,\n",
    "    x=NL2,\n",
    "    name='1–4 employees',\n",
    "    orientation='h',\n",
    "    marker=dict(\n",
    "        color='rgba(144, 12, 63, 0.8)',\n",
    "        line=dict(color='rgba(144, 12, 63, 1.0)', width=3)\n",
    "    )\n",
    "))"
   ]
  },
  {
   "cell_type": "code",
   "execution_count": 4,
   "id": "provincial-watch",
   "metadata": {},
   "outputs": [
    {
     "ename": "NameError",
     "evalue": "name 'go' is not defined",
     "output_type": "error",
     "traceback": [
      "\u001b[1;31m---------------------------------------------------------------------------\u001b[0m",
      "\u001b[1;31mNameError\u001b[0m                                 Traceback (most recent call last)",
      "\u001b[1;32m~\\AppData\\Local\\Temp/ipykernel_40172/4199508726.py\u001b[0m in \u001b[0;36m<module>\u001b[1;34m\u001b[0m\n\u001b[1;32m----> 1\u001b[1;33m \u001b[0mfig\u001b[0m \u001b[1;33m=\u001b[0m \u001b[0mgo\u001b[0m\u001b[1;33m.\u001b[0m\u001b[0mFigure\u001b[0m\u001b[1;33m(\u001b[0m\u001b[1;33m)\u001b[0m\u001b[1;33m\u001b[0m\u001b[1;33m\u001b[0m\u001b[0m\n\u001b[0m\u001b[0;32m      2\u001b[0m fig.layout=go.Layout(\n\u001b[0;32m      3\u001b[0m         title=go.layout.Title(text=\"Total R&D Cost for Companies with 1–9 Employees by Ownership: 2017\") )\n\u001b[0;32m      4\u001b[0m fig.add_trace(go.Bar(\n\u001b[0;32m      5\u001b[0m     \u001b[0my\u001b[0m\u001b[1;33m=\u001b[0m\u001b[0mAL1\u001b[0m\u001b[1;33m,\u001b[0m\u001b[1;33m\u001b[0m\u001b[1;33m\u001b[0m\u001b[0m\n",
      "\u001b[1;31mNameError\u001b[0m: name 'go' is not defined"
     ]
    }
   ],
   "source": [
    "fig = go.Figure()\n",
    "fig.layout=go.Layout(\n",
    "        title=go.layout.Title(text=\"Total R&D Cost for Companies with 1–9 Employees by Ownership: 2017\") )\n",
    "fig.add_trace(go.Bar(\n",
    "    y=AL1,\n",
    "    x=AL2,\n",
    "    name='1–4 employees',\n",
    "    orientation='h',\n",
    "    marker=dict(\n",
    "        color='rgba(246, 78, 139, 0.6)',\n",
    "        line=dict(color='rgba(246, 78, 139, 1.0)', width=3)\n",
    "    )\n",
    "))\n",
    "fig.add_trace(go.Bar(\n",
    "    y=AL1,\n",
    "    x=AL3,\n",
    "    name='5–9 employees',\n",
    "    orientation='h',\n",
    "    marker=dict(\n",
    "        color='rgba(58, 71, 80, 0.6)',\n",
    "        line=dict(color='rgba(58, 71, 80, 1.0)', width=3)\n",
    "    )\n",
    "))\n",
    "fig.layout.yaxis.update({'anchor': 'x2'})\n",
    "fig.layout.xaxis.update({'anchor': 'y2'})\n",
    "fig.layout.xaxis.update({'title': 'Million Dollars'})\n",
    "#fig.update_layout(barmode='stack')\n",
    "fig.show()"
   ]
  },
  {
   "cell_type": "markdown",
   "id": "voluntary-chambers",
   "metadata": {},
   "source": [
    "## 3) Total R&D Cost by State: 2013"
   ]
  },
  {
   "cell_type": "code",
   "execution_count": 5,
   "id": "sorted-review",
   "metadata": {},
   "outputs": [
    {
     "ename": "NameError",
     "evalue": "name 'pd' is not defined",
     "output_type": "error",
     "traceback": [
      "\u001b[1;31m---------------------------------------------------------------------------\u001b[0m",
      "\u001b[1;31mNameError\u001b[0m                                 Traceback (most recent call last)",
      "\u001b[1;32m~\\AppData\\Local\\Temp/ipykernel_40172/924833093.py\u001b[0m in \u001b[0;36m<module>\u001b[1;34m\u001b[0m\n\u001b[0;32m      1\u001b[0m \u001b[1;31m# 11    Total R&D cost for companies with 1–9 employees, by state and company size: 2017\u001b[0m\u001b[1;33m\u001b[0m\u001b[1;33m\u001b[0m\u001b[0m\n\u001b[1;32m----> 2\u001b[1;33m \u001b[0mdf11\u001b[0m \u001b[1;33m=\u001b[0m \u001b[0mpd\u001b[0m\u001b[1;33m.\u001b[0m\u001b[0mread_excel\u001b[0m\u001b[1;33m(\u001b[0m\u001b[1;34m'https://ncses.nsf.gov/pubs/nsf21303/assets/data-tables/tables/nsf21303-tab011.xlsx'\u001b[0m\u001b[1;33m,\u001b[0m \u001b[0mskiprows\u001b[0m \u001b[1;33m=\u001b[0m \u001b[1;33m[\u001b[0m\u001b[1;36m0\u001b[0m\u001b[1;33m,\u001b[0m \u001b[1;36m1\u001b[0m\u001b[1;33m,\u001b[0m \u001b[1;36m2\u001b[0m\u001b[1;33m,\u001b[0m \u001b[1;33m]\u001b[0m\u001b[1;33m,\u001b[0m \u001b[0musecols\u001b[0m\u001b[1;33m=\u001b[0m \u001b[1;33m[\u001b[0m\u001b[1;36m0\u001b[0m\u001b[1;33m,\u001b[0m \u001b[1;36m1\u001b[0m\u001b[1;33m,\u001b[0m \u001b[1;36m3\u001b[0m\u001b[1;33m,\u001b[0m \u001b[1;33m]\u001b[0m \u001b[1;33m)\u001b[0m\u001b[1;33m\u001b[0m\u001b[1;33m\u001b[0m\u001b[0m\n\u001b[0m\u001b[0;32m      3\u001b[0m \u001b[0mdf11\u001b[0m\u001b[1;33m.\u001b[0m\u001b[0mcolumns\u001b[0m \u001b[1;33m=\u001b[0m \u001b[1;33m[\u001b[0m\u001b[1;34m'State'\u001b[0m\u001b[1;33m,\u001b[0m \u001b[1;34m'Companies (number)'\u001b[0m\u001b[1;33m,\u001b[0m \u001b[1;34m'Million Dollars ($)'\u001b[0m\u001b[1;33m]\u001b[0m\u001b[1;33m\u001b[0m\u001b[1;33m\u001b[0m\u001b[0m\n\u001b[0;32m      4\u001b[0m \u001b[0mdf11\u001b[0m \u001b[1;33m=\u001b[0m \u001b[0mdf11\u001b[0m\u001b[1;33m.\u001b[0m\u001b[0miloc\u001b[0m\u001b[1;33m[\u001b[0m\u001b[1;36m2\u001b[0m\u001b[1;33m:\u001b[0m\u001b[1;33m]\u001b[0m\u001b[1;33m\u001b[0m\u001b[1;33m\u001b[0m\u001b[0m\n\u001b[0;32m      5\u001b[0m \u001b[0mdf11\u001b[0m\u001b[1;33m.\u001b[0m\u001b[0mhead\u001b[0m\u001b[1;33m(\u001b[0m\u001b[1;33m)\u001b[0m\u001b[1;33m\u001b[0m\u001b[1;33m\u001b[0m\u001b[0m\n",
      "\u001b[1;31mNameError\u001b[0m: name 'pd' is not defined"
     ]
    }
   ],
   "source": [
    "# 11\tTotal R&D cost for companies with 1–9 employees, by state and company size: 2017\n",
    "df11 = pd.read_excel('https://ncses.nsf.gov/pubs/nsf21303/assets/data-tables/tables/nsf21303-tab011.xlsx', skiprows = [0, 1, 2, ], usecols= [0, 1, 3, ] )\n",
    "df11.columns = ['State', 'Companies (number)', 'Million Dollars ($)']\n",
    "df11 = df11.iloc[2:]\n",
    "df11.head()    \n",
    "df11[['Companies (number)', 'Million Dollars ($)']] = df11[['Companies (number)', 'Million Dollars ($)']].astype(float) \n",
    "df11['Million Dollars ($)'] =df11['Million Dollars ($)'].div(1000)\n",
    "sc = pd.read_csv('../../Users/gitData/csvData.csv')\n",
    "df11 = df11.merge(sc)\n",
    "df11.head(50)"
   ]
  },
  {
   "cell_type": "code",
   "execution_count": 6,
   "id": "bacterial-continuity",
   "metadata": {},
   "outputs": [
    {
     "ename": "NameError",
     "evalue": "name 'px' is not defined",
     "output_type": "error",
     "traceback": [
      "\u001b[1;31m---------------------------------------------------------------------------\u001b[0m",
      "\u001b[1;31mNameError\u001b[0m                                 Traceback (most recent call last)",
      "\u001b[1;32m~\\AppData\\Local\\Temp/ipykernel_40172/1425641493.py\u001b[0m in \u001b[0;36m<module>\u001b[1;34m\u001b[0m\n\u001b[1;32m----> 1\u001b[1;33m fig = px.choropleth(df11,  # Input Pandas DataFrame\n\u001b[0m\u001b[0;32m      2\u001b[0m                     \u001b[0mlocations\u001b[0m\u001b[1;33m=\u001b[0m\u001b[1;34m\"Code\"\u001b[0m\u001b[1;33m,\u001b[0m  \u001b[1;31m# DataFrame column with locations\u001b[0m\u001b[1;33m\u001b[0m\u001b[1;33m\u001b[0m\u001b[0m\n\u001b[0;32m      3\u001b[0m                     \u001b[0mcolor\u001b[0m\u001b[1;33m=\u001b[0m\u001b[1;34m\"Million Dollars ($)\"\u001b[0m\u001b[1;33m,\u001b[0m \u001b[0mhover_name\u001b[0m\u001b[1;33m=\u001b[0m\u001b[1;34m\"State\"\u001b[0m\u001b[1;33m,\u001b[0m \u001b[1;31m# DataFrame column with color values\u001b[0m\u001b[1;33m\u001b[0m\u001b[1;33m\u001b[0m\u001b[0m\n\u001b[0;32m      4\u001b[0m                     \u001b[0mcolor_continuous_scale\u001b[0m\u001b[1;33m=\u001b[0m\u001b[1;34m'Greens'\u001b[0m\u001b[1;33m,\u001b[0m\u001b[1;33m\u001b[0m\u001b[1;33m\u001b[0m\u001b[0m\n\u001b[0;32m      5\u001b[0m                     locationmode = 'USA-states') # Set to plot as US States\n",
      "\u001b[1;31mNameError\u001b[0m: name 'px' is not defined"
     ]
    }
   ],
   "source": [
    "fig = px.choropleth(df11,  # Input Pandas DataFrame\n",
    "                    locations=\"Code\",  # DataFrame column with locations\n",
    "                    color=\"Million Dollars ($)\", hover_name=\"State\", # DataFrame column with color values  \n",
    "                    color_continuous_scale='Greens', \n",
    "                    locationmode = 'USA-states') # Set to plot as US States\n",
    "fig.update_layout(\n",
    "    title_text = 'Total R&D cost for companies with 1–9 employees, by state ($ millions)', # Create a Title\n",
    "    geo_scope='usa',  # Plot only the USA instead of globe\n",
    ")\n",
    "fig.show()"
   ]
  },
  {
   "cell_type": "code",
   "execution_count": 7,
   "id": "large-engine",
   "metadata": {},
   "outputs": [
    {
     "ename": "NameError",
     "evalue": "name 'px' is not defined",
     "output_type": "error",
     "traceback": [
      "\u001b[1;31m---------------------------------------------------------------------------\u001b[0m",
      "\u001b[1;31mNameError\u001b[0m                                 Traceback (most recent call last)",
      "\u001b[1;32m~\\AppData\\Local\\Temp/ipykernel_40172/3513114537.py\u001b[0m in \u001b[0;36m<module>\u001b[1;34m\u001b[0m\n\u001b[1;32m----> 1\u001b[1;33m fig = px.choropleth(df11,  # Input Pandas DataFrame\n\u001b[0m\u001b[0;32m      2\u001b[0m                     \u001b[0mlocations\u001b[0m\u001b[1;33m=\u001b[0m\u001b[1;34m\"Code\"\u001b[0m\u001b[1;33m,\u001b[0m  \u001b[1;31m# DataFrame column with locations\u001b[0m\u001b[1;33m\u001b[0m\u001b[1;33m\u001b[0m\u001b[0m\n\u001b[0;32m      3\u001b[0m                     \u001b[0mcolor\u001b[0m\u001b[1;33m=\u001b[0m\u001b[1;34m\"Companies (number)\"\u001b[0m\u001b[1;33m,\u001b[0m \u001b[0mhover_name\u001b[0m\u001b[1;33m=\u001b[0m\u001b[1;34m\"State\"\u001b[0m\u001b[1;33m,\u001b[0m \u001b[1;31m# DataFrame column with color values\u001b[0m\u001b[1;33m\u001b[0m\u001b[1;33m\u001b[0m\u001b[0m\n\u001b[0;32m      4\u001b[0m                     \u001b[0mcolor_continuous_scale\u001b[0m\u001b[1;33m=\u001b[0m\u001b[1;34m'Blues'\u001b[0m\u001b[1;33m,\u001b[0m\u001b[1;33m\u001b[0m\u001b[1;33m\u001b[0m\u001b[0m\n\u001b[0;32m      5\u001b[0m                     locationmode = 'USA-states') # Set to plot as US States\n",
      "\u001b[1;31mNameError\u001b[0m: name 'px' is not defined"
     ]
    }
   ],
   "source": [
    "fig = px.choropleth(df11,  # Input Pandas DataFrame\n",
    "                    locations=\"Code\",  # DataFrame column with locations\n",
    "                    color=\"Companies (number)\", hover_name=\"State\", # DataFrame column with color values  \n",
    "                    color_continuous_scale='Blues', \n",
    "                    locationmode = 'USA-states') # Set to plot as US States\n",
    "fig.update_layout(\n",
    "    title_text = 'Number of companies with 1–9 employees, by state', # Create a Title\n",
    "    geo_scope='usa',  # Plot only the USA instead of globe\n",
    ")\n",
    "fig.show()"
   ]
  },
  {
   "cell_type": "markdown",
   "id": "conditional-lambda",
   "metadata": {},
   "source": [
    "## 4) Product Innovation: 2015-2017"
   ]
  },
  {
   "cell_type": "code",
   "execution_count": 8,
   "id": "temporal-absorption",
   "metadata": {},
   "outputs": [
    {
     "ename": "NameError",
     "evalue": "name 'pd' is not defined",
     "output_type": "error",
     "traceback": [
      "\u001b[1;31m---------------------------------------------------------------------------\u001b[0m",
      "\u001b[1;31mNameError\u001b[0m                                 Traceback (most recent call last)",
      "\u001b[1;32m~\\AppData\\Local\\Temp/ipykernel_40172/1197572369.py\u001b[0m in \u001b[0;36m<module>\u001b[1;34m\u001b[0m\n\u001b[0;32m      1\u001b[0m \u001b[1;31m# 20    Product innovation in companies, by company size: 2015–17\u001b[0m\u001b[1;33m\u001b[0m\u001b[1;33m\u001b[0m\u001b[0m\n\u001b[1;32m----> 2\u001b[1;33m \u001b[0mdf20\u001b[0m \u001b[1;33m=\u001b[0m \u001b[0mpd\u001b[0m\u001b[1;33m.\u001b[0m\u001b[0mread_excel\u001b[0m\u001b[1;33m(\u001b[0m\u001b[1;34m'https://ncses.nsf.gov/pubs/nsf21303/assets/data-tables/tables/nsf21303-tab020.xlsx'\u001b[0m\u001b[1;33m,\u001b[0m \u001b[0mskiprows\u001b[0m \u001b[1;33m=\u001b[0m \u001b[1;33m[\u001b[0m\u001b[1;36m0\u001b[0m\u001b[1;33m,\u001b[0m \u001b[1;36m1\u001b[0m\u001b[1;33m,\u001b[0m \u001b[1;36m2\u001b[0m\u001b[1;33m,\u001b[0m \u001b[1;33m]\u001b[0m\u001b[1;33m,\u001b[0m \u001b[0musecols\u001b[0m\u001b[1;33m=\u001b[0m \u001b[1;33m[\u001b[0m\u001b[1;36m0\u001b[0m\u001b[1;33m,\u001b[0m \u001b[1;36m1\u001b[0m\u001b[1;33m,\u001b[0m \u001b[1;36m3\u001b[0m\u001b[1;33m,\u001b[0m \u001b[1;36m5\u001b[0m\u001b[1;33m,\u001b[0m \u001b[1;36m7\u001b[0m\u001b[1;33m,\u001b[0m \u001b[1;36m9\u001b[0m\u001b[1;33m,\u001b[0m  \u001b[1;33m]\u001b[0m\u001b[1;33m)\u001b[0m\u001b[1;33m\u001b[0m\u001b[1;33m\u001b[0m\u001b[0m\n\u001b[0m\u001b[0;32m      3\u001b[0m \u001b[0mdf20a\u001b[0m \u001b[1;33m=\u001b[0m \u001b[0mdf20\u001b[0m\u001b[1;33m.\u001b[0m\u001b[0miloc\u001b[0m\u001b[1;33m[\u001b[0m\u001b[1;33m[\u001b[0m\u001b[1;36m4\u001b[0m\u001b[1;33m,\u001b[0m\u001b[1;36m5\u001b[0m\u001b[1;33m,\u001b[0m\u001b[1;36m7\u001b[0m\u001b[1;33m,\u001b[0m\u001b[1;36m8\u001b[0m\u001b[1;33m,\u001b[0m\u001b[1;36m10\u001b[0m\u001b[1;33m,\u001b[0m\u001b[1;36m11\u001b[0m\u001b[1;33m,\u001b[0m \u001b[1;36m13\u001b[0m\u001b[1;33m,\u001b[0m \u001b[1;36m14\u001b[0m\u001b[1;33m,\u001b[0m \u001b[1;36m15\u001b[0m\u001b[1;33m,\u001b[0m \u001b[1;36m16\u001b[0m\u001b[1;33m,\u001b[0m \u001b[1;36m17\u001b[0m\u001b[1;33m,\u001b[0m\u001b[1;36m18\u001b[0m\u001b[1;33m,\u001b[0m\u001b[1;33m]\u001b[0m\u001b[1;33m]\u001b[0m\u001b[1;33m\u001b[0m\u001b[1;33m\u001b[0m\u001b[0m\n\u001b[0;32m      4\u001b[0m \u001b[0mdf20a\u001b[0m\u001b[1;33m[\u001b[0m\u001b[1;34m'Company type'\u001b[0m\u001b[1;33m]\u001b[0m \u001b[1;33m=\u001b[0m \u001b[1;33m[\u001b[0m\u001b[1;34m'Micro'\u001b[0m\u001b[1;33m,\u001b[0m \u001b[1;34m'Micro'\u001b[0m\u001b[1;33m,\u001b[0m \u001b[1;34m'Small'\u001b[0m\u001b[1;33m,\u001b[0m \u001b[1;34m'Small'\u001b[0m\u001b[1;33m,\u001b[0m \u001b[1;34m'Medium'\u001b[0m\u001b[1;33m,\u001b[0m \u001b[1;34m'Medium'\u001b[0m\u001b[1;33m,\u001b[0m \u001b[1;34m'Large'\u001b[0m\u001b[1;33m,\u001b[0m\u001b[1;34m'Large'\u001b[0m\u001b[1;33m,\u001b[0m \u001b[1;34m'Large'\u001b[0m\u001b[1;33m,\u001b[0m\u001b[1;34m'Large'\u001b[0m\u001b[1;33m,\u001b[0m\u001b[1;34m'Large'\u001b[0m\u001b[1;33m,\u001b[0m\u001b[1;34m'Large'\u001b[0m\u001b[1;33m]\u001b[0m\u001b[1;33m\u001b[0m\u001b[1;33m\u001b[0m\u001b[0m\n\u001b[0;32m      5\u001b[0m \u001b[0mdf20a\u001b[0m\u001b[1;33m.\u001b[0m\u001b[0mcolumns\u001b[0m \u001b[1;33m=\u001b[0m \u001b[1;33m[\u001b[0m\u001b[1;34m'Company size'\u001b[0m\u001b[1;33m,\u001b[0m \u001b[1;34m'Companies (number)'\u001b[0m\u001b[1;33m,\u001b[0m\u001b[1;34m'Yes- Number'\u001b[0m\u001b[1;33m,\u001b[0m \u001b[1;34m'No- Number'\u001b[0m\u001b[1;33m,\u001b[0m \u001b[1;34m'Yes- %'\u001b[0m\u001b[1;33m,\u001b[0m \u001b[1;34m'No- %'\u001b[0m\u001b[1;33m,\u001b[0m\u001b[1;34m'Company type'\u001b[0m\u001b[1;33m]\u001b[0m\u001b[1;33m\u001b[0m\u001b[1;33m\u001b[0m\u001b[0m\n",
      "\u001b[1;31mNameError\u001b[0m: name 'pd' is not defined"
     ]
    }
   ],
   "source": [
    "# 20\tProduct innovation in companies, by company size: 2015–17\n",
    "df20 = pd.read_excel('https://ncses.nsf.gov/pubs/nsf21303/assets/data-tables/tables/nsf21303-tab020.xlsx', skiprows = [0, 1, 2, ], usecols= [0, 1, 3, 5, 7, 9,  ])\n",
    "df20a = df20.iloc[[4,5,7,8,10,11, 13, 14, 15, 16, 17,18,]]\n",
    "df20a['Company type'] = ['Micro', 'Micro', 'Small', 'Small', 'Medium', 'Medium', 'Large','Large', 'Large','Large','Large','Large']\n",
    "df20a.columns = ['Company size', 'Companies (number)','Yes- Number', 'No- Number', 'Yes- %', 'No- %','Company type']\n",
    "df20a.head(20)\n",
    "df20a[['Companies (number)','Yes- Number', 'No- Number', 'Yes- %', 'No- %']] = df20a[['Companies (number)','Yes- Number', 'No- Number', 'Yes- %', 'No- %']].astype(float) \n",
    "# df20a.dtypes"
   ]
  },
  {
   "cell_type": "code",
   "execution_count": 9,
   "id": "pursuant-heather",
   "metadata": {},
   "outputs": [
    {
     "ename": "NameError",
     "evalue": "name 'df20a' is not defined",
     "output_type": "error",
     "traceback": [
      "\u001b[1;31m---------------------------------------------------------------------------\u001b[0m",
      "\u001b[1;31mNameError\u001b[0m                                 Traceback (most recent call last)",
      "\u001b[1;32m~\\AppData\\Local\\Temp/ipykernel_40172/2554840006.py\u001b[0m in \u001b[0;36m<module>\u001b[1;34m\u001b[0m\n\u001b[1;32m----> 1\u001b[1;33m \u001b[0mL1\u001b[0m \u001b[1;33m=\u001b[0m \u001b[0mdf20a\u001b[0m\u001b[1;33m[\u001b[0m\u001b[1;34m'Company size'\u001b[0m\u001b[1;33m]\u001b[0m\u001b[1;33m.\u001b[0m\u001b[0mtolist\u001b[0m\u001b[1;33m(\u001b[0m\u001b[1;33m)\u001b[0m\u001b[1;33m\u001b[0m\u001b[1;33m\u001b[0m\u001b[0m\n\u001b[0m\u001b[0;32m      2\u001b[0m \u001b[0mL2\u001b[0m \u001b[1;33m=\u001b[0m \u001b[0mdf20a\u001b[0m\u001b[1;33m[\u001b[0m\u001b[1;34m'Yes- Number'\u001b[0m\u001b[1;33m]\u001b[0m\u001b[1;33m.\u001b[0m\u001b[0mtolist\u001b[0m\u001b[1;33m(\u001b[0m\u001b[1;33m)\u001b[0m\u001b[1;33m\u001b[0m\u001b[1;33m\u001b[0m\u001b[0m\n\u001b[0;32m      3\u001b[0m \u001b[0mL3\u001b[0m \u001b[1;33m=\u001b[0m \u001b[0mdf20a\u001b[0m\u001b[1;33m[\u001b[0m\u001b[1;34m'No- Number'\u001b[0m\u001b[1;33m]\u001b[0m\u001b[1;33m.\u001b[0m\u001b[0mtolist\u001b[0m\u001b[1;33m(\u001b[0m\u001b[1;33m)\u001b[0m\u001b[1;33m\u001b[0m\u001b[1;33m\u001b[0m\u001b[0m\n\u001b[0;32m      4\u001b[0m \u001b[0mL4\u001b[0m \u001b[1;33m=\u001b[0m \u001b[0mdf20a\u001b[0m\u001b[1;33m[\u001b[0m\u001b[1;34m'Yes- %'\u001b[0m\u001b[1;33m]\u001b[0m\u001b[1;33m.\u001b[0m\u001b[0mtolist\u001b[0m\u001b[1;33m(\u001b[0m\u001b[1;33m)\u001b[0m\u001b[1;33m\u001b[0m\u001b[1;33m\u001b[0m\u001b[0m\n\u001b[0;32m      5\u001b[0m \u001b[0mL5\u001b[0m \u001b[1;33m=\u001b[0m \u001b[0mdf20a\u001b[0m\u001b[1;33m[\u001b[0m\u001b[1;34m'No- %'\u001b[0m\u001b[1;33m]\u001b[0m\u001b[1;33m.\u001b[0m\u001b[0mtolist\u001b[0m\u001b[1;33m(\u001b[0m\u001b[1;33m)\u001b[0m\u001b[1;33m\u001b[0m\u001b[1;33m\u001b[0m\u001b[0m\n",
      "\u001b[1;31mNameError\u001b[0m: name 'df20a' is not defined"
     ]
    }
   ],
   "source": [
    "L1 = df20a['Company size'].tolist()\n",
    "L2 = df20a['Yes- Number'].tolist()\n",
    "L3 = df20a['No- Number'].tolist()\n",
    "L4 = df20a['Yes- %'].tolist()\n",
    "L5 = df20a['No- %'].tolist()\n",
    "L6 = df20a['Company type'].tolist()\n",
    "\n",
    "\n",
    "fig = go.Figure()\n",
    "fig.layout=go.Layout(\n",
    "        title=go.layout.Title(text=\"Number of Product innovation in companies, by company size: 2015–17\") )\n",
    "fig.add_trace(go.Bar(\n",
    "    y=L1,\n",
    "    x=L2,\n",
    "    name='Yes- Number',\n",
    "    orientation='h',\n",
    "    marker=dict(\n",
    "        color='rgba(100, 149, 237, 0.8)',\n",
    "        line=dict(color='rgba(100, 149, 237, 1.0)', width=3)\n",
    "    )\n",
    "))\n",
    "fig.add_trace(go.Bar(\n",
    "    y=L1,\n",
    "    x=L3,\n",
    "    name='No- Number',\n",
    "    orientation='h',\n",
    "    marker=dict(\n",
    "        color='rgba(88, 24, 69, 0.8)',\n",
    "        line=dict(color='rgba(88, 24, 69, 1.0)', width=3)\n",
    "    )\n",
    "))\n",
    "\n",
    "#fig.update_layout(barmode='stack')\n",
    "fig.show()"
   ]
  },
  {
   "cell_type": "code",
   "execution_count": 10,
   "id": "grave-strike",
   "metadata": {},
   "outputs": [
    {
     "ename": "NameError",
     "evalue": "name 'go' is not defined",
     "output_type": "error",
     "traceback": [
      "\u001b[1;31m---------------------------------------------------------------------------\u001b[0m",
      "\u001b[1;31mNameError\u001b[0m                                 Traceback (most recent call last)",
      "\u001b[1;32m~\\AppData\\Local\\Temp/ipykernel_40172/2077955233.py\u001b[0m in \u001b[0;36m<module>\u001b[1;34m\u001b[0m\n\u001b[1;32m----> 1\u001b[1;33m \u001b[0mfig\u001b[0m \u001b[1;33m=\u001b[0m \u001b[0mgo\u001b[0m\u001b[1;33m.\u001b[0m\u001b[0mFigure\u001b[0m\u001b[1;33m(\u001b[0m\u001b[1;33m)\u001b[0m\u001b[1;33m\u001b[0m\u001b[1;33m\u001b[0m\u001b[0m\n\u001b[0m\u001b[0;32m      2\u001b[0m fig.layout=go.Layout(\n\u001b[0;32m      3\u001b[0m         title=go.layout.Title(text=\"Percentage of Product innovation in companies, by company size: 2015–17\") )\n\u001b[0;32m      4\u001b[0m fig.add_trace(go.Bar(\n\u001b[0;32m      5\u001b[0m     \u001b[0my\u001b[0m\u001b[1;33m=\u001b[0m\u001b[0mL1\u001b[0m\u001b[1;33m,\u001b[0m\u001b[1;33m\u001b[0m\u001b[1;33m\u001b[0m\u001b[0m\n",
      "\u001b[1;31mNameError\u001b[0m: name 'go' is not defined"
     ]
    }
   ],
   "source": [
    "fig = go.Figure()\n",
    "fig.layout=go.Layout(\n",
    "        title=go.layout.Title(text=\"Percentage of Product innovation in companies, by company size: 2015–17\") )\n",
    "fig.add_trace(go.Bar(\n",
    "    y=L1,\n",
    "    x=L4,\n",
    "    name='Yes- %',\n",
    "    orientation='h',\n",
    "    marker=dict(\n",
    "        color='rgba(100, 149, 237, 0.8)',\n",
    "        line=dict(color='rgba(100, 149, 237, 1.0)', width=3)\n",
    "    )\n",
    "))\n",
    "fig.add_trace(go.Bar(\n",
    "    y=L1,\n",
    "    x=L5,\n",
    "    name='No- %',\n",
    "    orientation='h',\n",
    "    marker=dict(\n",
    "        color='rgba(88, 24, 69, 0.8)',\n",
    "        line=dict(color='rgba(88, 24, 69, 1.0)', width=3)\n",
    "    )\n",
    "))\n",
    "\n",
    "fig.update_layout(barmode='stack')\n",
    "fig.show()\n",
    "plt.savefig('ProductInnovation.png')"
   ]
  },
  {
   "cell_type": "code",
   "execution_count": 11,
   "id": "refined-territory",
   "metadata": {},
   "outputs": [
    {
     "ename": "NameError",
     "evalue": "name 'df20a' is not defined",
     "output_type": "error",
     "traceback": [
      "\u001b[1;31m---------------------------------------------------------------------------\u001b[0m",
      "\u001b[1;31mNameError\u001b[0m                                 Traceback (most recent call last)",
      "\u001b[1;32m~\\AppData\\Local\\Temp/ipykernel_40172/1270926114.py\u001b[0m in \u001b[0;36m<module>\u001b[1;34m\u001b[0m\n\u001b[1;32m----> 1\u001b[1;33m \u001b[0mdf20a2\u001b[0m \u001b[1;33m=\u001b[0m \u001b[0mdf20a\u001b[0m\u001b[1;33m.\u001b[0m\u001b[0mgroupby\u001b[0m\u001b[1;33m(\u001b[0m\u001b[1;34m'Company type'\u001b[0m\u001b[1;33m)\u001b[0m\u001b[1;33m[\u001b[0m \u001b[1;34m'Yes- Number'\u001b[0m\u001b[1;33m,\u001b[0m \u001b[1;34m'No- Number'\u001b[0m\u001b[1;33m]\u001b[0m\u001b[1;33m.\u001b[0m\u001b[0msum\u001b[0m\u001b[1;33m(\u001b[0m\u001b[1;33m)\u001b[0m\u001b[1;33m\u001b[0m\u001b[1;33m\u001b[0m\u001b[0m\n\u001b[0m\u001b[0;32m      2\u001b[0m \u001b[1;31m# print(df20b)\u001b[0m\u001b[1;33m\u001b[0m\u001b[1;33m\u001b[0m\u001b[0m\n\u001b[0;32m      3\u001b[0m \u001b[0mdf20a2\u001b[0m\u001b[1;33m.\u001b[0m\u001b[0mreset_index\u001b[0m\u001b[1;33m(\u001b[0m\u001b[0minplace\u001b[0m \u001b[1;33m=\u001b[0m \u001b[1;32mTrue\u001b[0m\u001b[1;33m)\u001b[0m\u001b[1;33m\u001b[0m\u001b[1;33m\u001b[0m\u001b[0m\n\u001b[0;32m      4\u001b[0m \u001b[1;31m#df20a2.head()\u001b[0m\u001b[1;33m\u001b[0m\u001b[1;33m\u001b[0m\u001b[0m\n",
      "\u001b[1;31mNameError\u001b[0m: name 'df20a' is not defined"
     ]
    }
   ],
   "source": [
    "df20a2 = df20a.groupby('Company type')[ 'Yes- Number', 'No- Number'].sum()\n",
    "# print(df20b)\n",
    "df20a2.reset_index(inplace = True)\n",
    "#df20a2.head()"
   ]
  },
  {
   "cell_type": "code",
   "execution_count": 12,
   "id": "distinct-inside",
   "metadata": {},
   "outputs": [
    {
     "ename": "NameError",
     "evalue": "name 'df20a' is not defined",
     "output_type": "error",
     "traceback": [
      "\u001b[1;31m---------------------------------------------------------------------------\u001b[0m",
      "\u001b[1;31mNameError\u001b[0m                                 Traceback (most recent call last)",
      "\u001b[1;32m~\\AppData\\Local\\Temp/ipykernel_40172/1398781507.py\u001b[0m in \u001b[0;36m<module>\u001b[1;34m\u001b[0m\n\u001b[1;32m----> 1\u001b[1;33m \u001b[0mdf20a2\u001b[0m \u001b[1;33m=\u001b[0m \u001b[0mdf20a\u001b[0m\u001b[1;33m.\u001b[0m\u001b[0mgroupby\u001b[0m\u001b[1;33m(\u001b[0m\u001b[1;34m'Company type'\u001b[0m\u001b[1;33m)\u001b[0m\u001b[1;33m[\u001b[0m \u001b[1;34m'Yes- Number'\u001b[0m\u001b[1;33m,\u001b[0m \u001b[1;34m'No- Number'\u001b[0m\u001b[1;33m]\u001b[0m\u001b[1;33m.\u001b[0m\u001b[0msum\u001b[0m\u001b[1;33m(\u001b[0m\u001b[1;33m)\u001b[0m\u001b[1;33m\u001b[0m\u001b[1;33m\u001b[0m\u001b[0m\n\u001b[0m\u001b[0;32m      2\u001b[0m \u001b[1;31m# print(df20b)\u001b[0m\u001b[1;33m\u001b[0m\u001b[1;33m\u001b[0m\u001b[0m\n\u001b[0;32m      3\u001b[0m \u001b[0mdf20a2\u001b[0m\u001b[1;33m.\u001b[0m\u001b[0mreset_index\u001b[0m\u001b[1;33m(\u001b[0m\u001b[0minplace\u001b[0m \u001b[1;33m=\u001b[0m \u001b[1;32mTrue\u001b[0m\u001b[1;33m)\u001b[0m\u001b[1;33m\u001b[0m\u001b[1;33m\u001b[0m\u001b[0m\n\u001b[0;32m      4\u001b[0m \u001b[0mdf20a2\u001b[0m\u001b[1;33m.\u001b[0m\u001b[0mhead\u001b[0m\u001b[1;33m(\u001b[0m\u001b[1;33m)\u001b[0m\u001b[1;33m\u001b[0m\u001b[1;33m\u001b[0m\u001b[0m\n\u001b[0;32m      5\u001b[0m \u001b[0mL1\u001b[0m \u001b[1;33m=\u001b[0m \u001b[0mdf20a2\u001b[0m\u001b[1;33m[\u001b[0m\u001b[1;34m'Company type'\u001b[0m\u001b[1;33m]\u001b[0m\u001b[1;33m.\u001b[0m\u001b[0mtolist\u001b[0m\u001b[1;33m(\u001b[0m\u001b[1;33m)\u001b[0m\u001b[1;33m\u001b[0m\u001b[1;33m\u001b[0m\u001b[0m\n",
      "\u001b[1;31mNameError\u001b[0m: name 'df20a' is not defined"
     ]
    }
   ],
   "source": [
    "df20a2 = df20a.groupby('Company type')[ 'Yes- Number', 'No- Number'].sum()\n",
    "# print(df20b)\n",
    "df20a2.reset_index(inplace = True)\n",
    "df20a2.head()\n",
    "L1 = df20a2['Company type'].tolist()\n",
    "L2 = df20a2['Yes- Number'].tolist()\n",
    "L3 = df20a2['No- Number'].tolist()\n",
    "fig = go.Figure()\n",
    "fig.layout=go.Layout(\n",
    "        title=go.layout.Title(text=\"Number of Product innovation in companies, by company size: 2015–17\") )\n",
    "fig.add_trace(go.Bar(\n",
    "    y=L1,\n",
    "    x=L2,\n",
    "    name='Yes- Number',\n",
    "    orientation='h',\n",
    "    marker=dict(\n",
    "        color='rgba(9, 3, 100, 0.8)',\n",
    "        line=dict(color='rgba(100, 149, 237, 1.0)', width=3)\n",
    "    )\n",
    "))\n",
    "fig.add_trace(go.Bar(\n",
    "    y=L1,\n",
    "    x=L3,\n",
    "    name='No- Number',\n",
    "    orientation='h',\n",
    "    marker=dict(\n",
    "        color='rgba(88, 24, 33, 0.8)',\n",
    "        line=dict(color='rgba(88, 24, 69, 1.0)', width=3)\n",
    "    )\n",
    "))\n",
    "\n",
    "#fig.update_layout(barmode='stack')\n",
    "fig.show()"
   ]
  },
  {
   "cell_type": "code",
   "execution_count": 13,
   "id": "worthy-universe",
   "metadata": {},
   "outputs": [
    {
     "ename": "NameError",
     "evalue": "name 'df20a' is not defined",
     "output_type": "error",
     "traceback": [
      "\u001b[1;31m---------------------------------------------------------------------------\u001b[0m",
      "\u001b[1;31mNameError\u001b[0m                                 Traceback (most recent call last)",
      "\u001b[1;32m~\\AppData\\Local\\Temp/ipykernel_40172/412467090.py\u001b[0m in \u001b[0;36m<module>\u001b[1;34m\u001b[0m\n\u001b[1;32m----> 1\u001b[1;33m \u001b[0mdf20a1\u001b[0m \u001b[1;33m=\u001b[0m \u001b[0mdf20a\u001b[0m\u001b[1;33m.\u001b[0m\u001b[0mgroupby\u001b[0m\u001b[1;33m(\u001b[0m\u001b[1;34m'Company type'\u001b[0m\u001b[1;33m)\u001b[0m\u001b[1;33m[\u001b[0m \u001b[1;34m'Yes- %'\u001b[0m\u001b[1;33m,\u001b[0m \u001b[1;34m'No- %'\u001b[0m\u001b[1;33m]\u001b[0m\u001b[1;33m.\u001b[0m\u001b[0mmean\u001b[0m\u001b[1;33m(\u001b[0m\u001b[1;33m)\u001b[0m\u001b[1;33m\u001b[0m\u001b[1;33m\u001b[0m\u001b[0m\n\u001b[0m\u001b[0;32m      2\u001b[0m \u001b[1;31m# print(df20b)\u001b[0m\u001b[1;33m\u001b[0m\u001b[1;33m\u001b[0m\u001b[0m\n\u001b[0;32m      3\u001b[0m \u001b[0mdf20a1\u001b[0m\u001b[1;33m.\u001b[0m\u001b[0mreset_index\u001b[0m\u001b[1;33m(\u001b[0m\u001b[0minplace\u001b[0m \u001b[1;33m=\u001b[0m \u001b[1;32mTrue\u001b[0m\u001b[1;33m)\u001b[0m\u001b[1;33m\u001b[0m\u001b[1;33m\u001b[0m\u001b[0m\n\u001b[0;32m      4\u001b[0m \u001b[0mdf20a1\u001b[0m\u001b[1;33m.\u001b[0m\u001b[0mhead\u001b[0m\u001b[1;33m(\u001b[0m\u001b[1;33m)\u001b[0m\u001b[1;33m\u001b[0m\u001b[1;33m\u001b[0m\u001b[0m\n\u001b[0;32m      5\u001b[0m \u001b[0mL1\u001b[0m \u001b[1;33m=\u001b[0m \u001b[0mdf20a1\u001b[0m\u001b[1;33m[\u001b[0m\u001b[1;34m'Company type'\u001b[0m\u001b[1;33m]\u001b[0m\u001b[1;33m.\u001b[0m\u001b[0mtolist\u001b[0m\u001b[1;33m(\u001b[0m\u001b[1;33m)\u001b[0m\u001b[1;33m\u001b[0m\u001b[1;33m\u001b[0m\u001b[0m\n",
      "\u001b[1;31mNameError\u001b[0m: name 'df20a' is not defined"
     ]
    }
   ],
   "source": [
    "df20a1 = df20a.groupby('Company type')[ 'Yes- %', 'No- %'].mean()\n",
    "# print(df20b)\n",
    "df20a1.reset_index(inplace = True)\n",
    "df20a1.head()\n",
    "L1 = df20a1['Company type'].tolist()\n",
    "L2 = df20a1['Yes- %'].tolist()\n",
    "L3 = df20a1['No- %'].tolist()\n",
    "fig = go.Figure()\n",
    "fig.layout=go.Layout(\n",
    "        title=go.layout.Title(text=\"Percentage of Product innovation in companies, by company size: 2015–17\") )\n",
    "fig.add_trace(go.Bar(\n",
    "    y=L1,\n",
    "    x=L2,\n",
    "    name='Yes- %',\n",
    "    orientation='h',\n",
    "    marker=dict(\n",
    "        color='rgba(9, 3,100, 0.8)',\n",
    "        line=dict(color='rgba(100, 149, 237, 1.0)', width=3)\n",
    "    )\n",
    "))\n",
    "fig.add_trace(go.Bar(\n",
    "    y=L1,\n",
    "    x=L3,\n",
    "    name='No- %',\n",
    "    orientation='h',\n",
    "    marker=dict(\n",
    "        color='rgba(88, 24, 33, 0.8)',\n",
    "        line=dict(color='rgba(88, 24, 69, 1.0)', width=3)\n",
    "    )\n",
    "))\n",
    "\n",
    "fig.update_layout(barmode='stack')\n",
    "fig.show()"
   ]
  },
  {
   "cell_type": "code",
   "execution_count": 14,
   "id": "early-needle",
   "metadata": {},
   "outputs": [
    {
     "ename": "NameError",
     "evalue": "name 'pd' is not defined",
     "output_type": "error",
     "traceback": [
      "\u001b[1;31m---------------------------------------------------------------------------\u001b[0m",
      "\u001b[1;31mNameError\u001b[0m                                 Traceback (most recent call last)",
      "\u001b[1;32m~\\AppData\\Local\\Temp/ipykernel_40172/3756515396.py\u001b[0m in \u001b[0;36m<module>\u001b[1;34m\u001b[0m\n\u001b[0;32m      1\u001b[0m \u001b[1;31m# 21    Product innovation in companies, by firm classification of sex: 2015–17\u001b[0m\u001b[1;33m\u001b[0m\u001b[1;33m\u001b[0m\u001b[0m\n\u001b[0;32m      2\u001b[0m \u001b[1;33m\u001b[0m\u001b[0m\n\u001b[1;32m----> 3\u001b[1;33m \u001b[0mdf21\u001b[0m \u001b[1;33m=\u001b[0m \u001b[0mpd\u001b[0m\u001b[1;33m.\u001b[0m\u001b[0mread_excel\u001b[0m\u001b[1;33m(\u001b[0m\u001b[1;34m'https://ncses.nsf.gov/pubs/nsf21303/assets/data-tables/tables/nsf21303-tab021.xlsx'\u001b[0m\u001b[1;33m,\u001b[0m \u001b[0mskiprows\u001b[0m \u001b[1;33m=\u001b[0m \u001b[1;33m[\u001b[0m\u001b[1;36m0\u001b[0m\u001b[1;33m,\u001b[0m \u001b[1;36m1\u001b[0m\u001b[1;33m,\u001b[0m \u001b[1;36m2\u001b[0m\u001b[1;33m,\u001b[0m \u001b[1;33m]\u001b[0m\u001b[1;33m,\u001b[0m \u001b[0musecols\u001b[0m\u001b[1;33m=\u001b[0m \u001b[1;33m[\u001b[0m\u001b[1;36m0\u001b[0m\u001b[1;33m,\u001b[0m \u001b[1;36m1\u001b[0m\u001b[1;33m,\u001b[0m \u001b[1;36m3\u001b[0m\u001b[1;33m,\u001b[0m \u001b[1;36m5\u001b[0m\u001b[1;33m,\u001b[0m \u001b[1;36m7\u001b[0m\u001b[1;33m,\u001b[0m \u001b[1;36m9\u001b[0m\u001b[1;33m,\u001b[0m  \u001b[1;33m]\u001b[0m \u001b[1;33m)\u001b[0m\u001b[1;33m\u001b[0m\u001b[1;33m\u001b[0m\u001b[0m\n\u001b[0m\u001b[0;32m      4\u001b[0m \u001b[0mdf21\u001b[0m\u001b[1;33m.\u001b[0m\u001b[0mhead\u001b[0m\u001b[1;33m(\u001b[0m\u001b[1;36m9\u001b[0m\u001b[1;33m)\u001b[0m\u001b[1;33m\u001b[0m\u001b[1;33m\u001b[0m\u001b[0m\n\u001b[0;32m      5\u001b[0m \u001b[0mdf21a\u001b[0m \u001b[1;33m=\u001b[0m \u001b[0mdf21\u001b[0m\u001b[1;33m.\u001b[0m\u001b[0miloc\u001b[0m\u001b[1;33m[\u001b[0m\u001b[1;33m[\u001b[0m\u001b[1;36m3\u001b[0m\u001b[1;33m,\u001b[0m \u001b[1;36m4\u001b[0m\u001b[1;33m,\u001b[0m \u001b[1;36m5\u001b[0m\u001b[1;33m,\u001b[0m \u001b[1;36m6\u001b[0m\u001b[1;33m]\u001b[0m\u001b[1;33m]\u001b[0m\u001b[1;33m\u001b[0m\u001b[1;33m\u001b[0m\u001b[0m\n",
      "\u001b[1;31mNameError\u001b[0m: name 'pd' is not defined"
     ]
    }
   ],
   "source": [
    "# 21\tProduct innovation in companies, by firm classification of sex: 2015–17\n",
    "\n",
    "df21 = pd.read_excel('https://ncses.nsf.gov/pubs/nsf21303/assets/data-tables/tables/nsf21303-tab021.xlsx', skiprows = [0, 1, 2, ], usecols= [0, 1, 3, 5, 7, 9,  ] )\n",
    "df21.head(9)\n",
    "df21a = df21.iloc[[3, 4, 5, 6]]\n",
    "df21a.columns = ['Sex of owners', 'Companies (number)','Yes- Number', 'No- Number', 'Yes- %', 'No- %']\n",
    "df21a.head(20)\n",
    "df21a[['Companies (number)','Yes- Number', 'No- Number', 'Yes- %', 'No- %']] = df21a[['Companies (number)','Yes- Number', 'No- Number', 'Yes- %', 'No- %']].astype(float) "
   ]
  },
  {
   "cell_type": "code",
   "execution_count": 15,
   "id": "informative-finding",
   "metadata": {},
   "outputs": [
    {
     "ename": "NameError",
     "evalue": "name 'df21a' is not defined",
     "output_type": "error",
     "traceback": [
      "\u001b[1;31m---------------------------------------------------------------------------\u001b[0m",
      "\u001b[1;31mNameError\u001b[0m                                 Traceback (most recent call last)",
      "\u001b[1;32m~\\AppData\\Local\\Temp/ipykernel_40172/2952703247.py\u001b[0m in \u001b[0;36m<module>\u001b[1;34m\u001b[0m\n\u001b[1;32m----> 1\u001b[1;33m \u001b[0mL1\u001b[0m \u001b[1;33m=\u001b[0m \u001b[0mdf21a\u001b[0m\u001b[1;33m[\u001b[0m\u001b[1;34m'Sex of owners'\u001b[0m\u001b[1;33m]\u001b[0m\u001b[1;33m.\u001b[0m\u001b[0mtolist\u001b[0m\u001b[1;33m(\u001b[0m\u001b[1;33m)\u001b[0m\u001b[1;33m\u001b[0m\u001b[1;33m\u001b[0m\u001b[0m\n\u001b[0m\u001b[0;32m      2\u001b[0m \u001b[1;33m\u001b[0m\u001b[0m\n\u001b[0;32m      3\u001b[0m \u001b[0mL2\u001b[0m \u001b[1;33m=\u001b[0m \u001b[0mdf21a\u001b[0m\u001b[1;33m[\u001b[0m\u001b[1;34m'Yes- Number'\u001b[0m\u001b[1;33m]\u001b[0m\u001b[1;33m.\u001b[0m\u001b[0mtolist\u001b[0m\u001b[1;33m(\u001b[0m\u001b[1;33m)\u001b[0m\u001b[1;33m\u001b[0m\u001b[1;33m\u001b[0m\u001b[0m\n\u001b[0;32m      4\u001b[0m \u001b[0mL3\u001b[0m \u001b[1;33m=\u001b[0m \u001b[0mdf21a\u001b[0m\u001b[1;33m[\u001b[0m\u001b[1;34m'No- Number'\u001b[0m\u001b[1;33m]\u001b[0m\u001b[1;33m.\u001b[0m\u001b[0mtolist\u001b[0m\u001b[1;33m(\u001b[0m\u001b[1;33m)\u001b[0m\u001b[1;33m\u001b[0m\u001b[1;33m\u001b[0m\u001b[0m\n\u001b[0;32m      5\u001b[0m \u001b[0mL4\u001b[0m \u001b[1;33m=\u001b[0m \u001b[0mdf21a\u001b[0m\u001b[1;33m[\u001b[0m\u001b[1;34m'Yes- %'\u001b[0m\u001b[1;33m]\u001b[0m\u001b[1;33m.\u001b[0m\u001b[0mtolist\u001b[0m\u001b[1;33m(\u001b[0m\u001b[1;33m)\u001b[0m\u001b[1;33m\u001b[0m\u001b[1;33m\u001b[0m\u001b[0m\n",
      "\u001b[1;31mNameError\u001b[0m: name 'df21a' is not defined"
     ]
    }
   ],
   "source": [
    "L1 = df21a['Sex of owners'].tolist()\n",
    "\n",
    "L2 = df21a['Yes- Number'].tolist()\n",
    "L3 = df21a['No- Number'].tolist()\n",
    "L4 = df21a['Yes- %'].tolist()\n",
    "L5 = df21a['No- %'].tolist()\n",
    "fig = go.Figure()\n",
    "fig.layout=go.Layout(\n",
    "        title=go.layout.Title(text=\"Number of Product innovation in companies, by company size: 2015–17\") )\n",
    "fig.add_trace(go.Bar(\n",
    "    y=L1,\n",
    "    x=L2,\n",
    "    name='Yes- Number',\n",
    "    orientation='h',\n",
    "    marker=dict(\n",
    "        color='rgba(9, 3,100, 0.8)',\n",
    "        line=dict(color='rgba(100, 149, 237, 1.0)', width=3)\n",
    "    )\n",
    "))\n",
    "fig.add_trace(go.Bar(\n",
    "    y=L1,\n",
    "    x=L3,\n",
    "    name='No- Number',\n",
    "    orientation='h',\n",
    "    marker=dict(\n",
    "        color='rgba(255, 87, 51, 0.8)',\n",
    "        line=dict(color='rgba(255, 87, 51, 1.0)', width=3)\n",
    "    )\n",
    "))\n",
    "\n",
    "#fig.update_layout(barmode='stack')\n",
    "fig.show()"
   ]
  },
  {
   "cell_type": "code",
   "execution_count": 16,
   "id": "billion-portland",
   "metadata": {},
   "outputs": [
    {
     "ename": "NameError",
     "evalue": "name 'go' is not defined",
     "output_type": "error",
     "traceback": [
      "\u001b[1;31m---------------------------------------------------------------------------\u001b[0m",
      "\u001b[1;31mNameError\u001b[0m                                 Traceback (most recent call last)",
      "\u001b[1;32m~\\AppData\\Local\\Temp/ipykernel_40172/372941815.py\u001b[0m in \u001b[0;36m<module>\u001b[1;34m\u001b[0m\n\u001b[1;32m----> 1\u001b[1;33m \u001b[0mfig\u001b[0m \u001b[1;33m=\u001b[0m \u001b[0mgo\u001b[0m\u001b[1;33m.\u001b[0m\u001b[0mFigure\u001b[0m\u001b[1;33m(\u001b[0m\u001b[1;33m)\u001b[0m\u001b[1;33m\u001b[0m\u001b[1;33m\u001b[0m\u001b[0m\n\u001b[0m\u001b[0;32m      2\u001b[0m fig.layout=go.Layout(\n\u001b[0;32m      3\u001b[0m         title=go.layout.Title(text=\"Percentage of Product innovation in companies, by company size: 2015–17\") )\n\u001b[0;32m      4\u001b[0m fig.add_trace(go.Bar(\n\u001b[0;32m      5\u001b[0m     \u001b[0my\u001b[0m\u001b[1;33m=\u001b[0m\u001b[0mL1\u001b[0m\u001b[1;33m,\u001b[0m\u001b[1;33m\u001b[0m\u001b[1;33m\u001b[0m\u001b[0m\n",
      "\u001b[1;31mNameError\u001b[0m: name 'go' is not defined"
     ]
    }
   ],
   "source": [
    "fig = go.Figure()\n",
    "fig.layout=go.Layout(\n",
    "        title=go.layout.Title(text=\"Percentage of Product innovation in companies, by company size: 2015–17\") )\n",
    "fig.add_trace(go.Bar(\n",
    "    y=L1,\n",
    "    x=L4,\n",
    "    name='Yes- %',\n",
    "    orientation='h',\n",
    "    marker=dict(\n",
    "        color='rgba(9, 3,100, 0.8)',\n",
    "        line=dict(color='rgba(100, 149, 237, 1.0)', width=3)\n",
    "    )\n",
    "))\n",
    "fig.add_trace(go.Bar(\n",
    "    y=L1,\n",
    "    x=L5,\n",
    "    name='No- %',\n",
    "    orientation='h',\n",
    "    marker=dict(\n",
    "        color='rgba(255, 87, 51, 0.8)',\n",
    "        line=dict(color='rgba(255, 87, 51, 1.0)', width=3)\n",
    "    )\n",
    "))\n",
    "\n",
    "fig.update_layout(barmode='stack')\n",
    "fig.show()"
   ]
  },
  {
   "cell_type": "code",
   "execution_count": 17,
   "id": "maritime-teens",
   "metadata": {},
   "outputs": [
    {
     "ename": "NameError",
     "evalue": "name 'pd' is not defined",
     "output_type": "error",
     "traceback": [
      "\u001b[1;31m---------------------------------------------------------------------------\u001b[0m",
      "\u001b[1;31mNameError\u001b[0m                                 Traceback (most recent call last)",
      "\u001b[1;32m~\\AppData\\Local\\Temp/ipykernel_40172/566537019.py\u001b[0m in \u001b[0;36m<module>\u001b[1;34m\u001b[0m\n\u001b[0;32m      1\u001b[0m \u001b[1;31m# 22: Product innovation in companies, by firm classification of race and ethnicity: 2015–17\u001b[0m\u001b[1;33m\u001b[0m\u001b[1;33m\u001b[0m\u001b[0m\n\u001b[1;32m----> 2\u001b[1;33m \u001b[0mdf22\u001b[0m \u001b[1;33m=\u001b[0m \u001b[0mpd\u001b[0m\u001b[1;33m.\u001b[0m\u001b[0mread_excel\u001b[0m\u001b[1;33m(\u001b[0m\u001b[1;34m'https://ncses.nsf.gov/pubs/nsf21303/assets/data-tables/tables/nsf21303-tab022.xlsx'\u001b[0m\u001b[1;33m,\u001b[0m \u001b[0mskiprows\u001b[0m \u001b[1;33m=\u001b[0m \u001b[1;33m[\u001b[0m\u001b[1;36m0\u001b[0m\u001b[1;33m,\u001b[0m \u001b[1;36m1\u001b[0m\u001b[1;33m,\u001b[0m \u001b[1;36m2\u001b[0m\u001b[1;33m,\u001b[0m \u001b[1;33m]\u001b[0m\u001b[1;33m,\u001b[0m \u001b[0musecols\u001b[0m\u001b[1;33m=\u001b[0m \u001b[1;33m[\u001b[0m\u001b[1;36m0\u001b[0m\u001b[1;33m,\u001b[0m \u001b[1;36m1\u001b[0m\u001b[1;33m,\u001b[0m \u001b[1;36m3\u001b[0m\u001b[1;33m,\u001b[0m \u001b[1;36m5\u001b[0m\u001b[1;33m,\u001b[0m \u001b[1;33m]\u001b[0m \u001b[1;33m)\u001b[0m\u001b[1;33m\u001b[0m\u001b[1;33m\u001b[0m\u001b[0m\n\u001b[0m\u001b[0;32m      3\u001b[0m \u001b[1;31m#df22.head()\u001b[0m\u001b[1;33m\u001b[0m\u001b[1;33m\u001b[0m\u001b[0m\n",
      "\u001b[1;31mNameError\u001b[0m: name 'pd' is not defined"
     ]
    }
   ],
   "source": [
    "# 22: Product innovation in companies, by firm classification of race and ethnicity: 2015–17\n",
    "df22 = pd.read_excel('https://ncses.nsf.gov/pubs/nsf21303/assets/data-tables/tables/nsf21303-tab022.xlsx', skiprows = [0, 1, 2, ], usecols= [0, 1, 3, 5, ] )\n",
    "#df22.head()"
   ]
  },
  {
   "cell_type": "code",
   "execution_count": null,
   "id": "outside-hunger",
   "metadata": {},
   "outputs": [],
   "source": []
  },
  {
   "cell_type": "code",
   "execution_count": null,
   "id": "processed-cattle",
   "metadata": {},
   "outputs": [],
   "source": []
  },
  {
   "cell_type": "code",
   "execution_count": null,
   "id": "4b1222b6",
   "metadata": {},
   "outputs": [],
   "source": []
  },
  {
   "cell_type": "code",
   "execution_count": null,
   "id": "2a81b7f6",
   "metadata": {},
   "outputs": [],
   "source": []
  }
 ],
 "metadata": {
  "hide_input": false,
  "kernelspec": {
   "display_name": "Python 3 (ipykernel)",
   "language": "python",
   "name": "python3"
  },
  "language_info": {
   "codemirror_mode": {
    "name": "ipython",
    "version": 3
   },
   "file_extension": ".py",
   "mimetype": "text/x-python",
   "name": "python",
   "nbconvert_exporter": "python",
   "pygments_lexer": "ipython3",
   "version": "3.10.1"
  },
  "latex_envs": {
   "LaTeX_envs_menu_present": true,
   "autoclose": false,
   "autocomplete": true,
   "bibliofile": "biblio.bib",
   "cite_by": "apalike",
   "current_citInitial": 1,
   "eqLabelWithNumbers": true,
   "eqNumInitial": 1,
   "hotkeys": {
    "equation": "Ctrl-E",
    "itemize": "Ctrl-I"
   },
   "labels_anchors": false,
   "latex_user_defs": false,
   "report_style_numbering": false,
   "user_envs_cfg": false
  }
 },
 "nbformat": 4,
 "nbformat_minor": 5
}
