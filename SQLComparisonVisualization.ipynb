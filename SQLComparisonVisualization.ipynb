{
 "cells": [
  {
   "cell_type": "markdown",
   "metadata": {},
   "source": [
    "# Data Visualization using Python\n",
    "### Muluken Muche\n",
    "This data visualization use several python libraries to showcase available plots and charts to visualize publicly available NCSES data. The libraries include  matplotlib, seaborn, bokeh, plotly, ggplot, altair, and geoplotlib as necessary. The purpose is to create a template of figures so that we could use for similar data. Python codes are adopted from several freely available websites. These figures and charts  are based on publicly available NCSES data.   "
   ]
  },
  {
   "cell_type": "code",
   "execution_count": 5,
   "metadata": {},
   "outputs": [],
   "source": [
    "# Libraries\n",
    "%matplotlib inline\n",
    "import os\n",
    "import sys\n",
    "import openpyxl\n",
    "import pygal\n",
    "import pyodbc\n",
    "import pandas as pd\n",
    "import numpy as np\n",
    "import seaborn as sns\n",
    "import matplotlib as mpl\n",
    "import matplotlib.pyplot as plt\n",
    "from statsmodels.graphics import mosaicplot\n",
    "from statsmodels.graphics.mosaicplot import mosaic\n",
    "sns.set(style=\"ticks\", color_codes=True)\n",
    "import xlrd\n",
    "import warnings\n",
    "warnings.filterwarnings(\"ignore\")\n",
    "mpl.style.use('ggplot')"
   ]
  },
  {
   "cell_type": "code",
   "execution_count": 6,
   "metadata": {},
   "outputs": [],
   "source": [
    "from IPython.display import display, HTML\n",
    "\n",
    "base_html = \"\"\"\n",
    "<!DOCTYPE html>\n",
    "<html>\n",
    "  <head>\n",
    "  <script type=\"text/javascript\" src=\"http://kozea.github.com/pygal.js/javascripts/svg.jquery.js\"></script>\n",
    "  <script type=\"text/javascript\" src=\"https://kozea.github.io/pygal.js/2.0.x/pygal-tooltips.min.js\"\"></script>\n",
    "  </head>\n",
    "  <body>\n",
    "    <figure>\n",
    "      {rendered_chart}\n",
    "    </figure>\n",
    "  </body>\n",
    "</html>\n",
    "\"\"\""
   ]
  },
  {
   "cell_type": "markdown",
   "metadata": {},
   "source": [
    "## 1) Doctorate Recipients of Science &E and Non-S&E by Broad and Detailed Fields (1958 - 2018)\n",
    "\n",
    "The data is downloaded fromData Download from NCSES Interactive Data Tool. \t\t\t\t\n",
    "https://ncses.norc.org/NSFTabEngine/#TABULATION. "
   ]
  },
  {
   "cell_type": "code",
   "execution_count": 7,
   "metadata": {
    "scrolled": true
   },
   "outputs": [
    {
     "data": {
      "text/html": [
       "<div>\n",
       "<style scoped>\n",
       "    .dataframe tbody tr th:only-of-type {\n",
       "        vertical-align: middle;\n",
       "    }\n",
       "\n",
       "    .dataframe tbody tr th {\n",
       "        vertical-align: top;\n",
       "    }\n",
       "\n",
       "    .dataframe thead th {\n",
       "        text-align: right;\n",
       "    }\n",
       "</style>\n",
       "<table border=\"1\" class=\"dataframe\">\n",
       "  <thead>\n",
       "    <tr style=\"text-align: right;\">\n",
       "      <th></th>\n",
       "      <th></th>\n",
       "      <th></th>\n",
       "      <th>Column 0</th>\n",
       "      <th>Race_and_Ethnicity</th>\n",
       "      <th>Sex</th>\n",
       "      <th>Year</th>\n",
       "      <th>Number</th>\n",
       "    </tr>\n",
       "    <tr>\n",
       "      <th>S&amp;E_Fields</th>\n",
       "      <th>Broad_Fields</th>\n",
       "      <th>Detailed_Fields</th>\n",
       "      <th></th>\n",
       "      <th></th>\n",
       "      <th></th>\n",
       "      <th></th>\n",
       "      <th></th>\n",
       "    </tr>\n",
       "  </thead>\n",
       "  <tbody>\n",
       "  </tbody>\n",
       "</table>\n",
       "</div>"
      ],
      "text/plain": [
       "Empty DataFrame\n",
       "Columns: [Column 0, Race_and_Ethnicity, Sex, Year, Number]\n",
       "Index: []"
      ]
     },
     "execution_count": 7,
     "metadata": {},
     "output_type": "execute_result"
    }
   ],
   "source": [
    "# Reading data from SQL Server in local machine\n",
    "conn = pyodbc.connect(\"Driver={SQL Server};\"\n",
    "                      \"Server=DESKTOP-USBNA55;\"\n",
    "                      \"Database=SED;\"\n",
    "                      \"Trusted_Connection=yes;\"\n",
    ")   \n",
    "\n",
    "cursor = conn.cursor()\n",
    "\n",
    "df1 = pd.read_sql_query('SELECT * from dbo.SED',conn)\n",
    "df1 = df1.set_index(['S&E_Fields', 'Broad_Fields', 'Detailed_Fields'])\n",
    "df1.head(3)\n",
    "#df1.columns\n",
    "#df1.dtypes"
   ]
  },
  {
   "cell_type": "code",
   "execution_count": 11,
   "metadata": {},
   "outputs": [
    {
     "data": {
      "text/html": [
       "<div>\n",
       "<style scoped>\n",
       "    .dataframe tbody tr th:only-of-type {\n",
       "        vertical-align: middle;\n",
       "    }\n",
       "\n",
       "    .dataframe tbody tr th {\n",
       "        vertical-align: top;\n",
       "    }\n",
       "\n",
       "    .dataframe thead th {\n",
       "        text-align: right;\n",
       "    }\n",
       "</style>\n",
       "<table border=\"1\" class=\"dataframe\">\n",
       "  <thead>\n",
       "    <tr style=\"text-align: right;\">\n",
       "      <th></th>\n",
       "      <th>S&amp;E_Fields</th>\n",
       "      <th>Broad_Fields</th>\n",
       "      <th>Detailed_Fields</th>\n",
       "      <th>Year</th>\n",
       "      <th>Number</th>\n",
       "    </tr>\n",
       "  </thead>\n",
       "  <tbody>\n",
       "  </tbody>\n",
       "</table>\n",
       "</div>"
      ],
      "text/plain": [
       "Empty DataFrame\n",
       "Columns: [S&E_Fields, Broad_Fields, Detailed_Fields, Year, Number]\n",
       "Index: []"
      ]
     },
     "execution_count": 11,
     "metadata": {},
     "output_type": "execute_result"
    }
   ],
   "source": [
    "# Data wrangling for proper formatting of visualizatiom\n",
    "df1s = df1.stack()\n",
    "df1s =df1s.to_frame()\n",
    "df1s.head(10)\n",
    "df1s = df1s.reset_index()\n",
    "df1s.columns = ['S&E_Fields', 'Broad_Fields', 'Detailed_Fields', 'Year', 'Number']\n",
    "\n",
    "df1s.head(3)\n",
    "#df1s.shape"
   ]
  },
  {
   "cell_type": "code",
   "execution_count": 10,
   "metadata": {},
   "outputs": [
    {
     "ename": "KeyError",
     "evalue": "'Detailed Fields'",
     "output_type": "error",
     "traceback": [
      "\u001b[1;31m---------------------------------------------------------------------------\u001b[0m",
      "\u001b[1;31mKeyError\u001b[0m                                  Traceback (most recent call last)",
      "\u001b[1;32m~\\anaconda3\\lib\\site-packages\\pandas\\core\\indexes\\base.py\u001b[0m in \u001b[0;36mget_loc\u001b[1;34m(self, key, method, tolerance)\u001b[0m\n\u001b[0;32m   3360\u001b[0m             \u001b[1;32mtry\u001b[0m\u001b[1;33m:\u001b[0m\u001b[1;33m\u001b[0m\u001b[1;33m\u001b[0m\u001b[0m\n\u001b[1;32m-> 3361\u001b[1;33m                 \u001b[1;32mreturn\u001b[0m \u001b[0mself\u001b[0m\u001b[1;33m.\u001b[0m\u001b[0m_engine\u001b[0m\u001b[1;33m.\u001b[0m\u001b[0mget_loc\u001b[0m\u001b[1;33m(\u001b[0m\u001b[0mcasted_key\u001b[0m\u001b[1;33m)\u001b[0m\u001b[1;33m\u001b[0m\u001b[1;33m\u001b[0m\u001b[0m\n\u001b[0m\u001b[0;32m   3362\u001b[0m             \u001b[1;32mexcept\u001b[0m \u001b[0mKeyError\u001b[0m \u001b[1;32mas\u001b[0m \u001b[0merr\u001b[0m\u001b[1;33m:\u001b[0m\u001b[1;33m\u001b[0m\u001b[1;33m\u001b[0m\u001b[0m\n",
      "\u001b[1;32m~\\anaconda3\\lib\\site-packages\\pandas\\_libs\\index.pyx\u001b[0m in \u001b[0;36mpandas._libs.index.IndexEngine.get_loc\u001b[1;34m()\u001b[0m\n",
      "\u001b[1;32m~\\anaconda3\\lib\\site-packages\\pandas\\_libs\\index.pyx\u001b[0m in \u001b[0;36mpandas._libs.index.IndexEngine.get_loc\u001b[1;34m()\u001b[0m\n",
      "\u001b[1;32mpandas\\_libs\\hashtable_class_helper.pxi\u001b[0m in \u001b[0;36mpandas._libs.hashtable.PyObjectHashTable.get_item\u001b[1;34m()\u001b[0m\n",
      "\u001b[1;32mpandas\\_libs\\hashtable_class_helper.pxi\u001b[0m in \u001b[0;36mpandas._libs.hashtable.PyObjectHashTable.get_item\u001b[1;34m()\u001b[0m\n",
      "\u001b[1;31mKeyError\u001b[0m: 'Detailed Fields'",
      "\nThe above exception was the direct cause of the following exception:\n",
      "\u001b[1;31mKeyError\u001b[0m                                  Traceback (most recent call last)",
      "\u001b[1;32m~\\AppData\\Local\\Temp/ipykernel_11548/426797778.py\u001b[0m in \u001b[0;36m<module>\u001b[1;34m\u001b[0m\n\u001b[1;32m----> 1\u001b[1;33m \u001b[0mdf1s\u001b[0m \u001b[1;33m=\u001b[0m \u001b[0mdf1s\u001b[0m\u001b[1;33m[\u001b[0m\u001b[0mdf1s\u001b[0m\u001b[1;33m[\u001b[0m\u001b[1;34m'Detailed Fields'\u001b[0m\u001b[1;33m]\u001b[0m \u001b[1;33m!=\u001b[0m \u001b[1;34m'Total'\u001b[0m\u001b[1;33m]\u001b[0m\u001b[1;33m\u001b[0m\u001b[1;33m\u001b[0m\u001b[0m\n\u001b[0m\u001b[0;32m      2\u001b[0m \u001b[0mdf1s\u001b[0m \u001b[1;33m=\u001b[0m \u001b[0mdf1s\u001b[0m\u001b[1;33m.\u001b[0m\u001b[0mreset_index\u001b[0m\u001b[1;33m(\u001b[0m\u001b[1;33m)\u001b[0m\u001b[1;33m\u001b[0m\u001b[1;33m\u001b[0m\u001b[0m\n\u001b[0;32m      3\u001b[0m \u001b[0mdf1s\u001b[0m \u001b[1;33m=\u001b[0m \u001b[0mdf1s\u001b[0m\u001b[1;33m[\u001b[0m\u001b[1;33m[\u001b[0m\u001b[1;34m'S&E Fields'\u001b[0m\u001b[1;33m,\u001b[0m \u001b[1;34m'Broad Fields'\u001b[0m\u001b[1;33m,\u001b[0m \u001b[1;34m'Detailed Fields'\u001b[0m\u001b[1;33m,\u001b[0m \u001b[1;34m'Year'\u001b[0m\u001b[1;33m,\u001b[0m \u001b[1;34m'Number'\u001b[0m\u001b[1;33m]\u001b[0m\u001b[1;33m]\u001b[0m\u001b[1;33m\u001b[0m\u001b[1;33m\u001b[0m\u001b[0m\n\u001b[0;32m      4\u001b[0m \u001b[0mdf1s\u001b[0m\u001b[1;33m.\u001b[0m\u001b[0mhead\u001b[0m\u001b[1;33m(\u001b[0m\u001b[1;36m3\u001b[0m\u001b[1;33m)\u001b[0m\u001b[1;33m\u001b[0m\u001b[1;33m\u001b[0m\u001b[0m\n\u001b[0;32m      5\u001b[0m \u001b[1;33m\u001b[0m\u001b[0m\n",
      "\u001b[1;32m~\\anaconda3\\lib\\site-packages\\pandas\\core\\frame.py\u001b[0m in \u001b[0;36m__getitem__\u001b[1;34m(self, key)\u001b[0m\n\u001b[0;32m   3456\u001b[0m             \u001b[1;32mif\u001b[0m \u001b[0mself\u001b[0m\u001b[1;33m.\u001b[0m\u001b[0mcolumns\u001b[0m\u001b[1;33m.\u001b[0m\u001b[0mnlevels\u001b[0m \u001b[1;33m>\u001b[0m \u001b[1;36m1\u001b[0m\u001b[1;33m:\u001b[0m\u001b[1;33m\u001b[0m\u001b[1;33m\u001b[0m\u001b[0m\n\u001b[0;32m   3457\u001b[0m                 \u001b[1;32mreturn\u001b[0m \u001b[0mself\u001b[0m\u001b[1;33m.\u001b[0m\u001b[0m_getitem_multilevel\u001b[0m\u001b[1;33m(\u001b[0m\u001b[0mkey\u001b[0m\u001b[1;33m)\u001b[0m\u001b[1;33m\u001b[0m\u001b[1;33m\u001b[0m\u001b[0m\n\u001b[1;32m-> 3458\u001b[1;33m             \u001b[0mindexer\u001b[0m \u001b[1;33m=\u001b[0m \u001b[0mself\u001b[0m\u001b[1;33m.\u001b[0m\u001b[0mcolumns\u001b[0m\u001b[1;33m.\u001b[0m\u001b[0mget_loc\u001b[0m\u001b[1;33m(\u001b[0m\u001b[0mkey\u001b[0m\u001b[1;33m)\u001b[0m\u001b[1;33m\u001b[0m\u001b[1;33m\u001b[0m\u001b[0m\n\u001b[0m\u001b[0;32m   3459\u001b[0m             \u001b[1;32mif\u001b[0m \u001b[0mis_integer\u001b[0m\u001b[1;33m(\u001b[0m\u001b[0mindexer\u001b[0m\u001b[1;33m)\u001b[0m\u001b[1;33m:\u001b[0m\u001b[1;33m\u001b[0m\u001b[1;33m\u001b[0m\u001b[0m\n\u001b[0;32m   3460\u001b[0m                 \u001b[0mindexer\u001b[0m \u001b[1;33m=\u001b[0m \u001b[1;33m[\u001b[0m\u001b[0mindexer\u001b[0m\u001b[1;33m]\u001b[0m\u001b[1;33m\u001b[0m\u001b[1;33m\u001b[0m\u001b[0m\n",
      "\u001b[1;32m~\\anaconda3\\lib\\site-packages\\pandas\\core\\indexes\\base.py\u001b[0m in \u001b[0;36mget_loc\u001b[1;34m(self, key, method, tolerance)\u001b[0m\n\u001b[0;32m   3361\u001b[0m                 \u001b[1;32mreturn\u001b[0m \u001b[0mself\u001b[0m\u001b[1;33m.\u001b[0m\u001b[0m_engine\u001b[0m\u001b[1;33m.\u001b[0m\u001b[0mget_loc\u001b[0m\u001b[1;33m(\u001b[0m\u001b[0mcasted_key\u001b[0m\u001b[1;33m)\u001b[0m\u001b[1;33m\u001b[0m\u001b[1;33m\u001b[0m\u001b[0m\n\u001b[0;32m   3362\u001b[0m             \u001b[1;32mexcept\u001b[0m \u001b[0mKeyError\u001b[0m \u001b[1;32mas\u001b[0m \u001b[0merr\u001b[0m\u001b[1;33m:\u001b[0m\u001b[1;33m\u001b[0m\u001b[1;33m\u001b[0m\u001b[0m\n\u001b[1;32m-> 3363\u001b[1;33m                 \u001b[1;32mraise\u001b[0m \u001b[0mKeyError\u001b[0m\u001b[1;33m(\u001b[0m\u001b[0mkey\u001b[0m\u001b[1;33m)\u001b[0m \u001b[1;32mfrom\u001b[0m \u001b[0merr\u001b[0m\u001b[1;33m\u001b[0m\u001b[1;33m\u001b[0m\u001b[0m\n\u001b[0m\u001b[0;32m   3364\u001b[0m \u001b[1;33m\u001b[0m\u001b[0m\n\u001b[0;32m   3365\u001b[0m         \u001b[1;32mif\u001b[0m \u001b[0mis_scalar\u001b[0m\u001b[1;33m(\u001b[0m\u001b[0mkey\u001b[0m\u001b[1;33m)\u001b[0m \u001b[1;32mand\u001b[0m \u001b[0misna\u001b[0m\u001b[1;33m(\u001b[0m\u001b[0mkey\u001b[0m\u001b[1;33m)\u001b[0m \u001b[1;32mand\u001b[0m \u001b[1;32mnot\u001b[0m \u001b[0mself\u001b[0m\u001b[1;33m.\u001b[0m\u001b[0mhasnans\u001b[0m\u001b[1;33m:\u001b[0m\u001b[1;33m\u001b[0m\u001b[1;33m\u001b[0m\u001b[0m\n",
      "\u001b[1;31mKeyError\u001b[0m: 'Detailed Fields'"
     ]
    }
   ],
   "source": [
    "df1s = df1s[df1s['Detailed Fields'] != 'Total']\n",
    "df1s = df1s.reset_index()\n",
    "df1s = df1s[['S&E Fields', 'Broad Fields', 'Detailed Fields', 'Year', 'Number']]\n",
    "df1s.head(3)\n",
    "\n",
    "# df1s.dtypes"
   ]
  },
  {
   "cell_type": "markdown",
   "metadata": {},
   "source": [
    "### 1.1)   Bar Plots\n",
    "The following stacked bar chart shows Science and Engineering versus Non-Science and Engineering doctorate recipients from 1958 to 2018. We can see that the magnitude of Science and Engineering doctorate recipients were increasing compared to the non-S&E. "
   ]
  },
  {
   "cell_type": "code",
   "execution_count": null,
   "metadata": {},
   "outputs": [],
   "source": [
    "p1 =  df1s.groupby(['S&E Fields', 'Year'])['Number'].sum()\n",
    "p1 = p1.reset_index()\n",
    "p1.head(20)\n",
    "p1=p1.pivot(index='Year', columns='S&E Fields', values='Number')\n",
    "p1.head(40)\n",
    "p1.shape\n",
    "# Adding the stacked=True option to plot() \n",
    "# creates a stacked bar plot\n",
    "p1.plot(kind='barh',colormap='PRGn', figsize=(8, 10), width=1.0, stacked=True).legend(\n",
    "    loc='lower right', ncol=1, title=\"S&E Fields \")\n",
    "plt.title(\"Number of Doctorate Reciepients by Year (S&E and Non-S&E)\")\n",
    "plt.xlabel(\"Number of Doctorate Reciepients\")\n",
    "plt.ylabel(\"Year\")"
   ]
  },
  {
   "cell_type": "markdown",
   "metadata": {},
   "source": [
    "The following chart is just the above one in different way."
   ]
  },
  {
   "cell_type": "code",
   "execution_count": null,
   "metadata": {},
   "outputs": [],
   "source": [
    "df1.head(3)\n",
    "SE_NSE = df1.reset_index()\n",
    "SE_NSE = SE_NSE[SE_NSE['Broad Fields'] == 'Total']\n",
    "\n",
    "SE_NSE.head()\n",
    "\n",
    "SE_NSE_T = SE_NSE.T  # Transpose\n",
    "SE_NSE_T = SE_NSE_T .reset_index()  # setting numerical index\n",
    "SE_NSE_T.columns = SE_NSE_T.iloc[0] # Setting the first row as a column\n",
    "SE_NSE_T = SE_NSE_T.set_index(['S&E Fields']) # setting S&E Fields column as an index\n",
    "SE_NSE_T = SE_NSE_T.drop(['S&E Fields','Broad Fields', 'Detailed Fields'])  # dropping the first two rows \n",
    "                       #since it is created in the process but unnecessary\n",
    "SE_NSE_T.head()\n",
    "SE_NSE_T.plot(kind=\"bar\",colormap='bwr', figsize=(14, 6))\n",
    "plt.title(\"Doctorate Recipients of Science and Engineering and None-Science and Engineering (1958 - 2018) \")\n",
    "plt.xlabel(\"Year\")\n",
    "plt.ylabel(\"Number of Doctorate Recipients\")"
   ]
  },
  {
   "cell_type": "markdown",
   "metadata": {},
   "source": [
    "The chart below shows doctorate recipients by broad fields both Science and Engineering (Engineering,Life Science, Mathematics and Computer Sciences, Physical Sciences and Earth Sciences, Psychology and Social Sciences) and Non-Science and Engineering (Education, Humanities and Arts, and Other non-S&E) from 1958 to 2018. We can see that Engineering and Life Sciences doctrate recipients are are relatively increasing in recent years where as Education doctrate recipients are somewhat decreasing in recent years."
   ]
  },
  {
   "cell_type": "code",
   "execution_count": null,
   "metadata": {},
   "outputs": [],
   "source": [
    "p2 =  df1s.groupby(['Broad Fields', 'Year'])['Number'].sum()\n",
    "p2 = p2.reset_index()\n",
    "p2=p2.pivot(index='Year', columns='Broad Fields', values='Number')\n",
    "\n",
    "\n",
    "# Adding the stacked=True option to plot() \n",
    "# creates a stacked bar plot\n",
    "p2.plot(kind='barh',colormap='tab10',figsize=(10, 12), width=1.0, stacked=True).legend(\n",
    "    loc='lower right', ncol=1, title=\"Broad Fields \")\n",
    "plt.title(\"Number of Doctorate Reciepients by Broad Fields and Year\")\n",
    "plt.xlabel(\"Number of Doctorate Reciepients\")\n",
    "plt.ylabel(\"Year\")\n",
    "#p2.info()"
   ]
  },
  {
   "cell_type": "markdown",
   "metadata": {},
   "source": [
    "The bars below show doctorate recipients by detailed fields studies in both Science and Engineering  and Non-Science and Engineering from 1958 to 2018. Similar colors with different intensities show each broad fields in the above chart. Biological and biomedical sciences doctorates were the most increasing field of study especially in the last 12 years."
   ]
  },
  {
   "cell_type": "code",
   "execution_count": null,
   "metadata": {},
   "outputs": [],
   "source": [
    "p3 =  df1s.groupby(['Detailed Fields', 'Year'])['Number'].sum()\n",
    "p3 = p3.reset_index()\n",
    "p3=p3.pivot(index='Year', columns='Detailed Fields', values='Number')\n",
    "\n",
    "\n",
    "# Adding the stacked=True option to plot() \n",
    "# creates a stacked bar plot\n",
    "p3.plot(kind='barh',colormap='tab20b',figsize=(15, 18), width=1.0, stacked=True).legend(\n",
    "    loc='lower right', ncol=1, title=\"Detailed Fields \")\n",
    "plt.title(\"Number of Doctrate Reciepients by Detailed Fields and Year\")\n",
    "plt.xlabel(\"Number\")\n",
    "plt.ylabel(\"Year\")\n",
    "#plt.legend(title=\"Line\", loc='upper left', handles=handles[::-1])"
   ]
  },
  {
   "cell_type": "code",
   "execution_count": null,
   "metadata": {},
   "outputs": [],
   "source": [
    "# df1s['S&E Fields'].unique()\n",
    "# df1s.count()\n",
    "# df1s['Broad Fields'].unique()\n",
    "# df = df1s.groupby('Broad Fields')['Number'].nunique()\n",
    "# df.count()\n",
    "\n",
    "# df1s['Detailed Fields'].unique()\n",
    "# df = df1s.groupby('Detailed Fields')['Number'].nunique()\n",
    "# df.count()\n",
    "\n",
    "# df1s['Year'].unique()\n",
    "# df = df1s.groupby('Year')['Number'].nunique()\n",
    "# df.count()"
   ]
  },
  {
   "cell_type": "code",
   "execution_count": null,
   "metadata": {},
   "outputs": [],
   "source": [
    "df1s.head()\n",
    "SE = df1s[df1s['S&E Fields'] == 'Science and engineering']\n",
    "SE.head()\n",
    "\n",
    "sns.catplot(y=\"Broad Fields\", x=\"Number\", kind=\"box\",height=3, aspect=3,\n",
    "            data=SE).set(title=\"Number of Doctorate Recipients in Science & Engineering by Broad Fields (1958 - 2018) \");\n",
    "sns.catplot(y=\"Detailed Fields\", x=\"Number\", kind=\"box\",height=5, aspect=2,\n",
    "            data=SE).set(title=\"Number of Doctorate Recipients in Science & Engineering by Detailed Fields (1958 - 2018) \");\n",
    "\n",
    "\n",
    "\n",
    "#plt.annotate('Note: Data include 8 major field of studies', (0,0), (0, -40), xycoords='axes fraction', textcoords='offset points', va='top')\n"
   ]
  },
  {
   "cell_type": "code",
   "execution_count": null,
   "metadata": {},
   "outputs": [],
   "source": [
    "df1s.head()\n",
    "NSE = df1s[df1s['S&E Fields'] != 'Science and engineering']\n",
    "NSE.head()\n",
    "sns.catplot(y=\"Broad Fields\", x=\"Number\", kind=\"box\",height=3, aspect=3,\n",
    "            data=NSE).set(title=\"Number of Doctorate Recipients in Non-Science & Engineering by Broad Fields (1958 - 2018) \");\n",
    "sns.catplot(y=\"Detailed Fields\", x=\"Number\", kind=\"box\",height=5, aspect=2,\n",
    "            data=NSE).set(title=\"Number of Doctorate Recipients in Non-Science & Engineering by Detailed Fields (1958 - 2018) \");"
   ]
  },
  {
   "cell_type": "code",
   "execution_count": null,
   "metadata": {},
   "outputs": [],
   "source": [
    "SE_NSE_T = SE_NSE_T .reset_index()  # setting numerical index\n",
    "SE_NSE_T = SE_NSE_T[['S&E Fields','Science and engineering','Non-science and engineering']]\n",
    "SE_NSE_T.columns = [ 'Year', 'Science and engineering','Non-science and engineering']\n",
    "SE_NSE_T = SE_NSE_T.set_index(['Year']) # setting S&E Fields column as an index\n",
    "#SE_NSE_T = SE_NSE_T.drop(['S&E Fields','Broad Fields', 'Detailed Fields'])  # dropping the first two rows \n",
    "SE_NSE_TT = SE_NSE_T.T\n",
    "# SE_NSE_TT.columns = SE_NSE_TT.iloc[0] # Setting the first row as a column\n",
    "# SE_NSE_TT = SE_NSE_TT.set_index(['S&E Fields']) # setting S&E Fields column as an index\n",
    "SE_NSE_TT.head()\n",
    "#SE_NSE_T.head()\n",
    "se = tuple(list(SE_NSE_TT.loc['Science and engineering']))\n",
    "nse =tuple(list(SE_NSE_TT.loc['Non-science and engineering']))\n"
   ]
  },
  {
   "cell_type": "code",
   "execution_count": null,
   "metadata": {},
   "outputs": [],
   "source": [
    "radar_chart = pygal.Radar( human_readable=True, legend_at_bottom=True)\n",
    "radar_chart.title = 'Science & Engineering  and Non-Science & Engineering by Year'\n",
    "radar_chart.x_labels = [ '2018', '2017', '2016',\n",
    "       '2015', '2014', '2013', '2012', '2011', '2010', '2009', '2008', '2007',\n",
    "       '2006', '2005', '2004', '2003', '2002', '2001', '2000', '1999', '1998',\n",
    "       '1997', '1996', '1995', '1994', '1993', '1992', '1991', '1990', '1989',\n",
    "       '1988', '1987', '1986', '1985', '1984', '1983', '1982', '1981', '1980',\n",
    "       '1979', '1978', '1977', '1976', '1975', '1974', '1973', '1972', '1971',\n",
    "       '1970', '1969', '1968', '1967', '1966', '1965', '1964', '1963', '1962',\n",
    "       '1961', '1960', '1959', '1958']\n",
    "radar_chart.add('Science and engineering',se)\n",
    "radar_chart.add('Non-science and engineering',nse)"
   ]
  },
  {
   "cell_type": "code",
   "execution_count": null,
   "metadata": {},
   "outputs": [],
   "source": [
    "df1s.head()\n",
    "LSc   = df1s[df1s['Broad Fields'] == 'Life sciences']\n",
    "PSES = df1s[df1s['Broad Fields'] == 'Physical sciences and earth sciences']\n",
    "MCS   = df1s[df1s['Broad Fields'] == 'Mathematics and computer sciences']\n",
    "PSYC  = df1s[df1s['Broad Fields'] == 'Psychology and social sciences ']\n",
    "Engr  = df1s[df1s['Broad Fields'] == 'Engineering']\n",
    "Edu = df1s[df1s['Broad Fields'] == 'Education']\n",
    "HumAr = df1s[df1s['Broad Fields'] == 'Humanities and arts']\n",
    "Oth  = df1s[df1s['Broad Fields'] == 'Other']\n",
    "\n",
    "# SE = df1s[df1s['S&E Fields'] == 'Science and engineering']\n",
    "# NSE = df1s[df1s['S&E Fields'] != 'Science and engineering']\n",
    "\n",
    "LSc.head()"
   ]
  },
  {
   "cell_type": "code",
   "execution_count": null,
   "metadata": {},
   "outputs": [],
   "source": [
    "LSc1 = LSc[['Detailed Fields','Number']]\n",
    "LSc1.head()"
   ]
  },
  {
   "cell_type": "code",
   "execution_count": null,
   "metadata": {},
   "outputs": [],
   "source": [
    "import warnings\n",
    "warnings.filterwarnings(\"ignore\")\n",
    "#chmod g-wx,o-wx ~/.python-eggs\n",
    "fig, axes = plt.subplots(nrows=3, ncols=3)\n",
    "#LSc1.plot(ax=axes[0], kind = 'bar', grid=True)\n",
    "LSc1.plot(kind = 'bar', grid=True)\n",
    "\n",
    "\n",
    "# # fig.suptitle('Bike Rentals at Different Temperatures\\nBy Season', fontsize=25,fontweight=\"bold\", color=\"black\", \n",
    "# #              position=(0.5,1.01))\n",
    "# sns.set(style=\"whitegrid\")\n",
    "\n",
    "# g1 = sns.FacetGrid(LSc, col=\"Broad Fields\", hue_order=\"Detailed Fields\",  height=3, aspect=2)\n",
    "\n",
    "# g1.map(sns.barplot, \"Detailed Fields\", \"Number\");\n",
    "# g1.set_xticklabels(rotation=15)\n",
    "\n",
    "# g4 = sns.FacetGrid(LSc, row=\"Broad Fields\", hue_order=\"Detailed Fields\",  height=3, aspect=2)\n",
    "# g4.map(sns.barplot, \"Detailed Fields\", \"Number\");\n",
    "# g4.set_xticklabels(rotation=15)\n",
    "# g2= sns.FacetGrid(PSES, col=\"Broad Fields\", hue_order=\"Detailed Fields\",  height=3, aspect=2)\n",
    "# g2.map(sns.barplot, \"Detailed Fields\",\"Number\" );\n",
    "# #g.fig.suptitle(\"Doctorate Recipients Number of Selected Years by Sex\")\n",
    "# g2.set_xticklabels(rotation=15)\n",
    "\n",
    "# g3= sns.FacetGrid(MCS, col=\"Broad Fields\", hue_order=\"Detailed Fields\",  height=3, aspect=2)\n",
    "# g3.map(sns.barplot, \"Detailed Fields\",\"Number\" );\n",
    "# #g.fig.suptitle(\"Doctorate Recipients Number of Selected Years by Sex\")\n",
    "# g3.set_xticklabels(rotation=15)"
   ]
  },
  {
   "cell_type": "code",
   "execution_count": null,
   "metadata": {},
   "outputs": [],
   "source": [
    "import warnings\n",
    "warnings.filterwarnings(\"ignore\")\n",
    "#chmod g-wx,o-wx ~/.python-eggs\n",
    "fig = plt.figure()\n",
    "plt.subplots_adjust(wspace=0.2, hspace=0.2)\n",
    "\n",
    "# fig.suptitle('Bike Rentals at Different Temperatures\\nBy Season', fontsize=25,fontweight=\"bold\", color=\"black\", \n",
    "#              position=(0.5,1.01))\n",
    "sns.set(style=\"whitegrid\")\n",
    "\n",
    "g1 = sns.FacetGrid(LSc, col=\"Broad Fields\", hue_order=\"Detailed Fields\",  height=3, aspect=2)\n",
    "\n",
    "g1.map(sns.barplot, \"Detailed Fields\", \"Number\");\n",
    "g1.set_xticklabels(rotation=15)\n",
    "\n",
    "g4 = sns.FacetGrid(LSc, row=\"Broad Fields\", hue_order=\"Detailed Fields\",  height=3, aspect=2)\n",
    "g4.map(sns.barplot, \"Detailed Fields\", \"Number\");\n",
    "g4.set_xticklabels(rotation=15)\n",
    "g2= sns.FacetGrid(PSES, col=\"Broad Fields\", hue_order=\"Detailed Fields\",  height=3, aspect=2)\n",
    "g2.map(sns.barplot, \"Detailed Fields\",\"Number\" );\n",
    "#g.fig.suptitle(\"Doctorate Recipients Number of Selected Years by Sex\")\n",
    "g2.set_xticklabels(rotation=15)\n",
    "\n",
    "g3= sns.FacetGrid(MCS, col=\"Broad Fields\", hue_order=\"Detailed Fields\",  height=3, aspect=2)\n",
    "g3.map(sns.barplot, \"Detailed Fields\",\"Number\" );\n",
    "#g.fig.suptitle(\"Doctorate Recipients Number of Selected Years by Sex\")\n",
    "g3.set_xticklabels(rotation=15)\n"
   ]
  },
  {
   "cell_type": "code",
   "execution_count": null,
   "metadata": {},
   "outputs": [],
   "source": [
    "SE = df1s[df1s['S&E Fields'] == 'Science and engineering']\n",
    "NSE = df1s[df1s['S&E Fields'] != 'Science and engineering']\n",
    "sns.set(style=\"whitegrid\")\n",
    "g1 = sns.FacetGrid(SE, col=\"Broad Fields\", hue_order=\"Detailed Fields\",  height=3, aspect=2)\n",
    "\n",
    "g1.map(sns.barplot,\"Detailed Fields\", \"Number\");\n",
    "g1.set_xticklabels(rotation=15)"
   ]
  },
  {
   "cell_type": "code",
   "execution_count": null,
   "metadata": {},
   "outputs": [],
   "source": [
    "tips = sns.load_dataset(\"tips\")\n",
    "tips.head()"
   ]
  },
  {
   "cell_type": "code",
   "execution_count": null,
   "metadata": {},
   "outputs": [],
   "source": [
    "#df1s.columns\n",
    "#SE_NSE1.columns\n",
    "SE_NSE1=df1s[['Detailed Fields', 'Year', 'Number']]"
   ]
  },
  {
   "cell_type": "code",
   "execution_count": null,
   "metadata": {},
   "outputs": [],
   "source": [
    "SE_NSE2=SE_NSE1.pivot(index='Detailed Fields', columns='Year', values='Number')"
   ]
  },
  {
   "cell_type": "code",
   "execution_count": null,
   "metadata": {},
   "outputs": [],
   "source": [
    "dic = SE_NSE2.to_dict('split')\n",
    "#SE_NSE2.to_dict()\n",
    "dic.values()\n",
    "dic.keys()\n"
   ]
  },
  {
   "cell_type": "code",
   "execution_count": null,
   "metadata": {},
   "outputs": [],
   "source": [
    "print(dic)\n",
    "dic2 = ['index', 'data']\n",
    "[dic[x] for x in dic2]"
   ]
  },
  {
   "cell_type": "code",
   "execution_count": null,
   "metadata": {},
   "outputs": [],
   "source": [
    "dic2[0]"
   ]
  },
  {
   "cell_type": "code",
   "execution_count": null,
   "metadata": {},
   "outputs": [],
   "source": []
  },
  {
   "cell_type": "code",
   "execution_count": null,
   "metadata": {},
   "outputs": [],
   "source": []
  },
  {
   "cell_type": "code",
   "execution_count": null,
   "metadata": {},
   "outputs": [],
   "source": [
    "# dic['data']\n",
    "#len(dic['data'])\n",
    "#plt.plot(dic['data'])"
   ]
  },
  {
   "cell_type": "code",
   "execution_count": null,
   "metadata": {},
   "outputs": [],
   "source": [
    "dic['index']\n",
    "len(dic['index'])"
   ]
  },
  {
   "cell_type": "code",
   "execution_count": null,
   "metadata": {},
   "outputs": [],
   "source": [
    "dic['columns']\n",
    "len(dic['columns'])"
   ]
  },
  {
   "cell_type": "code",
   "execution_count": null,
   "metadata": {},
   "outputs": [],
   "source": [
    "dic2 = dic['index'] + dic['data']\n",
    "dic"
   ]
  },
  {
   "cell_type": "code",
   "execution_count": null,
   "metadata": {},
   "outputs": [],
   "source": [
    "for key in dic.keys():\n",
    "  print(key)"
   ]
  },
  {
   "cell_type": "code",
   "execution_count": null,
   "metadata": {},
   "outputs": [],
   "source": [
    "type(dic['index'])"
   ]
  },
  {
   "cell_type": "code",
   "execution_count": null,
   "metadata": {},
   "outputs": [],
   "source": [
    "df = pd.DataFrame({'col1': [1, 2],\n",
    "...                    'col2': [0.5, 0.75]},\n",
    "...                   index=['a', 'b'])\n",
    "df.columns"
   ]
  },
  {
   "cell_type": "code",
   "execution_count": null,
   "metadata": {},
   "outputs": [],
   "source": [
    "df.head()"
   ]
  },
  {
   "cell_type": "code",
   "execution_count": null,
   "metadata": {
    "scrolled": true
   },
   "outputs": [],
   "source": [
    "dic= df.to_dict()\n",
    "dic.keys()"
   ]
  },
  {
   "cell_type": "code",
   "execution_count": null,
   "metadata": {},
   "outputs": [],
   "source": [
    "df.to_dict('split')\n"
   ]
  },
  {
   "cell_type": "code",
   "execution_count": null,
   "metadata": {},
   "outputs": [],
   "source": [
    "\n",
    "df = SE_NSE1.set_index('Year')\n",
    "#print(df.T.to_dict(orient='list'))\n",
    "print(df)"
   ]
  },
  {
   "cell_type": "markdown",
   "metadata": {},
   "source": [
    "## 2) Doctorate Recipients of S&E and Non-S&E by DemographDoctrate reciepients by Citizenship,  Race/Ethnicity, Sex, S&E Fields, Broad Fields, Detailed Fields, and Year"
   ]
  },
  {
   "cell_type": "code",
   "execution_count": null,
   "metadata": {
    "scrolled": true
   },
   "outputs": [],
   "source": [
    "# Doctorate Recipients by Demographic Characteristics ---- Data by Citizenship,  Race/Ethnicity, Sex, S&E Fields, Broad Fields, Detailed Fields, and Year\n",
    "# Data Download from NCSES Interactive Data Tool\n",
    "df2 = pd.read_csv('../../WorkingFiles/NSF_NCSES/Data/SED_Export_2020-06-17T23_29_53.896Z.csv', skiprows=[0], header=[1])\n",
    "df2 = df2.set_index(['Citizenship','Race and Ethnicity', 'Sex','S&E Fields', 'Broad Fields', 'Detailed Fields'])\n",
    "df2.head()"
   ]
  },
  {
   "cell_type": "code",
   "execution_count": null,
   "metadata": {},
   "outputs": [],
   "source": [
    "df2s = df2.stack()\n",
    "df2s =df2s.to_frame()\n",
    "\n",
    "df2s = df2s.reset_index()\n",
    "df2s.columns = ['Citizenship','Race and Ethnicity', 'Sex','S&E Fields', 'Broad Fields', 'Detailed Fields', 'Year', 'Number']\n",
    "df2s.head()"
   ]
  },
  {
   "cell_type": "code",
   "execution_count": null,
   "metadata": {},
   "outputs": [],
   "source": [
    "df2s = df2s[df2s['Detailed Fields'] != 'Total']\n",
    "df2s = df2s.reset_index()\n",
    "df2s = df2s[['Citizenship','Race and Ethnicity', 'Sex','S&E Fields', 'Broad Fields', 'Detailed Fields', 'Year', 'Number']]\n",
    "df2s.head()"
   ]
  },
  {
   "cell_type": "code",
   "execution_count": null,
   "metadata": {},
   "outputs": [],
   "source": []
  },
  {
   "cell_type": "code",
   "execution_count": null,
   "metadata": {},
   "outputs": [],
   "source": []
  },
  {
   "cell_type": "code",
   "execution_count": null,
   "metadata": {},
   "outputs": [],
   "source": []
  },
  {
   "cell_type": "code",
   "execution_count": null,
   "metadata": {},
   "outputs": [],
   "source": []
  }
 ],
 "metadata": {
  "hide_input": false,
  "kernelspec": {
   "display_name": "Python 3 (ipykernel)",
   "language": "python",
   "name": "python3"
  },
  "language_info": {
   "codemirror_mode": {
    "name": "ipython",
    "version": 3
   },
   "file_extension": ".py",
   "mimetype": "text/x-python",
   "name": "python",
   "nbconvert_exporter": "python",
   "pygments_lexer": "ipython3",
   "version": "3.8.11"
  },
  "latex_envs": {
   "LaTeX_envs_menu_present": true,
   "autoclose": false,
   "autocomplete": true,
   "bibliofile": "biblio.bib",
   "cite_by": "apalike",
   "current_citInitial": 1,
   "eqLabelWithNumbers": true,
   "eqNumInitial": 1,
   "hotkeys": {
    "equation": "Ctrl-E",
    "itemize": "Ctrl-I"
   },
   "labels_anchors": false,
   "latex_user_defs": false,
   "report_style_numbering": false,
   "user_envs_cfg": false
  }
 },
 "nbformat": 4,
 "nbformat_minor": 4
}
