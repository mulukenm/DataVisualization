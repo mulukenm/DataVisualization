{
 "cells": [
  {
   "cell_type": "code",
   "execution_count": 1,
   "metadata": {},
   "outputs": [
    {
     "ename": "ModuleNotFoundError",
     "evalue": "No module named 'graphviz'",
     "output_type": "error",
     "traceback": [
      "\u001b[1;31m---------------------------------------------------------------------------\u001b[0m",
      "\u001b[1;31mModuleNotFoundError\u001b[0m                       Traceback (most recent call last)",
      "\u001b[1;32m<ipython-input-1-fd33421bf4cc>\u001b[0m in \u001b[0;36m<module>\u001b[1;34m\u001b[0m\n\u001b[0;32m      9\u001b[0m \u001b[1;32mimport\u001b[0m \u001b[0mpygal\u001b[0m\u001b[1;33m\u001b[0m\u001b[1;33m\u001b[0m\u001b[0m\n\u001b[0;32m     10\u001b[0m \u001b[1;32mimport\u001b[0m \u001b[0mcairosvg\u001b[0m\u001b[1;33m\u001b[0m\u001b[1;33m\u001b[0m\u001b[0m\n\u001b[1;32m---> 11\u001b[1;33m \u001b[1;32mimport\u001b[0m \u001b[0mgraphviz\u001b[0m\u001b[1;33m\u001b[0m\u001b[1;33m\u001b[0m\u001b[0m\n\u001b[0m\u001b[0;32m     12\u001b[0m \u001b[0mdf_sample\u001b[0m \u001b[1;33m=\u001b[0m \u001b[0mpd\u001b[0m\u001b[1;33m.\u001b[0m\u001b[0mread_csv\u001b[0m\u001b[1;33m(\u001b[0m\u001b[1;34m'https://raw.githubusercontent.com/plotly/datasets/master/laucnty16.csv'\u001b[0m\u001b[1;33m)\u001b[0m\u001b[1;33m\u001b[0m\u001b[1;33m\u001b[0m\u001b[0m\n\u001b[0;32m     13\u001b[0m \u001b[0mdf_sample\u001b[0m\u001b[1;33m[\u001b[0m\u001b[1;34m'State FIPS Code'\u001b[0m\u001b[1;33m]\u001b[0m \u001b[1;33m=\u001b[0m \u001b[0mdf_sample\u001b[0m\u001b[1;33m[\u001b[0m\u001b[1;34m'State FIPS Code'\u001b[0m\u001b[1;33m]\u001b[0m\u001b[1;33m.\u001b[0m\u001b[0mapply\u001b[0m\u001b[1;33m(\u001b[0m\u001b[1;32mlambda\u001b[0m \u001b[0mx\u001b[0m\u001b[1;33m:\u001b[0m \u001b[0mstr\u001b[0m\u001b[1;33m(\u001b[0m\u001b[0mx\u001b[0m\u001b[1;33m)\u001b[0m\u001b[1;33m.\u001b[0m\u001b[0mzfill\u001b[0m\u001b[1;33m(\u001b[0m\u001b[1;36m2\u001b[0m\u001b[1;33m)\u001b[0m\u001b[1;33m)\u001b[0m\u001b[1;33m\u001b[0m\u001b[1;33m\u001b[0m\u001b[0m\n",
      "\u001b[1;31mModuleNotFoundError\u001b[0m: No module named 'graphviz'"
     ]
    }
   ],
   "source": [
    "import os\n",
    "import sys\n",
    "import openpyxl\n",
    "import plotly.figure_factory as ff\n",
    "import matplotlib.pyplot as plt\n",
    "#import miktex\n",
    "import numpy as np\n",
    "import pandas as pd\n",
    "import pygal\n",
    "import cairosvg\n",
    "import graphviz\n",
    "df_sample = pd.read_csv('https://raw.githubusercontent.com/plotly/datasets/master/laucnty16.csv')\n",
    "df_sample['State FIPS Code'] = df_sample['State FIPS Code'].apply(lambda x: str(x).zfill(2))\n",
    "df_sample['County FIPS Code'] = df_sample['County FIPS Code'].apply(lambda x: str(x).zfill(3))\n",
    "df_sample['FIPS'] = df_sample['State FIPS Code'] + df_sample['County FIPS Code']\n"
   ]
  },
  {
   "cell_type": "code",
   "execution_count": null,
   "metadata": {},
   "outputs": [],
   "source": [
    "import cairosvg"
   ]
  },
  {
   "cell_type": "code",
   "execution_count": null,
   "metadata": {},
   "outputs": [],
   "source": [
    "\n",
    "dot_chart = pygal.Dot(x_label_rotation=30)\n"
   ]
  },
  {
   "cell_type": "code",
   "execution_count": null,
   "metadata": {},
   "outputs": [],
   "source": [
    "dot_chart.title = 'V8 benchmark results'\n"
   ]
  },
  {
   "cell_type": "code",
   "execution_count": null,
   "metadata": {},
   "outputs": [],
   "source": [
    "dot_chart.x_labels = ['Richards', 'DeltaBlue', 'Crypto', 'RayTrace', 'EarleyBoyer', 'RegExp', 'Splay', 'NavierStokes']\n",
    "dot_chart.add('Chrome', [6395, 8212, 7520, 7218, 12464, 1660, 2123, 8607])\n",
    "dot_chart.add('Firefox', [7473, 8099, 11700, 2651, 6361, 1044, 3797, 9450])\n",
    "dot_chart.add('Opera', [3472, 2933, 4203, 5229, 5810, 1828, 9013, 4669])\n",
    "dot_chart.add('IE', [43, 41, 59, 79, 144, 136, 34, 102])\n",
    "#dot_chart.render()"
   ]
  },
  {
   "cell_type": "code",
   "execution_count": null,
   "metadata": {},
   "outputs": [],
   "source": [
    "from pygal.style import Style\n",
    "custom_style = Style(\n",
    "  background='transparent',\n",
    "  plot_background='transparent',\n",
    "  foreground='#53E89B',\n",
    "  foreground_strong='#53A0E8',\n",
    "  foreground_subtle='#630C0D',\n",
    "  opacity='.6',\n",
    "  opacity_hover='.9',\n",
    "  transition='400ms ease-in',\n",
    "  colors=('#E853A0', '#E8537A', '#E95355', '#E87653', '#E89B53'))\n",
    "\n",
    "chart = pygal.StackedLine(fill=True, interpolate='cubic', style=custom_style)\n",
    "chart.add('A', [1, 3,  5, 16, 13, 3,  7])\n",
    "chart.add('B', [5, 2,  3,  2,  5, 7, 17])\n",
    "chart.add('C', [6, 10, 9,  7,  3, 1,  0])\n",
    "chart.add('D', [2,  3, 5,  9, 12, 9,  5])\n",
    "chart.add('E', [7,  4, 2,  1,  2, 10, 0])\n",
    "#chart.render()"
   ]
  },
  {
   "cell_type": "code",
   "execution_count": null,
   "metadata": {},
   "outputs": [],
   "source": [
    "funnel_chart = pygal.Funnel()\n",
    "funnel_chart.title = 'V8 benchmark results'\n",
    "funnel_chart.x_labels = ['Richards', 'DeltaBlue', 'Crypto', 'RayTrace', 'EarleyBoyer', 'RegExp', 'Splay', 'NavierStokes']\n",
    "funnel_chart.add('Opera', [3472, 2933, 4203, 5229, 5810, 1828, 9013, 4669])\n",
    "funnel_chart.add('Firefox', [7473, 8099, 11700, 2651, 6361, 1044, 3797, 9450])\n",
    "funnel_chart.add('Chrome', [6395, 8212, 7520, 7218, 12464, 1660, 2123, 8607])\n"
   ]
  },
  {
   "cell_type": "code",
   "execution_count": null,
   "metadata": {},
   "outputs": [],
   "source": [
    "import pandas as pd\n",
    "import numpy as np\n",
    "import plotly.graph_objs as go\n",
    "from plotly.offline import download_plotlyjs, init_notebook_mode, plot, iplot\n",
    "init_notebook_mode(connected=True)\n",
    "\n",
    "nodes = [\n",
    "    ['ID', 'Label', 'Color'],\n",
    "    [0,'Remain+No – 28','#F27420'],\n",
    "    [1,'Leave+No – 16','#4994CE'],\n",
    "    [2,'Remain+Yes – 21','#FABC13'],\n",
    "    [3,'Leave+Yes – 14','#7FC241'],\n",
    "    [4,'Didn’t vote in at least one referendum – 21','#D3D3D3'],\n",
    "    [5,'46 – No','#8A5988']\n",
    "]\n",
    "links = [\n",
    "    ['Source','Target','Value','Link Color'],\n",
    "    [0,3,20,'rgba(253, 227, 212, 0.5)'],\n",
    "    [0,4,3,'rgba(242, 116, 32, 1)'],\n",
    "    [0,2,5,'rgba(253, 227, 212, 0.5)'],\n",
    "    [1,5,14,'rgba(219, 233, 246, 0.5)'],\n",
    "    [1,3,1,'rgba(73, 148, 206, 1)'],\n",
    "    [1,4,1,'rgba(219, 233, 246,0.5)'],\n",
    "    [1,2,10,'rgba(8, 233, 246,0.5)'],\n",
    "    [1,3,5,'rgba(219, 77, 246,0.5)'],\n",
    "    [1,5,12,'rgba(219, 4, 246,0.5)']\n",
    "]\n",
    "\n",
    "nodes_headers = nodes.pop(0)\n",
    "nodes_df = pd.DataFrame(nodes, columns = nodes_headers)\n",
    "links_headers = links.pop(0)\n",
    "links_df = pd.DataFrame(links, columns = links_headers)\n",
    "\n",
    "data_trace = dict(\n",
    "    type='sankey',\n",
    "    domain = dict(\n",
    "      x =  [0,1],\n",
    "      y =  [0,1]\n",
    "    ),\n",
    "    orientation = \"h\",\n",
    "    valueformat = \".0f\",\n",
    "    node = dict(\n",
    "      pad = 10,\n",
    "      thickness = 30,\n",
    "      line = dict(\n",
    "        color = \"black\",\n",
    "        width = 0\n",
    "      ),\n",
    "      label =  nodes_df['Label'].dropna(axis=0, how='any'),\n",
    "      color = nodes_df['Color']\n",
    "    ),\n",
    "    link = dict(\n",
    "      source = links_df['Source'].dropna(axis=0, how='any'),\n",
    "      target = links_df['Target'].dropna(axis=0, how='any'),\n",
    "      value = links_df['Value'].dropna(axis=0, how='any'),\n",
    "      color = links_df['Link Color'].dropna(axis=0, how='any'),\n",
    "  )\n",
    ")\n",
    "\n",
    "layout =  dict(\n",
    "    title = \"Scottish Referendum Voters who now want Independence\",\n",
    "    height = 772,\n",
    "    font = dict(\n",
    "      size = 10\n",
    "    ),    \n",
    ")\n",
    "\n",
    "fig = dict(data=[data_trace], layout=layout)\n",
    "iplot(fig, validate=False)"
   ]
  },
  {
   "cell_type": "code",
   "execution_count": null,
   "metadata": {},
   "outputs": [],
   "source": [
    "df_sample.head()"
   ]
  },
  {
   "cell_type": "code",
   "execution_count": null,
   "metadata": {},
   "outputs": [],
   "source": [
    "colorscale = [\"#f7fbff\",\"#ebf3fb\",\"#deebf7\",\"#d2e3f3\",\"#c6dbef\",\"#b3d2e9\",\"#9ecae1\",\n",
    "              \"#85bcdb\",\"#6baed6\",\"#57a0ce\",\"#4292c6\",\"#3082be\",\"#2171b5\",\"#1361a9\",\n",
    "              \"#08519c\",\"#0b4083\",\"#08306b\"]\n",
    "endpts = list(np.linspace(1, 12, len(colorscale) - 1))\n",
    "fips = df_sample['FIPS'].tolist()\n",
    "values = df_sample['Unemployment Rate (%)'].tolist()\n",
    "\n",
    "fig = ff.create_choropleth(\n",
    "    fips=fips, values=values,\n",
    "    binning_endpoints=endpts,\n",
    "    colorscale=colorscale,\n",
    "    show_state_data=False,\n",
    "    show_hover=True, centroid_marker={'opacity': 0},\n",
    "    asp=2.9, title='USA by Unemployment %',\n",
    "    legend_title='% unemployed'\n",
    ")\n",
    "\n",
    "fig.layout.template = None\n",
    "fig.show()"
   ]
  },
  {
   "cell_type": "code",
   "execution_count": null,
   "metadata": {},
   "outputs": [],
   "source": [
    "#import plotly.plotly as py\n",
    "import chart_studio.plotly as py\n",
    "import pandas as pd\n",
    "\n",
    "df = pd.read_csv('https://raw.githubusercontent.com/plotly/datasets/master/2011_us_ag_exports.csv')\n",
    "\n",
    "for col in df.columns:\n",
    "    df[col] = df[col].astype(str)\n",
    "\n",
    "scl = [[0.0, 'rgb(242,240,247)'],[0.2, 'rgb(218,218,235)'],[0.4, 'rgb(188,189,220)'],\\\n",
    "            [0.6, 'rgb(158,154,200)'],[0.8, 'rgb(117,107,177)'],[1.0, 'rgb(84,39,143)']]\n",
    "\n",
    "df['text'] = df['state'] + '<br>' +\\\n",
    "    'Beef '+df['beef']+' Dairy '+df['dairy']+'<br>'+\\\n",
    "    'Fruits '+df['total fruits']+' Veggies ' + df['total veggies']+'<br>'+\\\n",
    "    'Wheat '+df['wheat']+' Corn '+df['corn']\n",
    "df.head()\n"
   ]
  },
  {
   "cell_type": "code",
   "execution_count": null,
   "metadata": {},
   "outputs": [],
   "source": [
    "#df['text']"
   ]
  },
  {
   "cell_type": "code",
   "execution_count": null,
   "metadata": {},
   "outputs": [],
   "source": [
    "# data = [ dict(\n",
    "#         type='choropleth',\n",
    "#         colorscale = scl,\n",
    "#         autocolorscale = False,\n",
    "#         locations = df['code'],\n",
    "#         z = df['total exports'].astype(float),\n",
    "#         locationmode = 'USA-states',\n",
    "#         text = df['text'],\n",
    "#         marker = dict(\n",
    "#             line = dict (\n",
    "#                 color = 'rgb(255,255,255)',\n",
    "#                 width = 2\n",
    "#             )\n",
    "#         ),\n",
    "#         colorbar = dict(\n",
    "#             title = \"Millions USD\"\n",
    "#         )\n",
    "#     ) ]\n",
    "\n",
    "# data"
   ]
  },
  {
   "cell_type": "code",
   "execution_count": null,
   "metadata": {},
   "outputs": [],
   "source": [
    "# layout = dict(\n",
    "#         title = '2011 US Agriculture Exports by State<br>(Hover for breakdown)',\n",
    "#         geo = dict(\n",
    "#             scope='usa',\n",
    "#             projection=dict( type='albers usa' ),\n",
    "#             showlakes = True,\n",
    "#             lakecolor = 'rgb(255, 255, 255)',\n",
    "#         ),\n",
    "#     )\n",
    "\n",
    "# fig = dict( data=data, layout=layout )\n",
    "\n",
    "# url = py.plot( fig, filename='d3-cloropleth-map' )"
   ]
  },
  {
   "cell_type": "code",
   "execution_count": null,
   "metadata": {},
   "outputs": [],
   "source": [
    "# import vincent\n",
    "# world_countries = r'world-countries.json'\n",
    "# world = vincent.Map(width=1200, height=1000)\n",
    "# world.geo_data(projection='winkel3', scale=200, world=world_countries)\n",
    "# world.to_json(path)"
   ]
  },
  {
   "cell_type": "code",
   "execution_count": null,
   "metadata": {},
   "outputs": [],
   "source": [
    "world_countries = r'world-countries.json'"
   ]
  },
  {
   "cell_type": "code",
   "execution_count": null,
   "metadata": {},
   "outputs": [],
   "source": [
    "world_countries"
   ]
  },
  {
   "cell_type": "code",
   "execution_count": null,
   "metadata": {},
   "outputs": [],
   "source": [
    "import pandas as pd\n",
    "import plotly.express as px  # Be sure to import express\n",
    "state_df = pd.read_excel('C:/Users/Muluken/WorkingFiles/NSF_NCSES/Data/GeographicData/ExampleData.xlsx')\n",
    "state_df.head(3)"
   ]
  },
  {
   "cell_type": "code",
   "execution_count": null,
   "metadata": {},
   "outputs": [],
   "source": [
    "fig = px.choropleth(state_df,  # Input Pandas DataFrame\n",
    "                    locations=\"state\",  # DataFrame column with locations\n",
    "                    color=\"value\",  # DataFrame column with color values\n",
    "                    hover_name=\"state\", # DataFrame column hover info\n",
    "                    locationmode = 'USA-states') # Set to plot as US States\n",
    "fig.update_layout(\n",
    "    title_text = 'State Rankings', # Create a Title\n",
    "    geo_scope='usa',  # Plot only the USA instead of globe\n",
    ")\n",
    "fig.show()  "
   ]
  },
  {
   "cell_type": "code",
   "execution_count": null,
   "metadata": {},
   "outputs": [],
   "source": [
    "import pandas as pd\n",
    "import plotly.express as px  # Be sure to import express\n",
    "\n",
    "state_df = pd.read_excel('C:/Users/Muluken/WorkingFiles/NSF_NCSES/Data/GeographicData/GDP_2018.xlsx')\n",
    "state_df.head(5)"
   ]
  },
  {
   "cell_type": "code",
   "execution_count": null,
   "metadata": {},
   "outputs": [],
   "source": [
    "fig = px.choropleth(state_df,  # Input Pandas DataFrame\n",
    "                    locations=\"State_ID\",  # DataFrame column with locations\n",
    "                    color=\"GDP_Million\",  # DataFrame column with color values\n",
    "                    hover_name=\"State_ID\", # DataFrame column hover info\n",
    "                    locationmode = 'USA-states') # Set to plot as US States\n",
    "fig.update_layout(\n",
    "    title_text = 'State Rankings', # Create a Title\n",
    "    geo_scope='north america',  # Plot only the USA instead of globe\n",
    ")\n",
    "fig.show()  "
   ]
  },
  {
   "cell_type": "code",
   "execution_count": null,
   "metadata": {},
   "outputs": [],
   "source": [
    "fig = px.choropleth(state_df,  # Input Pandas DataFrame\n",
    "                    locations=\"State_ID\",  # DataFrame column with locations\n",
    "                    color=\"GDP_Million\", hover_name=\"State\", # DataFrame column with color values\n",
    "                    range_color=[99000,1050000],  \n",
    "                    color_continuous_scale='RdYlGn', \n",
    "                    locationmode = 'USA-states') # Set to plot as US States\n",
    "fig.update_layout(\n",
    "    title_text = 'State Rankings', # Create a Title\n",
    "    geo_scope='usa',  # Plot only the USA instead of globe\n",
    ")\n",
    "fig.show() "
   ]
  },
  {
   "cell_type": "code",
   "execution_count": null,
   "metadata": {},
   "outputs": [],
   "source": [
    "import plotly.express as px\n",
    "gapminder = px.data.gapminder()\n",
    "fig = px.choropleth(gapminder, locations=\"iso_alpha\", \n",
    "                    color=\"lifeExp\", hover_name=\"country\", \n",
    "                    animation_frame=\"year\", \n",
    "                    range_color=[20,80],  \n",
    "                    color_continuous_scale='RdYlGn')\n",
    "fig.show()"
   ]
  },
  {
   "cell_type": "code",
   "execution_count": null,
   "metadata": {},
   "outputs": [],
   "source": [
    "gapminder"
   ]
  },
  {
   "cell_type": "code",
   "execution_count": null,
   "metadata": {},
   "outputs": [],
   "source": []
  },
  {
   "cell_type": "code",
   "execution_count": null,
   "metadata": {},
   "outputs": [],
   "source": [
    "import plotly.express as px\n",
    "df = px.data.tips()\n",
    "fig = px.sunburst(df, path=['day', 'time', 'sex'], values='total_bill')\n",
    "fig.show()"
   ]
  },
  {
   "cell_type": "code",
   "execution_count": null,
   "metadata": {},
   "outputs": [],
   "source": [
    "df.head(1000)"
   ]
  },
  {
   "cell_type": "code",
   "execution_count": null,
   "metadata": {},
   "outputs": [],
   "source": [
    "radar_chart = pygal.Radar()\n",
    "radar_chart.title = 'V8 benchmark results'\n",
    "radar_chart.x_labels = ['Richards', 'DeltaBlue', 'Crypto', 'RayTrace', 'EarleyBoyer', 'RegExp', 'Splay', 'NavierStokes']\n",
    "radar_chart.add('Chrome', [6395, 8212, 7520, 7218, 12464, 1660, 2123, 8607])\n",
    "radar_chart.add('Firefox', [7473, 8099, 11700, 2651, 6361, 1044, 3797, 9450])\n",
    "radar_chart.add('Opera', [3472, 2933, 4203, 5229, 5810, 1828, 9013, 4669])\n",
    "radar_chart.add('IE', [43, 41, 59, 79, 144, 136, 34, 102])\n",
    "#radar_chart.render()"
   ]
  },
  {
   "cell_type": "code",
   "execution_count": null,
   "metadata": {},
   "outputs": [],
   "source": [
    "type(radar_chart)"
   ]
  },
  {
   "cell_type": "code",
   "execution_count": null,
   "metadata": {},
   "outputs": [],
   "source": [
    "from IPython.display import display, HTML\n",
    "\n",
    "base_html = \"\"\"\n",
    "<!DOCTYPE html>\n",
    "<html>\n",
    "  <head>\n",
    "  <script type=\"text/javascript\" src=\"http://kozea.github.com/pygal.js/javascripts/svg.jquery.js\"></script>\n",
    "  <script type=\"text/javascript\" src=\"https://kozea.github.io/pygal.js/2.0.x/pygal-tooltips.min.js\"\"></script>\n",
    "  </head>\n",
    "  <body>\n",
    "    <figure>\n",
    "      {rendered_chart}\n",
    "    </figure>\n",
    "  </body>\n",
    "</html>\n",
    "\"\"\""
   ]
  },
  {
   "cell_type": "code",
   "execution_count": null,
   "metadata": {},
   "outputs": [],
   "source": [
    "gauge = pygal.Gauge(human_readable=True)"
   ]
  },
  {
   "cell_type": "code",
   "execution_count": null,
   "metadata": {},
   "outputs": [],
   "source": [
    "[gauge.add(x[0], [{\"value\" : x[1] * 100}] ) for x in mean_by_category.iteritems()]\n",
    "display(HTML(base_html.format(rendered_chart=gauge.render(is_unicode=True))))"
   ]
  },
  {
   "cell_type": "code",
   "execution_count": null,
   "metadata": {},
   "outputs": [],
   "source": [
    "from tempfile import NamedTemporaryFile\n",
    "custom_css = '''\n",
    "    {{ id }}text {\n",
    "    fill: green;\n",
    "    font-family: monospace;\n",
    "    }\n",
    "    {{ id }}.legends .legend text {\n",
    "    font-size: {{ font_sizes.legend }};\n",
    "    }\n",
    "    {{ id }}.axis {\n",
    "    stroke: #666;\n",
    "    }\n",
    "    {{ id }}.axis text {\n",
    "    font-size: {{ font_sizes.label }};\n",
    "    font-family: sans;\n",
    "    stroke: none;\n",
    "    }\n",
    "    {{ id }}.axis.y text {\n",
    "    text-anchor: end;\n",
    "    }\n",
    "    {{ id }}#tooltip text {\n",
    "    font-size: {{ font_sizes.tooltip }};\n",
    "    }\n",
    "    {{ id }}.dot {\n",
    "    fill: yellow;\n",
    "    }\n",
    "    {{ id }}.color-0 {\n",
    "    stroke: #ff1100;\n",
    "    fill: #ff1100;\n",
    "    }\n",
    "    {{ id }}.color-1 {\n",
    "    stroke: #ffee00;\n",
    "    fill: #ffee00;\n",
    "    }\n",
    "    {{ id }}.color-2 {\n",
    "    stroke: #66bb44;\n",
    "    fill: #66bb44;\n",
    "    }\n",
    "    {{ id }}.color-3 {\n",
    "    stroke: #88bbdd;\n",
    "    fill: #88bbdd;\n",
    "    }\n",
    "    {{ id }}.color-4 {\n",
    "    stroke: #0000ff;\n",
    "    fill: #0000ff;\n",
    "    }\n",
    "'''\n",
    "custom_css_file = 'pygal_custom_style.css'\n",
    "with open(custom_css_file, 'w') as f:\n",
    "    f.write(custom_css)\n",
    "config = pygal.Config(fill=True)\n",
    "config.css.append(custom_css_file) \n",
    "\n",
    "chart = pygal.StackedLine(config)\n",
    "chart.add('A', [1, 3, 5, 16, 13, 3, 7])\n",
    "chart.add('B', [5, 2, 3, 2, 5, 7, 17])\n",
    "chart.add('C', [6, 10, 9, 7, 3, 1, 0])\n",
    "chart.add('D', [2, 3, 5, 9, 12, 9, 5])\n",
    "chart.add('E', [7, 4, 2, 1, 2, 10, 0])\n",
    "#chart.render()"
   ]
  },
  {
   "cell_type": "code",
   "execution_count": null,
   "metadata": {},
   "outputs": [],
   "source": []
  },
  {
   "cell_type": "code",
   "execution_count": null,
   "metadata": {},
   "outputs": [],
   "source": [
    "from pygal.style import DefaultStyle\n",
    "dot_chart = pygal.Dot(print_values=True, style=DefaultStyle(\n",
    "                    value_font_family='googlefont:Raleway',\n",
    "                    value_font_size=30,alue_colors=('white',)))\n",
    "dot_chart.title = 'Field of Study by Year'\n",
    "dot_chart.x_labels = ['Education', 'Engineering', 'Humanities & Arts', 'Life Sciences', 'Mathematics & Computer Science', 'Other', 'Physical & Earth Sciences', 'Psychology & Social Sciences']\n",
    "dot_chart.add('1987', [6453, 3712, 3478, 578, 1189, 1876, 3811, 6063])\n",
    "dot_chart.add('1992', [6664, 5366, 4376, 7141, 913, 2191, 4486, 6530])\n",
    "dot_chart.add('1997', [6517, 6065, 5248, 8365, 2007, 2161, 4522, 7299])\n",
    "dot_chart.add('2002', [6495, 5067, 5286, 8465, 1723, 2127, 3871, 6912])\n",
    "dot_chart.add('2007', [6447, 7746, 5083, 10694, 3041, 2834, 4955, 7306])\n",
    "dot_chart.add('2012', [4799, 8452, 5559, 11949, 3493, 2729, 5414, 8494])\n",
    "dot_chart.add('2017', [4821, 9837, 5289, 12587, 3842, 3112, 6079, 9074])\n",
    "#radar_chart.render()"
   ]
  },
  {
   "cell_type": "code",
   "execution_count": null,
   "metadata": {},
   "outputs": [],
   "source": [
    "treemap = pygal.Treemap()\n",
    "treemap.title = 'Binary TreeMap'\n",
    "treemap.x_labels = ['Education', 'Engineering', 'Humanities & Arts', 'Life Sciences', 'Mathematics & Computer Science', 'Other', 'Physical & Earth Sciences', 'Psychology & Social Sciences']\n",
    "\n",
    "treemap.add('A', [2, 1, 12, 4, 2, 1, 1, 3, 12, 3, 4, None, 9])\n",
    "treemap.add('B', [4, 2, 5, 10, 3, 4, 2, 7, 4, -10, None, 8, 3, 1])\n",
    "treemap.add('C', [3, 8, 3, 3, 5, 3, 3, 5, 4, 12])\n",
    "treemap.add('D', [23, 18])\n",
    "treemap.add('E', [1, 2, 1, 2, 3, 3, 1, 2, 3,\n",
    "      4, 3, 1, 2, 1, 1, 1, 1, 1])\n",
    "treemap.add('F', [31])\n",
    "treemap.add('G', [5, 9.3, 8.1, 12, 4, 3, 2])\n",
    "treemap.add('H', [12, 3, 3])\n",
    "#treemap.render()"
   ]
  },
  {
   "cell_type": "code",
   "execution_count": null,
   "metadata": {},
   "outputs": [],
   "source": [
    "# import matplotlib\n",
    "# import matplotlib.pyplot as plt\n",
    "# import pandas as pd\n",
    "# import squarify\n",
    "\n",
    "# # qualtities plotted\n",
    "# # squarre area is the town surface area (superf)\n",
    "# # color scale is the town population in 2011 (p11_pop)\n",
    "\n",
    "# # read data from csv file\n",
    "# # data from CAPP opendata http://opendata.agglo-pau.fr/index.php/fiche?idQ=27\n",
    "# df = pd.read_excel(\"Customer Success New.xlsx\")\n",
    "# df = df.set_index(\"location_id\")\n",
    "# df = df[[\"user_id\", \"company_id\"]]\n",
    "# df2 = df.sort_values(by=\"user_id\", ascending=False)\n",
    "\n",
    "# # treemap parameters\n",
    "# x = 0.\n",
    "# y = 0.\n",
    "# width = 100.\n",
    "# height = 100.\n",
    "# cmap = matplotlib.cm.viridis\n",
    "\n",
    "# # color scale on the population\n",
    "# # min and max values without Pau\n",
    "# mini, maxi = df2.company_id.min(), df2.company_id.max()\n",
    "# norm = matplotlib.colors.Normalize(vmin=mini, vmax=maxi)\n",
    "# colors = [cmap(norm(value)) for value in df2.company_id]\n",
    "# colors[1] = \"#FBFCFE\"\n",
    "\n",
    "# # labels for squares\n",
    "# #labels = [\"hab\" % (label) for label in zip(df2.index, df2.user_id), df2.company_id)]\n",
    "# #labels[11] = \"MAZERES\" % (df2[\"user_id\"][\"MAZERES-LEZONS\"], df2[\"company_id\"][\"MAZERES-LEZONS\"])\n",
    "\n",
    "# # make plot\n",
    "# fig = plt.figure(figsize=(12, 10))\n",
    "# fig.suptitle(\"Population et superficie des communes de la CAPP\", fontsize=20)\n",
    "# ax = fig.add_subplot(111, aspect=\"equal\")\n",
    "# ax = squarify.plot(df2.superf, color=colors, label=labels, ax=ax, alpha=.7)\n",
    "# ax.set_xticks([])\n",
    "# ax.set_yticks([])\n",
    "# ax.set_title(\"L'aire de chaque carré est proportionnelle à la superficie de la commune\\n\", fontsize=14)\n",
    "\n",
    "# # color bar\n",
    "# # create dummy invisible image with a color map\n",
    "# img = plt.imshow([df2.p11_pop], cmap=cmap)\n",
    "# img.set_visible(False)\n",
    "# fig.colorbar(img, orientation=\"vertical\", shrink=.96)\n",
    "\n",
    "# fig.text(.76, .9, \"Population\", fontsize=14)\n",
    "# fig.text(.5, 0.1,\n",
    "#          \"Superficie totale %d km2, Population de la CAPP : %d hab\" % (df2.superf.sum(), df2.p11_pop.sum()),\n",
    "#          fontsize=14,\n",
    "#          ha=\"center\")\n",
    "# fig.text(.5, 0.07,\n",
    "#          \"Source : http://opendata.agglo-pau.fr/\",\n",
    "#          fontsize=14,\n",
    "#          ha=\"center\")\n",
    "\n",
    "# plt.show()"
   ]
  },
  {
   "cell_type": "code",
   "execution_count": null,
   "metadata": {},
   "outputs": [],
   "source": [
    "import numpy as np\n",
    "import pandas as pd\n",
    "\n",
    "from bokeh.plotting import figure, output_file, show\n",
    "\n",
    "# generate some synthetic time series for six different categories\n",
    "cats = list(\"abcdef\")\n",
    "yy = np.random.randn(2000)\n",
    "g = np.random.choice(cats, 2000)\n",
    "for i, l in enumerate(cats):\n",
    "    yy[g == l] += i // 2\n",
    "df = pd.DataFrame(dict(score=yy, group=g))\n",
    "\n",
    "# find the quartiles and IQR for each category\n",
    "groups = df.groupby('group')\n",
    "q1 = groups.quantile(q=0.25)\n",
    "q2 = groups.quantile(q=0.5)\n",
    "q3 = groups.quantile(q=0.75)\n",
    "iqr = q3 - q1\n",
    "upper = q3 + 1.5*iqr\n",
    "lower = q1 - 1.5*iqr\n",
    "\n",
    "# find the outliers for each category\n",
    "def outliers(group):\n",
    "    cat = group.name\n",
    "    return group[(group.score > upper.loc[cat]['score']) | (group.score < lower.loc[cat]['score'])]['score']\n",
    "out = groups.apply(outliers).dropna()\n",
    "\n",
    "# prepare outlier data for plotting, we need coordinates for every outlier.\n",
    "if not out.empty:\n",
    "    outx = []\n",
    "    outy = []\n",
    "    for keys in out.index:\n",
    "        outx.append(keys[0])\n",
    "        outy.append(out.loc[keys[0]].loc[keys[1]])\n",
    "\n",
    "p = figure(tools=\"\", background_fill_color=\"#efefef\", x_range=cats, toolbar_location=None)\n",
    "\n",
    "# if no outliers, shrink lengths of stems to be no longer than the minimums or maximums\n",
    "qmin = groups.quantile(q=0.00)\n",
    "qmax = groups.quantile(q=1.00)\n",
    "upper.score = [min([x,y]) for (x,y) in zip(list(qmax.loc[:,'score']),upper.score)]\n",
    "lower.score = [max([x,y]) for (x,y) in zip(list(qmin.loc[:,'score']),lower.score)]\n",
    "\n",
    "# stems\n",
    "p.segment(cats, upper.score, cats, q3.score, line_color=\"black\")\n",
    "p.segment(cats, lower.score, cats, q1.score, line_color=\"black\")\n",
    "\n",
    "# boxes\n",
    "p.vbar(cats, 0.7, q2.score, q3.score, fill_color=\"#E08E79\", line_color=\"black\")\n",
    "p.vbar(cats, 0.7, q1.score, q2.score, fill_color=\"#3B8686\", line_color=\"black\")\n",
    "\n",
    "# whiskers (almost-0 height rects simpler than segments)\n",
    "p.rect(cats, lower.score, 0.2, 0.01, line_color=\"black\")\n",
    "p.rect(cats, upper.score, 0.2, 0.01, line_color=\"black\")\n",
    "\n",
    "# outliers\n",
    "if not out.empty:\n",
    "    p.circle(outx, outy, size=6, color=\"#F38630\", fill_alpha=0.6)\n",
    "\n",
    "p.xgrid.grid_line_color = None\n",
    "p.ygrid.grid_line_color = \"white\"\n",
    "p.grid.grid_line_width = 2\n",
    "p.xaxis.major_label_text_font_size=\"16px\"\n",
    "\n",
    "#output_file(\"boxplot.html\", title=\"boxplot.py example\")\n",
    "\n",
    "#show(p)\n"
   ]
  },
  {
   "cell_type": "code",
   "execution_count": null,
   "metadata": {},
   "outputs": [],
   "source": [
    "show(p)"
   ]
  },
  {
   "cell_type": "code",
   "execution_count": null,
   "metadata": {},
   "outputs": [],
   "source": [
    "df.head(1000)"
   ]
  },
  {
   "cell_type": "code",
   "execution_count": null,
   "metadata": {
    "scrolled": true
   },
   "outputs": [],
   "source": [
    "import numpy as np\n",
    "import matplotlib.pyplot as plt\n",
    "from wordcloud import WordCloud\n",
    "\n",
    "text = \"square\"\n",
    "\n",
    "x, y = np.ogrid[:300, :300]\n",
    "\n",
    "mask = (x - 150) ** 2 + (y - 150) ** 2 > 130 ** 2\n",
    "mask = 255 * mask.astype(int)\n",
    "\n",
    "\n",
    "wc = WordCloud(background_color=\"white\", repeat=True, mask=mask)\n",
    "wc.generate(text)\n",
    "\n",
    "plt.axis(\"off\")\n",
    "plt.imshow(wc, interpolation=\"bilinear\")\n",
    "plt.show()"
   ]
  },
  {
   "cell_type": "code",
   "execution_count": null,
   "metadata": {},
   "outputs": [],
   "source": [
    "type(mask)"
   ]
  },
  {
   "cell_type": "code",
   "execution_count": null,
   "metadata": {},
   "outputs": [],
   "source": [
    "print(mask)"
   ]
  },
  {
   "cell_type": "code",
   "execution_count": null,
   "metadata": {},
   "outputs": [],
   "source": [
    "df = pd.DataFrame(data=mask)\n",
    "df.head()"
   ]
  },
  {
   "cell_type": "code",
   "execution_count": null,
   "metadata": {},
   "outputs": [],
   "source": [
    "import os\n",
    "import sys\n",
    "import openpyxl\n",
    "import pygal\n",
    "import pandas as pd\n",
    "import numpy as np\n",
    "data = pd.read_excel('C:/Users/Muluken/WorkingFiles/NSF_NCSES/Data/example.xlsx')\n",
    "data.head(3)"
   ]
  },
  {
   "cell_type": "code",
   "execution_count": null,
   "metadata": {},
   "outputs": [],
   "source": [
    "from wordcloud import WordCloud, STOPWORDS\n",
    "import matplotlib.pyplot as plt\n",
    "text = data.Tweet.values\n",
    "wordcloud = WordCloud(\n",
    "    width = 3000,\n",
    "    height = 2000,\n",
    "    background_color = 'black',\n",
    "    stopwords = STOPWORDS).generate(str(text))\n",
    "fig = plt.figure(\n",
    "    figsize = (40, 30),\n",
    "    facecolor = 'k',\n",
    "    edgecolor = 'k')\n",
    "plt.imshow(wordcloud, interpolation = 'bilinear')\n",
    "plt.axis('off')\n",
    "plt.tight_layout(pad=0)\n",
    "plt.show()"
   ]
  },
  {
   "cell_type": "code",
   "execution_count": null,
   "metadata": {},
   "outputs": [],
   "source": [
    "d = {}\n",
    "for a, x in data.values:\n",
    "    d[a] = x\n",
    "wordcloud = WordCloud()\n",
    "wordcloud.generate_from_frequencies(frequencies=d)\n",
    "plt.figure()\n",
    "plt.imshow(wordcloud, interpolation=\"bilinear\")\n",
    "plt.axis(\"off\")\n",
    "plt.show()"
   ]
  },
  {
   "cell_type": "code",
   "execution_count": null,
   "metadata": {},
   "outputs": [],
   "source": [
    "d = {}\n",
    "for a, x in data.values:\n",
    "    d[a] = x\n",
    "wordcloud = WordCloud(background_color=\"white\")\n",
    "wordcloud.generate_from_frequencies(frequencies=d)\n",
    "plt.figure()\n",
    "plt.imshow(wordcloud, interpolation=\"bilinear\")\n",
    "plt.axis(\"off\")\n",
    "plt.show()\n",
    "#wordcloud = WordCloud(background_color=\"white\", repeat=True, mask=mask)"
   ]
  },
  {
   "cell_type": "code",
   "execution_count": null,
   "metadata": {},
   "outputs": [],
   "source": [
    "d = {}\n",
    "for a, x in data.values:\n",
    "    d[a] = x\n",
    "wordcloud = WordCloud(background_color=\"white\", repeat=True, mask=mask)\n",
    "wordcloud.generate_from_frequencies(frequencies=d)\n",
    "plt.figure()\n",
    "plt.imshow(wordcloud, interpolation=\"bilinear\")\n",
    "plt.axis(\"off\")\n",
    "plt.show()\n",
    "#wordcloud = WordCloud(background_color=\"white\", repeat=True, mask=mask)"
   ]
  },
  {
   "cell_type": "code",
   "execution_count": null,
   "metadata": {},
   "outputs": [],
   "source": [
    "gauge = pygal.SolidGauge(inner_radius=0.70)\n",
    "percent_formatter = lambda x: '{:.10g}%'.format(x)\n",
    "dollar_formatter = lambda x: '{:.10g}$'.format(x)\n",
    "gauge.value_formatter = percent_formatter\n",
    "\n",
    "gauge.add('Series 1', [{'value': 225000, 'max_value': 1275000}],\n",
    "          formatter=dollar_formatter)\n",
    "gauge.add('Series 2', [{'value': 110, 'max_value': 100}])\n",
    "gauge.add('Series 3', [{'value': 3}])\n",
    "gauge.add(\n",
    "    'Series 4', [\n",
    "        {'value': 51, 'max_value': 100},\n",
    "        {'value': 12, 'max_value': 100}])\n",
    "gauge.add('Series 5', [{'value': 79, 'max_value': 100}])\n",
    "gauge.add('Series 6', 99)\n",
    "gauge.add('Series 7', [{'value': 100, 'max_value': 100}])\n",
    "# gauge.render()"
   ]
  },
  {
   "cell_type": "code",
   "execution_count": null,
   "metadata": {},
   "outputs": [],
   "source": [
    "# from bokeh.io import output_file, show\n",
    "from bokeh.io import output_notebook\n",
    "from bokeh.models import ColumnDataSource\n",
    "from bokeh.palettes import GnBu3, OrRd3\n",
    "from bokeh.plotting import figure, show\n",
    "\n",
    "output_notebook()\n",
    "#output_file(\"stacked_split.html\")\n",
    "\n",
    "fruits = ['Apples', 'Pears', 'Nectarines', 'Plums', 'Grapes', 'Strawberries']\n",
    "years = [\"2015\", \"2016\", \"2017\"]\n",
    "\n",
    "exports = {'fruits' : fruits,\n",
    "           '2015'   : [2, 1, 4, 3, 2, 4],\n",
    "           '2016'   : [5, 3, 4, 2, 4, 6],\n",
    "           '2017'   : [3, 2, 4, 4, 5, 3]}\n",
    "imports = {'fruits' : fruits,\n",
    "           '2015'   : [-1, 0, -1, -3, -2, -1],\n",
    "           '2016'   : [-2, -1, -3, -1, -2, -2],\n",
    "           '2017'   : [-1, -2, -1, 0, -2, -2]}\n",
    "\n",
    "p = figure(y_range=fruits, plot_height=250, x_range=(-16, 16), title=\"Fruit import/export, by year\",\n",
    "           toolbar_location=None)\n",
    "\n",
    "p.hbar_stack(years, y='fruits', height=0.9, color=GnBu3, source=ColumnDataSource(exports),\n",
    "             legend_label=[\"%s exports\" % x for x in years])\n",
    "\n",
    "p.hbar_stack(years, y='fruits', height=0.9, color=OrRd3, source=ColumnDataSource(imports),\n",
    "             legend_label=[\"%s imports\" % x for x in years])\n",
    "\n",
    "p.y_range.range_padding = 0.1\n",
    "p.ygrid.grid_line_color = None\n",
    "p.legend.location = \"top_left\"\n",
    "p.axis.minor_tick_line_color = None\n",
    "p.outline_line_color = None\n",
    "show(p)"
   ]
  },
  {
   "cell_type": "code",
   "execution_count": null,
   "metadata": {
    "scrolled": true
   },
   "outputs": [],
   "source": [
    "# from bokeh.io import output_file, show\n",
    "from bokeh.io import output_notebook\n",
    "from bokeh.models import ColumnDataSource, Legend\n",
    "from bokeh.palettes import GnBu3, OrRd3, PRGn7, Paired8\n",
    "from bokeh.plotting import figure, show\n",
    "\n",
    "output_notebook()\n",
    "#output_file(\"stacked_split.html\")\n",
    "\n",
    "FS = ['Life sciences','Physical sciences and earth sciences','Mathematics and computer sciences','Psychology and social sciences', 'Engineering', 'Education','Humanities and arts', 'Other']\n",
    "\n",
    "RaceEthn = [\"White\", \"Hispanic or Latino\", \"American Indian or Alaska Native\", \"Asian\",\"Black or African American\",  \"More than one race\", \"Other race or race not reported\",\"Ethnicity not reported\"]\n",
    "FoS = {'FS' : FS,\n",
    "            'White' :  [68.4, 76.0, 67.6, 69.3, 64.9, 65.7, 78.2, 63.7],\n",
    "            'Hispanic or Latino'   : [6.8, 5.8, 4.5, 8.4, 6.6, 8.2, 7.2, 7.0],\n",
    "            'American Indian or Alaska Native'   : [0.3, 0.2, 0.1, 0.4, 0.2, 0.5, 0.4, 0.2],\n",
    "            'Asian'   : [11.4, 9.6, 15.8, 7.7, 16.9, 5.5, 4.2, 9.7],\n",
    "            'Black or African American': [6.5, 2.5, 2.8, 7.7, 3.9, 14.7, 3.4, 12.8],\n",
    "            'More than one race': [3.2, 3.0, 2.9, 3.0, 2.6, 2.1, 2.7, 2.7],\n",
    "            'Other race or race not reported': [1.2, 1.4, 2.3, 1.0, 1.5, 0.9, 1.8, 1.3],\n",
    "            'Ethnicity not reported': [2.1, 1.5, 4.0, 2.5, 3.3, 2.4, 2.1, 2.7]}\n",
    "\n",
    "p = figure(y_range=FS, plot_width=800, plot_height=300, x_range=(0, 150), title=\"Field of Study by Race/Ethnicity  (%)\",\n",
    "           toolbar_location=None)\n",
    "\n",
    "p.hbar_stack(RaceEthn, y='FS', height=0.9, color=Paired8, source=ColumnDataSource(FoS),\n",
    "             legend_label=[\"%s\" % x for x in RaceEthn])\n",
    "\n",
    "#p.add_layout(Legend(), 'right')\n",
    "\n",
    "p.y_range.range_padding = 0.1\n",
    "p.ygrid.grid_line_color = None\n",
    "p.legend.location = (400,50)\n",
    "p.axis.minor_tick_line_color = None\n",
    "p.outline_line_color = None\n",
    "show(p)"
   ]
  },
  {
   "cell_type": "code",
   "execution_count": null,
   "metadata": {},
   "outputs": [],
   "source": [
    "#from bokeh.io import output_file, show\n",
    "from bokeh.io import output_notebook\n",
    "from bokeh.models import ColumnDataSource, Legend\n",
    "from bokeh.palettes import GnBu3, OrRd3, PRGn7, Paired8\n",
    "from bokeh.plotting import figure, show\n",
    "\n",
    "output_notebook()\n",
    "#output_file(\"stacked_split.html\")\n",
    "\n",
    "FS = [\"Biological& biomedical Sci\",\"Health Scie\",\"Chemistry\",\"Geosc., atmo. scie,& ocean Scie.\",\n",
    "      \"Physics & astronomy\",\"Computer & infor scie\",\"Mathematics & statistics\",\"Psychology\", \"Anthropology\",\n",
    "      \"Economics\",\"Political Scie & government\",\"Sociology\",\"Other social scie.\",\"Aerospace, aeronautical, & astronautical engr.\",\n",
    "      \"Bioengineering and biomedical engineering\",\"Chemical engineering\",\"Civil engineering\",\"Electr, electro, and commun engr\",\n",
    "      \"Indus& manufac engr\",\"Materials scierengr\",\"Mechanical engr\",\"Other engr\", \"Education admin\",\"Education research\",\"Teacher education\",\"Teaching fields\",\"Other education\",\n",
    "      \"Foreign lang & liter\",\"History\",\"Letters\",\"Other humanities & arts\",\"Business mgnt & admin\",\n",
    "      \"Communication\",\"Non-S&E fields nec\"]\n",
    "\n",
    "RaceEthn = [\"White\", \"Hispanic or Latino\", \"American Indian or Alaska Native\", \"Asian\",\"Black or African American\",  \"More than one race\", \"Other race or race not reported\",\"Ethnicity not reported\"]\n",
    "FoS = {'FS' : FS,\n",
    "            'White' :  [68.9,63.8,73.7,79.8,76.7,64.7,70.1,72.1,73.7,63.5,75.3,65.1,63.0,72.9,61.0,67.3,66.3,55.1,52.3,66.7,69.1,68.1,59.2,66.7,72.9,71.8,59.6,67.2,79.0,79.4,79.7,60.7,71.3,62.1],\n",
    "            'Hispanic or Latino'   : [7.3, 6.2,5.7,6.9,5.3,5.4,3.8,8.6,9.2,5.9,4.8,11.6,9.0,6.7,6.1,5.3,9.5,6.7,4.7,7.0,7.1,6.4,8.4,8.2,4.2,8.1,8.8,19.9,7.5,6.1,4.6,7.1,5.6,8.0],\n",
    "            'American Indian or Alaska Native'   : [0.2,0.5,0.2,0.3,0.0,0.0,0.1,0.3,0.3,0.2,0.2,0.2,0.8,0.0,0.0,0.0,0.4,0.0,1.2,0.0,0.2,0.7,0.8,0.3,1.0,0.4,1.3,0.5,0.4,0.5,0.2,0.0,0.2,0.3],\n",
    "            'Asian'   : [12.7,9.7,10.6,5.8,10.6,17.5,14.4,6.5,5.6,16.1,5.7,6.2,9.6,10.4,23.9,18.9,12.3,24.2,18.6,13.5,13.3,12.7,4.2,6.1,4.2,5.6,5.4,4.4,2.9,4.2,4.9,13.6,6.3,7.0],\n",
    "            'Black or African American': [4.9,12.8,3.3,1.8,2.0,4.0,1.8,6.7,4.8,3.3,7.3,10.4,11.6,3.3,3.3,2.1,6.6,3.2,16.3,3.1,2.7,5.1,21.4,13.4,13.5,10.1,16.1,1.2,4.9,3.5,3.2,11.3,9.9,16.9],\n",
    "            'More than one race': [3.4,3.2,3.4,2.7,2.7,2.6,3.1,3.1,3.1,3.3,2.6,3.7,2.4,3.8,2.4,3.0,0.8,2.7,1.2,5.0,1.5,2.3,2.2,1.9,3.1,1.6,3.2,3.0,2.0,2.1,3.4,2.5,3.0,2.5],\n",
    "            'Other race or race not reported': [1.1,1.5,1.4,1.5,1.2,2.1,2.4,0.6,1.7,1.3,2.1,0.9,1.3,0.4,1.3,0.4,0.8,2.0,1.2,1.9,2.4,1.7,0.8,0.9,0.0,0.9,1.3,1.4,2.1,2.3,1.4,1.8,0.9,1.0],\n",
    "            'Ethnicity not reported': [1.6,2.3,1.7,1.3,1.5,3.6,4.3,2.2,1.7,6.3,2.1,1.9,2.2,2.5,2.0,3.0,3.3,6.0,4.7,2.9,3.7,2.9,3.0,2.3,1.0,1.5,4.4,2.5,1.1,2.0,2.6,2.9,2.8,2.2]}\n",
    "\n",
    "p = figure(y_range=FS, plot_width=1000, plot_height=800, x_range=(0, 150), title=\"Sub Field of Study by Race/Ethnicity  (%)\",\n",
    "           toolbar_location = None)\n",
    "\n",
    "p.hbar_stack(RaceEthn, y='FS', height=0.9, color=Paired8, source=ColumnDataSource(FoS),\n",
    "             legend_label=[\"%s\" % x for x in RaceEthn])\n",
    "\n",
    "#p.add_layout(Legend(), 'right')\n",
    "\n",
    "p.y_range.range_padding = 0.1\n",
    "p.ygrid.grid_line_color = None\n",
    "p.legend.location = (500,50)\n",
    "p.axis.minor_tick_line_color = None\n",
    "p.outline_line_color = None\n",
    "\n",
    "show(p)"
   ]
  },
  {
   "cell_type": "code",
   "execution_count": null,
   "metadata": {},
   "outputs": [],
   "source": [
    "show(p)"
   ]
  },
  {
   "cell_type": "code",
   "execution_count": null,
   "metadata": {},
   "outputs": [],
   "source": []
  },
  {
   "cell_type": "code",
   "execution_count": null,
   "metadata": {},
   "outputs": [],
   "source": []
  },
  {
   "cell_type": "code",
   "execution_count": null,
   "metadata": {},
   "outputs": [],
   "source": []
  }
 ],
 "metadata": {
  "hide_input": false,
  "kernelspec": {
   "display_name": "Python 3",
   "language": "python",
   "name": "python3"
  },
  "language_info": {
   "codemirror_mode": {
    "name": "ipython",
    "version": 3
   },
   "file_extension": ".py",
   "mimetype": "text/x-python",
   "name": "python",
   "nbconvert_exporter": "python",
   "pygments_lexer": "ipython3",
   "version": "3.8.5"
  },
  "latex_envs": {
   "LaTeX_envs_menu_present": true,
   "autoclose": false,
   "autocomplete": true,
   "bibliofile": "biblio.bib",
   "cite_by": "apalike",
   "current_citInitial": 1,
   "eqLabelWithNumbers": true,
   "eqNumInitial": 1,
   "hotkeys": {
    "equation": "Ctrl-E",
    "itemize": "Ctrl-I"
   },
   "labels_anchors": false,
   "latex_user_defs": false,
   "report_style_numbering": false,
   "user_envs_cfg": false
  },
  "toc": {
   "base_numbering": 1,
   "nav_menu": {},
   "number_sections": true,
   "sideBar": true,
   "skip_h1_title": false,
   "title_cell": "Table of Contents",
   "title_sidebar": "Contents",
   "toc_cell": false,
   "toc_position": {},
   "toc_section_display": true,
   "toc_window_display": false
  }
 },
 "nbformat": 4,
 "nbformat_minor": 4
}
